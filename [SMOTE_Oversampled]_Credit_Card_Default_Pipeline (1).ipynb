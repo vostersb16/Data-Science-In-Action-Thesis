{
  "nbformat": 4,
  "nbformat_minor": 0,
  "metadata": {
    "colab": {
      "name": "[Smote Oversampled] Credit_Card_Default_Pipeline.ipynb",
      "provenance": [],
      "collapsed_sections": []
    },
    "kernelspec": {
      "name": "python3",
      "display_name": "Python 3"
    }
  },
  "cells": [
    {
      "cell_type": "markdown",
      "metadata": {
        "id": "6mAIZvSSJ4fv"
      },
      "source": [
        "# **1) Import all packages**"
      ]
    },
    {
      "cell_type": "code",
      "metadata": {
        "id": "RmSOwTh11S9Y",
        "colab": {
          "base_uri": "https://localhost:8080/"
        },
        "outputId": "d493c509-89f0-4676-e550-1ed2bd498193"
      },
      "source": [
        "import os\n",
        "import numpy as np \n",
        "import pandas as pd\n",
        "import tensorflow as tf\n",
        "import matplotlib.pyplot as plt\n",
        "import keras\n",
        "import math\n",
        "from tensorflow.python.client import device_lib\n",
        "from sklearn.model_selection import train_test_split \n",
        "from numpy.random import seed\n",
        "from sklearn.preprocessing import LabelEncoder\n",
        "from keras.callbacks import ModelCheckpoint\n",
        "from keras.callbacks import EarlyStopping\n",
        "from keras.utils import to_categorical\n",
        "from keras import backend as K\n",
        "from keras.models import Sequential\n",
        "from tensorflow.keras import layers, models\n",
        "from tensorflow.keras.models import Model\n",
        "from sklearn.tree import DecisionTreeClassifier,DecisionTreeRegressor\n",
        "import tensorflow as tf\n",
        "from sklearn.linear_model import LogisticRegression\n",
        "from imblearn.over_sampling import SMOTE\n",
        "from sklearn.preprocessing import MinMaxScaler, Normalizer\n",
        "from sklearn.metrics import accuracy_score, f1_score, precision_score, recall_score, classification_report, confusion_matrix, roc_auc_score, roc_curve\n",
        "tf.random.set_seed(42)\n",
        "seed(42)"
      ],
      "execution_count": 2,
      "outputs": [
        {
          "output_type": "stream",
          "text": [
            "/usr/local/lib/python3.6/dist-packages/sklearn/externals/six.py:31: FutureWarning: The module is deprecated in version 0.21 and will be removed in version 0.23 since we've dropped support for Python 2.7. Please rely on the official version of six (https://pypi.org/project/six/).\n",
            "  \"(https://pypi.org/project/six/).\", FutureWarning)\n",
            "/usr/local/lib/python3.6/dist-packages/sklearn/utils/deprecation.py:144: FutureWarning: The sklearn.neighbors.base module is  deprecated in version 0.22 and will be removed in version 0.24. The corresponding classes / functions should instead be imported from sklearn.neighbors. Anything that cannot be imported from sklearn.neighbors is now part of the private API.\n",
            "  warnings.warn(message, FutureWarning)\n"
          ],
          "name": "stderr"
        }
      ]
    },
    {
      "cell_type": "markdown",
      "metadata": {
        "id": "w4E73F0G1Koa"
      },
      "source": [
        "# **2) Get Dataset**"
      ]
    },
    {
      "cell_type": "code",
      "metadata": {
        "id": "X95bNaiF1eMD"
      },
      "source": [
        "df = pd.read_excel('/content/drive/My Drive/Tilburg University/DS&S/Thesis/Google Collab/Default Credit Card Clients/Data/default of credit card clients.xls', index_col=0)"
      ],
      "execution_count": 3,
      "outputs": []
    },
    {
      "cell_type": "code",
      "metadata": {
        "id": "hkY7uoj91iKE",
        "colab": {
          "base_uri": "https://localhost:8080/"
        },
        "outputId": "c2ace2d7-d9e0-4d14-f67e-c6e0ecf402ac"
      },
      "source": [
        "print(df.head())\n",
        "print(df.shape)\n",
        "print(df.shape)"
      ],
      "execution_count": 4,
      "outputs": [
        {
          "output_type": "stream",
          "text": [
            "           X1   X2         X3  ...       X22       X23                           Y\n",
            "ID  LIMIT_BAL  SEX  EDUCATION  ...  PAY_AMT5  PAY_AMT6  default payment next month\n",
            "1       20000    2          2  ...         0         0                           1\n",
            "2      120000    2          2  ...         0      2000                           1\n",
            "3       90000    2          2  ...      1000      5000                           0\n",
            "4       50000    2          2  ...      1069      1000                           0\n",
            "\n",
            "[5 rows x 24 columns]\n",
            "(30001, 24)\n",
            "(30001, 24)\n"
          ],
          "name": "stdout"
        }
      ]
    },
    {
      "cell_type": "code",
      "metadata": {
        "id": "0t-pVJyZTHiw",
        "colab": {
          "base_uri": "https://localhost:8080/"
        },
        "outputId": "07fba7c4-61e2-4b20-88c2-320d1c929295"
      },
      "source": [
        "print(df.columns)"
      ],
      "execution_count": 5,
      "outputs": [
        {
          "output_type": "stream",
          "text": [
            "Index(['X1', 'X2', 'X3', 'X4', 'X5', 'X6', 'X7', 'X8', 'X9', 'X10', 'X11',\n",
            "       'X12', 'X13', 'X14', 'X15', 'X16', 'X17', 'X18', 'X19', 'X20', 'X21',\n",
            "       'X22', 'X23', 'Y'],\n",
            "      dtype='object')\n"
          ],
          "name": "stdout"
        }
      ]
    },
    {
      "cell_type": "markdown",
      "metadata": {
        "id": "U52cin581rFl"
      },
      "source": [
        "# **3) SMOTE Oversample Dataset**"
      ]
    },
    {
      "cell_type": "code",
      "metadata": {
        "id": "_62jfoOVHkXz",
        "colab": {
          "base_uri": "https://localhost:8080/"
        },
        "outputId": "df112b0f-3280-4ef4-e4b0-436b8939acaf"
      },
      "source": [
        "df['Y'].value_counts()"
      ],
      "execution_count": 6,
      "outputs": [
        {
          "output_type": "execute_result",
          "data": {
            "text/plain": [
              "0                             23364\n",
              "1                              6636\n",
              "default payment next month        1\n",
              "Name: Y, dtype: int64"
            ]
          },
          "metadata": {
            "tags": []
          },
          "execution_count": 6
        }
      ]
    },
    {
      "cell_type": "code",
      "metadata": {
        "id": "1pShJTstgrU9",
        "colab": {
          "base_uri": "https://localhost:8080/"
        },
        "outputId": "eba9f85c-5035-488d-e864-09f6c03c906d"
      },
      "source": [
        " x = df.isna().sum()\n",
        " print(x)"
      ],
      "execution_count": 7,
      "outputs": [
        {
          "output_type": "stream",
          "text": [
            "X1     0\n",
            "X2     0\n",
            "X3     0\n",
            "X4     0\n",
            "X5     0\n",
            "X6     0\n",
            "X7     0\n",
            "X8     0\n",
            "X9     0\n",
            "X10    0\n",
            "X11    0\n",
            "X12    0\n",
            "X13    0\n",
            "X14    0\n",
            "X15    0\n",
            "X16    0\n",
            "X17    0\n",
            "X18    0\n",
            "X19    0\n",
            "X20    0\n",
            "X21    0\n",
            "X22    0\n",
            "X23    0\n",
            "Y      0\n",
            "dtype: int64\n"
          ],
          "name": "stdout"
        }
      ]
    },
    {
      "cell_type": "code",
      "metadata": {
        "id": "Y3QIPVSGTzYO"
      },
      "source": [
        "#Get labels\n",
        "labels = df.pop('Y')"
      ],
      "execution_count": 8,
      "outputs": []
    },
    {
      "cell_type": "code",
      "metadata": {
        "id": "-uUAXWOs2qkK",
        "colab": {
          "base_uri": "https://localhost:8080/"
        },
        "outputId": "badaf667-5bd8-4321-831d-b5b7d14fcacc"
      },
      "source": [
        "labels_array = labels[1:len(labels)].to_numpy() \n",
        "print(labels_array)\n",
        "labelsv2 = np.vstack(labels_array)\n",
        "print(labelsv2)\n",
        "labels[1:len(labels)].value_counts(normalize=True) * 100"
      ],
      "execution_count": 9,
      "outputs": [
        {
          "output_type": "stream",
          "text": [
            "[1 1 0 ... 1 1 1]\n",
            "[[1]\n",
            " [1]\n",
            " [0]\n",
            " ...\n",
            " [1]\n",
            " [1]\n",
            " [1]]\n"
          ],
          "name": "stdout"
        },
        {
          "output_type": "execute_result",
          "data": {
            "text/plain": [
              "0    77.88\n",
              "1    22.12\n",
              "Name: Y, dtype: float64"
            ]
          },
          "metadata": {
            "tags": []
          },
          "execution_count": 9
        }
      ]
    },
    {
      "cell_type": "code",
      "metadata": {
        "id": "LCQbRYWt2ul9"
      },
      "source": [
        "#Split data\n",
        "X_train, X_test, y_train, y_test =  train_test_split(df[1:len(df)], labelsv2, train_size=0.85, test_size=0.15, random_state=42)"
      ],
      "execution_count": 10,
      "outputs": []
    },
    {
      "cell_type": "code",
      "metadata": {
        "id": "JzobC3QsICFZ",
        "colab": {
          "base_uri": "https://localhost:8080/"
        },
        "outputId": "7133b9da-d9df-44df-85a9-cdf420266b7d"
      },
      "source": [
        "print(X_train.shape)\n",
        "print(y_train.shape)"
      ],
      "execution_count": 11,
      "outputs": [
        {
          "output_type": "stream",
          "text": [
            "(25500, 23)\n",
            "(25500, 1)\n"
          ],
          "name": "stdout"
        }
      ]
    },
    {
      "cell_type": "code",
      "metadata": {
        "id": "BBUhluf-tqkJ"
      },
      "source": [
        "#Scale Data\n",
        "# Training Data\n",
        "X_train = MinMaxScaler().fit_transform(X_train)\n",
        "\n",
        "# Testing Data\n",
        "X_test = MinMaxScaler().fit_transform(X_test)"
      ],
      "execution_count": 12,
      "outputs": []
    },
    {
      "cell_type": "code",
      "metadata": {
        "id": "Z0p7g5wVHe_y",
        "colab": {
          "base_uri": "https://localhost:8080/"
        },
        "outputId": "731ce3f8-c801-4eaf-d1b8-2ccab352f105"
      },
      "source": [
        "# Synthesize minority class datapoints using SMOTE\n",
        "sm = SMOTE(random_state=42, sampling_strategy='minority')\n",
        "smote_x_train, smote_y_train = sm.fit_resample(X_train, y_train.ravel())\n",
        "smote_x_test, smote_y_test = sm.fit_resample(X_test, y_test.ravel())"
      ],
      "execution_count": 13,
      "outputs": [
        {
          "output_type": "stream",
          "text": [
            "/usr/local/lib/python3.6/dist-packages/sklearn/utils/deprecation.py:87: FutureWarning: Function safe_indexing is deprecated; safe_indexing is deprecated in version 0.22 and will be removed in version 0.24.\n",
            "  warnings.warn(msg, category=FutureWarning)\n",
            "/usr/local/lib/python3.6/dist-packages/sklearn/utils/deprecation.py:87: FutureWarning: Function safe_indexing is deprecated; safe_indexing is deprecated in version 0.22 and will be removed in version 0.24.\n",
            "  warnings.warn(msg, category=FutureWarning)\n"
          ],
          "name": "stderr"
        }
      ]
    },
    {
      "cell_type": "code",
      "metadata": {
        "id": "aQhJcgyWIr0N"
      },
      "source": [
        "X_train = smote_x_train\n",
        "y_train = smote_y_train\n",
        "X_test = smote_x_test\n",
        "y_test = smote_y_test"
      ],
      "execution_count": 14,
      "outputs": []
    },
    {
      "cell_type": "markdown",
      "metadata": {
        "id": "xKh4xsun6uzh"
      },
      "source": [
        "# **4) Vanilla Decision Tree**"
      ]
    },
    {
      "cell_type": "code",
      "metadata": {
        "id": "DVU6rc2h62XE",
        "colab": {
          "base_uri": "https://localhost:8080/"
        },
        "outputId": "44a0dfd2-91c7-4415-ef1c-55ea3d0bb02a"
      },
      "source": [
        "#Create decision tree for specified depth of 5 and 10 \n",
        "model = DecisionTreeClassifier(max_depth=10,random_state=16)\n",
        "model.fit(X_train,y_train)"
      ],
      "execution_count": 44,
      "outputs": [
        {
          "output_type": "execute_result",
          "data": {
            "text/plain": [
              "DecisionTreeClassifier(ccp_alpha=0.0, class_weight=None, criterion='gini',\n",
              "                       max_depth=10, max_features=None, max_leaf_nodes=None,\n",
              "                       min_impurity_decrease=0.0, min_impurity_split=None,\n",
              "                       min_samples_leaf=1, min_samples_split=2,\n",
              "                       min_weight_fraction_leaf=0.0, presort='deprecated',\n",
              "                       random_state=16, splitter='best')"
            ]
          },
          "metadata": {
            "tags": []
          },
          "execution_count": 44
        }
      ]
    },
    {
      "cell_type": "code",
      "metadata": {
        "id": "CI_4NZp771fb"
      },
      "source": [
        "#Get predictions of vanilla DT\n",
        "res_pred = model.predict(X_test)"
      ],
      "execution_count": 45,
      "outputs": []
    },
    {
      "cell_type": "code",
      "metadata": {
        "id": "9g_IKP-Y73yI",
        "colab": {
          "base_uri": "https://localhost:8080/"
        },
        "outputId": "29ddbbef-ed96-4b82-a091-48f45fec7ce8"
      },
      "source": [
        "#Get various scores\n",
        "acc = accuracy_score(y_test, res_pred)\n",
        "rec = recall_score(y_test, res_pred,average='macro')\n",
        "prec = precision_score(y_test, res_pred,average='macro')\n",
        "auc = roc_auc_score(y_test,res_pred, average='macro')\n",
        "print('Accuracy:', acc)\n",
        "print('Recall: ', rec)\n",
        "print('Precision:', prec)\n",
        "print('AUC: ', auc)"
      ],
      "execution_count": 46,
      "outputs": [
        {
          "output_type": "stream",
          "text": [
            "Accuracy: 0.5058621675722047\n",
            "Recall:  0.5058621675722048\n",
            "Precision: 0.563327819966212\n",
            "AUC:  0.5534744066342578\n"
          ],
          "name": "stdout"
        }
      ]
    },
    {
      "cell_type": "code",
      "metadata": {
        "id": "epQqGC8P2u_c"
      },
      "source": [
        "#Save for later use\n",
        "#np.save(\"/content/drive/My Drive/Tilburg University/DS&S/Thesis/Google Collab/Default Credit Card Clients/Data/SMOTE_train.npy\",smote_x_train)\n",
        "#np.save(\"/content/drive/My Drive/Tilburg University/DS&S/Thesis/Google Collab/Default Credit Card Clients/Data/SMOTE_trainlabels.npy\",smote_y_train)\n",
        "#np.save(\"/content/drive/My Drive/Tilburg University/DS&S/Thesis/Google Collab/Default Credit Card Clients/Data/SMOTE_test.npy\",smote_x_test)\n",
        "#np.save(\"/content/drive/My Drive/Tilburg University/DS&S/Thesis/Google Collab/Default Credit Card Clients/Data/SMOTE_testlabels.npy\",smote_y_test)"
      ],
      "execution_count": 18,
      "outputs": []
    },
    {
      "cell_type": "code",
      "metadata": {
        "id": "uzgRNqCV3feO"
      },
      "source": [
        "#Open if needed to re-run\n",
        "#X_train = np.load(\"/content/drive/My Drive/Tilburg University/DS&S/Thesis/Google Collab/Default Credit Card Clients/Data/SMOTE_train.npy\")\n",
        "#y_train = np.load(\"/content/drive/My Drive/Tilburg University/DS&S/Thesis/Google Collab/Default Credit Card Clients/Data/SMOTE_trainlabels.npy\")\n",
        "#X_test = np.load(\"/content/drive/My Drive/Tilburg University/DS&S/Thesis/Google Collab/Default Credit Card Clients/Data/SMOTE_test.npy\")\n",
        "#y_test = np.load(\"/content/drive/My Drive/Tilburg University/DS&S/Thesis/Google Collab/Default Credit Card Clients/Data/SMOTE_testlabels.npy\")"
      ],
      "execution_count": 19,
      "outputs": []
    },
    {
      "cell_type": "markdown",
      "metadata": {
        "id": "K7eAjDmNHCfm"
      },
      "source": [
        "# **5) Baseline Model**"
      ]
    },
    {
      "cell_type": "code",
      "metadata": {
        "id": "DVc44uyyHklG"
      },
      "source": [
        "log_X_train = X_train\n",
        "log_y_train = y_train\n",
        "log_X_test = X_test\n",
        "log_y_test = y_test"
      ],
      "execution_count": 20,
      "outputs": []
    },
    {
      "cell_type": "code",
      "metadata": {
        "colab": {
          "base_uri": "https://localhost:8080/"
        },
        "id": "_2prrDp6Ho51",
        "outputId": "9297a3aa-16d3-4ec7-d143-343292e0ec14"
      },
      "source": [
        "#Create Logistic Regression Model\n",
        "logreg = LogisticRegression(max_iter= 3000, random_state=16)\n",
        "logreg.fit(log_X_train,log_y_train)"
      ],
      "execution_count": 21,
      "outputs": [
        {
          "output_type": "execute_result",
          "data": {
            "text/plain": [
              "LogisticRegression(C=1.0, class_weight=None, dual=False, fit_intercept=True,\n",
              "                   intercept_scaling=1, l1_ratio=None, max_iter=3000,\n",
              "                   multi_class='auto', n_jobs=None, penalty='l2',\n",
              "                   random_state=16, solver='lbfgs', tol=0.0001, verbose=0,\n",
              "                   warm_start=False)"
            ]
          },
          "metadata": {
            "tags": []
          },
          "execution_count": 21
        }
      ]
    },
    {
      "cell_type": "code",
      "metadata": {
        "colab": {
          "base_uri": "https://localhost:8080/"
        },
        "id": "txVtVzaEHqYp",
        "outputId": "64847e10-8e0b-4244-a952-dc21ea10f456"
      },
      "source": [
        "#Get Baseline score\n",
        "logit_roc_auc = roc_auc_score(y_test, logreg.predict(X_test))\n",
        "print(logit_roc_auc)"
      ],
      "execution_count": 22,
      "outputs": [
        {
          "output_type": "stream",
          "text": [
            "0.6436945953674578\n"
          ],
          "name": "stdout"
        }
      ]
    },
    {
      "cell_type": "markdown",
      "metadata": {
        "id": "Al2qnRKd2yi1"
      },
      "source": [
        "# **6) Built Neural Network**"
      ]
    },
    {
      "cell_type": "code",
      "metadata": {
        "id": "G0kMNjtQ4G8I",
        "colab": {
          "base_uri": "https://localhost:8080/"
        },
        "outputId": "bff66649-fff0-459f-e1f2-dee744464d80"
      },
      "source": [
        "print(X_train.shape)\n",
        "print(X_train)\n",
        "print(y_train.shape)\n",
        "X_train = np.asarray(X_train).astype('float32')"
      ],
      "execution_count": 23,
      "outputs": [
        {
          "output_type": "stream",
          "text": [
            "(39734, 23)\n",
            "[[2.02020202e-02 1.00000000e+00 3.33333333e-01 ... 5.40257649e-03\n",
            "  2.68680441e-03 0.00000000e+00]\n",
            " [1.61616162e-01 0.00000000e+00 6.66666667e-01 ... 0.00000000e+00\n",
            "  1.14927707e-02 1.13821107e-02]\n",
            " [3.33333333e-01 0.00000000e+00 1.66666667e-01 ... 3.09178744e-03\n",
            "  2.14545787e-02 3.54742451e-01]\n",
            " ...\n",
            " [3.20413901e-02 1.00000000e+00 1.66666667e-01 ... 0.00000000e+00\n",
            "  0.00000000e+00 0.00000000e+00]\n",
            " [2.37980446e-01 1.00000000e+00 1.66666667e-01 ... 0.00000000e+00\n",
            "  0.00000000e+00 2.09341647e-04]\n",
            " [1.12317916e-01 0.00000000e+00 3.33333333e-01 ... 1.77133655e-03\n",
            "  3.13240460e-03 2.80775372e-03]]\n",
            "(39734,)\n"
          ],
          "name": "stdout"
        }
      ]
    },
    {
      "cell_type": "code",
      "metadata": {
        "id": "8-kzt_7Z4IBs",
        "colab": {
          "base_uri": "https://localhost:8080/"
        },
        "outputId": "9cdab0be-0097-47f9-824f-feabc62585c2"
      },
      "source": [
        "print(X_test.shape)\n",
        "print(y_test.shape)\n",
        "print(y_test)\n",
        "X_test = np.asarray(X_test).astype('float32')"
      ],
      "execution_count": 24,
      "outputs": [
        {
          "output_type": "stream",
          "text": [
            "(6994, 23)\n",
            "(6994,)\n",
            "[0 0 0 ... 1 1 1]\n"
          ],
          "name": "stdout"
        }
      ]
    },
    {
      "cell_type": "code",
      "metadata": {
        "id": "BlVSpppp4JRy",
        "colab": {
          "base_uri": "https://localhost:8080/"
        },
        "outputId": "dfa90166-e57c-4352-a3e4-545978161304"
      },
      "source": [
        "#Prepare Labels\n",
        "y_train = np.array(keras.utils.to_categorical(y_train))\n",
        "y_test = np.array(keras.utils.to_categorical(y_test))\n",
        "print(y_train.shape)\n",
        "print(y_train[:10])"
      ],
      "execution_count": 25,
      "outputs": [
        {
          "output_type": "stream",
          "text": [
            "(39734, 2)\n",
            "[[1. 0.]\n",
            " [1. 0.]\n",
            " [1. 0.]\n",
            " [1. 0.]\n",
            " [0. 1.]\n",
            " [1. 0.]\n",
            " [1. 0.]\n",
            " [1. 0.]\n",
            " [1. 0.]\n",
            " [1. 0.]]\n"
          ],
          "name": "stdout"
        }
      ]
    },
    {
      "cell_type": "code",
      "metadata": {
        "id": "M2nK12ld4QMx"
      },
      "source": [
        "#Metrics for Neural Network\n",
        "def recall_m(y_true, y_pred):\n",
        "    true_positives = K.sum(K.round(K.clip(y_true * y_pred, 0, 1)))\n",
        "    possible_positives = K.sum(K.round(K.clip(y_true, 0, 1)))\n",
        "    recall = true_positives / (possible_positives + K.epsilon())\n",
        "    return recall\n",
        "\n",
        "def precision_m(y_true, y_pred):\n",
        "    true_positives = K.sum(K.round(K.clip(y_true * y_pred, 0, 1)))\n",
        "    predicted_positives = K.sum(K.round(K.clip(y_pred, 0, 1)))\n",
        "    precision = true_positives / (predicted_positives + K.epsilon())\n",
        "    return precision\n",
        "\n",
        "def f1_m(y_true, y_pred):\n",
        "    precision = precision_m(y_true, y_pred)\n",
        "    recall = recall_m(y_true, y_pred)\n",
        "    return 2*((precision*recall)/(precision+recall+K.epsilon()))\n",
        "\n",
        "val_auc = tf.keras.metrics.AUC()"
      ],
      "execution_count": 26,
      "outputs": []
    },
    {
      "cell_type": "code",
      "metadata": {
        "id": "5WtpdDJm4iH_",
        "colab": {
          "base_uri": "https://localhost:8080/"
        },
        "outputId": "c47bd25e-f386-4cf7-ca59-10260122a4ce"
      },
      "source": [
        "#Function to built model\n",
        "def build_model():\n",
        "  inputs = layers.Input(shape=(23))\n",
        "\n",
        "  x = layers.Dense(23,activation='relu',name='fc1')(inputs)\n",
        "\n",
        "  x = layers.Dense(20,activation='relu',name='fc2')(x)\n",
        "\n",
        "  x = layers.Dense(10,activation='relu',name='fc3')(x)\n",
        "\n",
        "  x = layers.Dense(2,name='logits')(x)\n",
        "\n",
        "  preds = layers.Activation('softmax',name='Softmax')(x)\n",
        "\n",
        "  model = Model(inputs=inputs, outputs=preds)\n",
        "  model.summary()\n",
        "  return model\n",
        "model = build_model()"
      ],
      "execution_count": 27,
      "outputs": [
        {
          "output_type": "stream",
          "text": [
            "Model: \"functional_1\"\n",
            "_________________________________________________________________\n",
            "Layer (type)                 Output Shape              Param #   \n",
            "=================================================================\n",
            "input_1 (InputLayer)         [(None, 23)]              0         \n",
            "_________________________________________________________________\n",
            "fc1 (Dense)                  (None, 23)                552       \n",
            "_________________________________________________________________\n",
            "fc2 (Dense)                  (None, 20)                480       \n",
            "_________________________________________________________________\n",
            "fc3 (Dense)                  (None, 10)                210       \n",
            "_________________________________________________________________\n",
            "logits (Dense)               (None, 2)                 22        \n",
            "_________________________________________________________________\n",
            "Softmax (Activation)         (None, 2)                 0         \n",
            "=================================================================\n",
            "Total params: 1,264\n",
            "Trainable params: 1,264\n",
            "Non-trainable params: 0\n",
            "_________________________________________________________________\n"
          ],
          "name": "stdout"
        }
      ]
    },
    {
      "cell_type": "code",
      "metadata": {
        "id": "A0nhPqLb4z_V"
      },
      "source": [
        "#Saving best performing model\n",
        "filepath = \"/content/drive/My Drive/Tilburg University/DS&S/Thesis/Google Collab/Default Credit Card Clients/Upsampling/Upsampling Models/Model_retestV2.hdf5\""
      ],
      "execution_count": 28,
      "outputs": []
    },
    {
      "cell_type": "code",
      "metadata": {
        "id": "mZcENUaV4sdl"
      },
      "source": [
        "#Set-up filepath and ModelCheckepoint with Earlystopping to save best performing moddel based on Validation AUC\n",
        "model_checkpoint = ModelCheckpoint(filepath,  monitor='val_auc', save_best_only=True, mode='max')\n",
        "es = EarlyStopping(monitor='val_auc', mode='max', verbose=0, patience=5)\n",
        "model.compile(optimizer=\"adam\", loss=\"categorical_crossentropy\", metrics=['acc',f1_m,precision_m, recall_m,tf.keras.metrics.AUC(name='auc')])"
      ],
      "execution_count": 29,
      "outputs": []
    },
    {
      "cell_type": "code",
      "metadata": {
        "id": "cLkwh5js4v-X",
        "colab": {
          "base_uri": "https://localhost:8080/"
        },
        "outputId": "90d4d72b-2b9a-446b-89d7-1b4a11877834"
      },
      "source": [
        "#Set epochs and bach size, and train model \n",
        "num_epoch = 100\n",
        "batch_size = 64\n",
        "model1 = model.fit(x=X_train, y=y_train, epochs=num_epoch, batch_size=batch_size, validation_split=0.15,callbacks=[model_checkpoint,es])"
      ],
      "execution_count": 30,
      "outputs": [
        {
          "output_type": "stream",
          "text": [
            "Epoch 1/100\n",
            "528/528 [==============================] - 4s 7ms/step - loss: 0.6084 - acc: 0.6916 - f1_m: 0.6915 - precision_m: 0.6915 - recall_m: 0.6915 - auc: 0.7334 - val_loss: 0.7659 - val_acc: 0.4444 - val_f1_m: 0.4444 - val_precision_m: 0.4444 - val_recall_m: 0.4444 - val_auc: 0.5467\n",
            "Epoch 2/100\n",
            "528/528 [==============================] - 1s 2ms/step - loss: 0.5738 - acc: 0.7226 - f1_m: 0.7227 - precision_m: 0.7227 - recall_m: 0.7227 - auc: 0.7707 - val_loss: 0.9043 - val_acc: 0.4127 - val_f1_m: 0.4130 - val_precision_m: 0.4130 - val_recall_m: 0.4130 - val_auc: 0.4459\n",
            "Epoch 3/100\n",
            "528/528 [==============================] - 1s 2ms/step - loss: 0.5678 - acc: 0.7248 - f1_m: 0.7248 - precision_m: 0.7248 - recall_m: 0.7248 - auc: 0.7775 - val_loss: 0.7496 - val_acc: 0.4716 - val_f1_m: 0.4713 - val_precision_m: 0.4713 - val_recall_m: 0.4713 - val_auc: 0.6220\n",
            "Epoch 4/100\n",
            "528/528 [==============================] - 1s 2ms/step - loss: 0.5645 - acc: 0.7265 - f1_m: 0.7265 - precision_m: 0.7265 - recall_m: 0.7265 - auc: 0.7810 - val_loss: 0.7512 - val_acc: 0.4699 - val_f1_m: 0.4697 - val_precision_m: 0.4697 - val_recall_m: 0.4697 - val_auc: 0.6041\n",
            "Epoch 5/100\n",
            "528/528 [==============================] - 1s 2ms/step - loss: 0.5619 - acc: 0.7275 - f1_m: 0.7275 - precision_m: 0.7275 - recall_m: 0.7275 - auc: 0.7837 - val_loss: 0.7380 - val_acc: 0.4756 - val_f1_m: 0.4763 - val_precision_m: 0.4763 - val_recall_m: 0.4763 - val_auc: 0.6208\n",
            "Epoch 6/100\n",
            "528/528 [==============================] - 1s 2ms/step - loss: 0.5596 - acc: 0.7281 - f1_m: 0.7282 - precision_m: 0.7282 - recall_m: 0.7282 - auc: 0.7859 - val_loss: 0.7275 - val_acc: 0.4945 - val_f1_m: 0.4951 - val_precision_m: 0.4951 - val_recall_m: 0.4951 - val_auc: 0.6267\n",
            "Epoch 7/100\n",
            "528/528 [==============================] - 1s 2ms/step - loss: 0.5569 - acc: 0.7297 - f1_m: 0.7297 - precision_m: 0.7297 - recall_m: 0.7297 - auc: 0.7887 - val_loss: 0.6819 - val_acc: 0.5204 - val_f1_m: 0.5217 - val_precision_m: 0.5217 - val_recall_m: 0.5217 - val_auc: 0.6755\n",
            "Epoch 8/100\n",
            "528/528 [==============================] - 1s 2ms/step - loss: 0.5550 - acc: 0.7298 - f1_m: 0.7298 - precision_m: 0.7298 - recall_m: 0.7298 - auc: 0.7904 - val_loss: 0.8108 - val_acc: 0.4667 - val_f1_m: 0.4675 - val_precision_m: 0.4675 - val_recall_m: 0.4675 - val_auc: 0.5530\n",
            "Epoch 9/100\n",
            "528/528 [==============================] - 1s 2ms/step - loss: 0.5532 - acc: 0.7313 - f1_m: 0.7313 - precision_m: 0.7313 - recall_m: 0.7313 - auc: 0.7920 - val_loss: 0.7265 - val_acc: 0.5033 - val_f1_m: 0.5037 - val_precision_m: 0.5037 - val_recall_m: 0.5037 - val_auc: 0.6363\n",
            "Epoch 10/100\n",
            "528/528 [==============================] - 1s 2ms/step - loss: 0.5504 - acc: 0.7329 - f1_m: 0.7329 - precision_m: 0.7329 - recall_m: 0.7329 - auc: 0.7946 - val_loss: 0.6741 - val_acc: 0.5331 - val_f1_m: 0.5333 - val_precision_m: 0.5333 - val_recall_m: 0.5333 - val_auc: 0.6716\n",
            "Epoch 11/100\n",
            "528/528 [==============================] - 1s 2ms/step - loss: 0.5495 - acc: 0.7341 - f1_m: 0.7341 - precision_m: 0.7341 - recall_m: 0.7341 - auc: 0.7953 - val_loss: 0.6337 - val_acc: 0.5533 - val_f1_m: 0.5543 - val_precision_m: 0.5543 - val_recall_m: 0.5543 - val_auc: 0.6931\n",
            "Epoch 12/100\n",
            "528/528 [==============================] - 1s 2ms/step - loss: 0.5480 - acc: 0.7332 - f1_m: 0.7332 - precision_m: 0.7332 - recall_m: 0.7332 - auc: 0.7968 - val_loss: 0.7100 - val_acc: 0.5224 - val_f1_m: 0.5237 - val_precision_m: 0.5237 - val_recall_m: 0.5237 - val_auc: 0.6392\n",
            "Epoch 13/100\n",
            "528/528 [==============================] - 1s 2ms/step - loss: 0.5458 - acc: 0.7358 - f1_m: 0.7358 - precision_m: 0.7358 - recall_m: 0.7358 - auc: 0.7988 - val_loss: 0.6825 - val_acc: 0.5345 - val_f1_m: 0.5357 - val_precision_m: 0.5357 - val_recall_m: 0.5357 - val_auc: 0.6553\n",
            "Epoch 14/100\n",
            "528/528 [==============================] - 1s 2ms/step - loss: 0.5448 - acc: 0.7341 - f1_m: 0.7341 - precision_m: 0.7341 - recall_m: 0.7341 - auc: 0.7998 - val_loss: 0.7031 - val_acc: 0.5457 - val_f1_m: 0.5468 - val_precision_m: 0.5468 - val_recall_m: 0.5468 - val_auc: 0.6428\n",
            "Epoch 15/100\n",
            "528/528 [==============================] - 1s 2ms/step - loss: 0.5434 - acc: 0.7348 - f1_m: 0.7347 - precision_m: 0.7347 - recall_m: 0.7347 - auc: 0.8009 - val_loss: 0.6702 - val_acc: 0.5528 - val_f1_m: 0.5538 - val_precision_m: 0.5538 - val_recall_m: 0.5538 - val_auc: 0.6834\n",
            "Epoch 16/100\n",
            "528/528 [==============================] - 1s 2ms/step - loss: 0.5430 - acc: 0.7360 - f1_m: 0.7360 - precision_m: 0.7360 - recall_m: 0.7360 - auc: 0.8010 - val_loss: 0.7162 - val_acc: 0.5358 - val_f1_m: 0.5370 - val_precision_m: 0.5370 - val_recall_m: 0.5370 - val_auc: 0.6262\n"
          ],
          "name": "stdout"
        }
      ]
    },
    {
      "cell_type": "code",
      "metadata": {
        "id": "KWdQFUmS5cd5",
        "colab": {
          "base_uri": "https://localhost:8080/"
        },
        "outputId": "4b38d732-ec3c-4603-9ef8-9c41ad97e754"
      },
      "source": [
        "#Train Performance\n",
        "prediction_model = tf.keras.models.load_model(filepath, custom_objects={'f1_m':f1_m,'precision_m':precision_m, 'recall_m':recall_m, 'auc': tf.keras.metrics.AUC() }) \n",
        "loss, accuracy, f1_score, precision, recall, auc = prediction_model.evaluate(X_train, y_train, verbose=0, batch_size=64)\n",
        "\n",
        "print('Train Accuracy:',accuracy)\n",
        "print('Train Recall:',recall)\n",
        "print('Train Precision:',precision)\n",
        "print('Train F1:',f1_score)\n",
        "print('Train AUC:',auc)\n",
        "prediction_model.summary()"
      ],
      "execution_count": 31,
      "outputs": [
        {
          "output_type": "stream",
          "text": [
            "Train Accuracy: 0.7048623561859131\n",
            "Train Recall: 0.7048200964927673\n",
            "Train Precision: 0.7048200964927673\n",
            "Train F1: 0.7048200964927673\n",
            "Train AUC: 0.7809620499610901\n",
            "Model: \"functional_1\"\n",
            "_________________________________________________________________\n",
            "Layer (type)                 Output Shape              Param #   \n",
            "=================================================================\n",
            "input_1 (InputLayer)         [(None, 23)]              0         \n",
            "_________________________________________________________________\n",
            "fc1 (Dense)                  (None, 23)                552       \n",
            "_________________________________________________________________\n",
            "fc2 (Dense)                  (None, 20)                480       \n",
            "_________________________________________________________________\n",
            "fc3 (Dense)                  (None, 10)                210       \n",
            "_________________________________________________________________\n",
            "logits (Dense)               (None, 2)                 22        \n",
            "_________________________________________________________________\n",
            "Softmax (Activation)         (None, 2)                 0         \n",
            "=================================================================\n",
            "Total params: 1,264\n",
            "Trainable params: 1,264\n",
            "Non-trainable params: 0\n",
            "_________________________________________________________________\n"
          ],
          "name": "stdout"
        }
      ]
    },
    {
      "cell_type": "code",
      "metadata": {
        "id": "NTRyr7HtIlFZ",
        "colab": {
          "base_uri": "https://localhost:8080/"
        },
        "outputId": "d3404edf-8d7c-4c3e-d979-607d4a93c16c"
      },
      "source": [
        "#Test Performance\n",
        "#filepath = \"/content/drive/My Drive/Tilburg University/DS&S/Thesis/Google Collab/Default Credit Card Clients/CC Models/ModelV4.hdf5\"\n",
        "loss, accuracy, f1_score, precision, recall, auc = prediction_model.evaluate(X_test, y_test, verbose=0, batch_size=64)\n",
        "\n",
        "print('Test Accuracy:',accuracy)\n",
        "print('Test Recall:',recall)\n",
        "print('Test Precision:',precision)\n",
        "print('Test F1:',f1_score)\n",
        "print('Test AUC:',auc)\n",
        "prediction_model.summary()"
      ],
      "execution_count": 32,
      "outputs": [
        {
          "output_type": "stream",
          "text": [
            "Test Accuracy: 0.6844438314437866\n",
            "Test Recall: 0.6839646697044373\n",
            "Test Precision: 0.6839646697044373\n",
            "Test F1: 0.6839646100997925\n",
            "Test AUC: 0.7515403628349304\n",
            "Model: \"functional_1\"\n",
            "_________________________________________________________________\n",
            "Layer (type)                 Output Shape              Param #   \n",
            "=================================================================\n",
            "input_1 (InputLayer)         [(None, 23)]              0         \n",
            "_________________________________________________________________\n",
            "fc1 (Dense)                  (None, 23)                552       \n",
            "_________________________________________________________________\n",
            "fc2 (Dense)                  (None, 20)                480       \n",
            "_________________________________________________________________\n",
            "fc3 (Dense)                  (None, 10)                210       \n",
            "_________________________________________________________________\n",
            "logits (Dense)               (None, 2)                 22        \n",
            "_________________________________________________________________\n",
            "Softmax (Activation)         (None, 2)                 0         \n",
            "=================================================================\n",
            "Total params: 1,264\n",
            "Trainable params: 1,264\n",
            "Non-trainable params: 0\n",
            "_________________________________________________________________\n"
          ],
          "name": "stdout"
        }
      ]
    },
    {
      "cell_type": "code",
      "metadata": {
        "colab": {
          "base_uri": "https://localhost:8080/"
        },
        "id": "7PI--yiiIaxA",
        "outputId": "94bfabf6-7aff-4830-f20f-6c909b628618"
      },
      "source": [
        "#Best Performance\n",
        "best_filepath =  \"/content/drive/My Drive/Tilburg University/DS&S/Thesis/Google Collab/Default Credit Card Clients/Upsampling/Upsampling Models/Model_retestV2.hdf5\"\n",
        "best_model = tf.keras.models.load_model(best_filepath, custom_objects={'f1_m':f1_m,'precision_m':precision_m, 'recall_m':recall_m, 'auc': tf.keras.metrics.AUC() }) \n",
        "loss, accuracy, f1_score, precision, recall, auc = best_model.evaluate(X_test, y_test, verbose=0, batch_size=64)\n",
        "\n",
        "#print('Best Accuracy:',accuracy)\n",
        "#print('Best Recall:',recall)\n",
        "#print('Best Precision:',precision)\n",
        "#print('Best F1:',f1_score)\n",
        "print('Best AUC:',auc)\n",
        "best_model.summary()"
      ],
      "execution_count": 33,
      "outputs": [
        {
          "output_type": "stream",
          "text": [
            "Best AUC: 0.7515403628349304\n",
            "Model: \"functional_1\"\n",
            "_________________________________________________________________\n",
            "Layer (type)                 Output Shape              Param #   \n",
            "=================================================================\n",
            "input_1 (InputLayer)         [(None, 23)]              0         \n",
            "_________________________________________________________________\n",
            "fc1 (Dense)                  (None, 23)                552       \n",
            "_________________________________________________________________\n",
            "fc2 (Dense)                  (None, 20)                480       \n",
            "_________________________________________________________________\n",
            "fc3 (Dense)                  (None, 10)                210       \n",
            "_________________________________________________________________\n",
            "logits (Dense)               (None, 2)                 22        \n",
            "_________________________________________________________________\n",
            "Softmax (Activation)         (None, 2)                 0         \n",
            "=================================================================\n",
            "Total params: 1,264\n",
            "Trainable params: 1,264\n",
            "Non-trainable params: 0\n",
            "_________________________________________________________________\n"
          ],
          "name": "stdout"
        }
      ]
    },
    {
      "cell_type": "markdown",
      "metadata": {
        "id": "7c3oO2hy5jBU"
      },
      "source": [
        "# **7) Generate Soft Targets**"
      ]
    },
    {
      "cell_type": "code",
      "metadata": {
        "id": "bUI1rGez5xYl"
      },
      "source": [
        "#Load the best model\n",
        "model = tf.keras.models.load_model(best_filepath, custom_objects={'f1_m':f1_m,'precision_m':precision_m, 'recall_m':recall_m}) "
      ],
      "execution_count": 34,
      "outputs": []
    },
    {
      "cell_type": "code",
      "metadata": {
        "id": "-UxuewfA5-zO",
        "colab": {
          "base_uri": "https://localhost:8080/"
        },
        "outputId": "615deb81-aac2-4a52-8931-8fb67d185f82"
      },
      "source": [
        "#Compile it again\n",
        "model.compile(optimizer=\"adam\", loss=\"categorical_crossentropy\", metrics=['acc',f1_m,precision_m, recall_m,tf.keras.metrics.AUC()])\n",
        "model.summary()"
      ],
      "execution_count": 35,
      "outputs": [
        {
          "output_type": "stream",
          "text": [
            "Model: \"functional_1\"\n",
            "_________________________________________________________________\n",
            "Layer (type)                 Output Shape              Param #   \n",
            "=================================================================\n",
            "input_1 (InputLayer)         [(None, 23)]              0         \n",
            "_________________________________________________________________\n",
            "fc1 (Dense)                  (None, 23)                552       \n",
            "_________________________________________________________________\n",
            "fc2 (Dense)                  (None, 20)                480       \n",
            "_________________________________________________________________\n",
            "fc3 (Dense)                  (None, 10)                210       \n",
            "_________________________________________________________________\n",
            "logits (Dense)               (None, 2)                 22        \n",
            "_________________________________________________________________\n",
            "Softmax (Activation)         (None, 2)                 0         \n",
            "=================================================================\n",
            "Total params: 1,264\n",
            "Trainable params: 1,264\n",
            "Non-trainable params: 0\n",
            "_________________________________________________________________\n"
          ],
          "name": "stdout"
        }
      ]
    },
    {
      "cell_type": "code",
      "metadata": {
        "id": "uUy4v4Q-6RUa"
      },
      "source": [
        "#Remove last softmax layer and predict again\n",
        "model_sans_softmax = Model(inputs=model.input, outputs=model.get_layer(\"logits\").output)\n",
        "model_logits = model_sans_softmax.predict(X_train)"
      ],
      "execution_count": 36,
      "outputs": []
    },
    {
      "cell_type": "code",
      "metadata": {
        "id": "rG2_we4G6bbc"
      },
      "source": [
        "#Get the logits\n",
        "soft_targets = model_logits"
      ],
      "execution_count": 37,
      "outputs": []
    },
    {
      "cell_type": "code",
      "metadata": {
        "id": "v6PCTR7C-uZm"
      },
      "source": [
        "#Save if needed for later use\n",
        "#np.save(\"/content/drive/My Drive/Tilburg University/DS&S/Thesis/Google Collab/Default Credit Card Clients/Data/CC_Logits.npy\", model_logits)"
      ],
      "execution_count": 38,
      "outputs": []
    },
    {
      "cell_type": "markdown",
      "metadata": {
        "id": "6Y7D05QU_oEk"
      },
      "source": [
        "# **8) Knowledge Distillation Decision Tree**\n"
      ]
    },
    {
      "cell_type": "code",
      "metadata": {
        "id": "NIs6XBb3_3si"
      },
      "source": [
        "#Set up Decision Tree for Knowledge Distillation at given depth \n",
        "model = DecisionTreeRegressor(max_depth=5,random_state=16)"
      ],
      "execution_count": 62,
      "outputs": []
    },
    {
      "cell_type": "code",
      "metadata": {
        "id": "UMJPvtYI_4xB",
        "colab": {
          "base_uri": "https://localhost:8080/"
        },
        "outputId": "9acb306b-ab0e-442c-a4fa-b2325b00d0c9"
      },
      "source": [
        "#Train Decision Tree\n",
        "model.fit(X_train,soft_targets)"
      ],
      "execution_count": 63,
      "outputs": [
        {
          "output_type": "execute_result",
          "data": {
            "text/plain": [
              "DecisionTreeRegressor(ccp_alpha=0.0, criterion='mse', max_depth=5,\n",
              "                      max_features=None, max_leaf_nodes=None,\n",
              "                      min_impurity_decrease=0.0, min_impurity_split=None,\n",
              "                      min_samples_leaf=1, min_samples_split=2,\n",
              "                      min_weight_fraction_leaf=0.0, presort='deprecated',\n",
              "                      random_state=16, splitter='best')"
            ]
          },
          "metadata": {
            "tags": []
          },
          "execution_count": 63
        }
      ]
    },
    {
      "cell_type": "code",
      "metadata": {
        "id": "ptYL2NEH__Si"
      },
      "source": [
        "#Get predictions\n",
        "res_pred = model.predict(X_test)"
      ],
      "execution_count": 64,
      "outputs": []
    },
    {
      "cell_type": "code",
      "metadata": {
        "id": "UYMEDLHyAEHD"
      },
      "source": [
        "# Apply softmax function to output of Decision Tree\n",
        "pred_argmax = np.zeros_like(res_pred)\n",
        "pred_argmax[np.arange(len(res_pred)), res_pred.argmax(1)] = 1 "
      ],
      "execution_count": 65,
      "outputs": []
    },
    {
      "cell_type": "code",
      "metadata": {
        "id": "2T_XADvNAOLn",
        "colab": {
          "base_uri": "https://localhost:8080/"
        },
        "outputId": "b0f3bad8-c3bc-4727-8563-1d0863f0960c"
      },
      "source": [
        "#Get scores of student decision tree\n",
        "acc = accuracy_score(pred_argmax,y_test)\n",
        "rec = recall_score(y_test, pred_argmax,average='macro')\n",
        "prec = precision_score(y_test, pred_argmax,average='macro')\n",
        "auc = roc_auc_score(y_test, pred_argmax,average='macro')\n",
        "print('Accuracy:', acc)\n",
        "print('Recall: ', rec)\n",
        "print('Precision:', prec)\n",
        "print('AUC: ', auc)"
      ],
      "execution_count": 66,
      "outputs": [
        {
          "output_type": "stream",
          "text": [
            "Accuracy: 0.6802973977695167\n",
            "Recall:  0.6802973977695167\n",
            "Precision: 0.7167437049115899\n",
            "AUC:  0.6802973977695167\n"
          ],
          "name": "stdout"
        }
      ]
    }
  ]
}