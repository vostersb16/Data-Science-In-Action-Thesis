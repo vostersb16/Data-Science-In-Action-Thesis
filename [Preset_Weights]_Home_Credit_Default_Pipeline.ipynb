{
  "nbformat": 4,
  "nbformat_minor": 0,
  "metadata": {
    "colab": {
      "name": "[Preset Weights] Home Credit Default Pipeline.ipynb",
      "provenance": [],
      "collapsed_sections": [],
      "toc_visible": true
    },
    "kernelspec": {
      "name": "python3",
      "display_name": "Python 3"
    }
  },
  "cells": [
    {
      "cell_type": "markdown",
      "metadata": {
        "id": "XVK7JelGb8Mw"
      },
      "source": [
        "# **1) Import all packages**"
      ]
    },
    {
      "cell_type": "code",
      "metadata": {
        "id": "_ZAexfkwdSsq"
      },
      "source": [
        "import os\n",
        "import numpy as np \n",
        "import pandas as pd\n",
        "import tensorflow as tf\n",
        "import matplotlib.pyplot as plt\n",
        "import keras\n",
        "import math\n",
        "from tensorflow.python.client import device_lib\n",
        "from sklearn.model_selection import train_test_split \n",
        "from numpy.random import seed\n",
        "from sklearn.preprocessing import LabelEncoder\n",
        "from sklearn.preprocessing import StandardScaler\n",
        "from sklearn.preprocessing import MinMaxScaler\n",
        "from keras.callbacks import ModelCheckpoint\n",
        "from keras.callbacks import EarlyStopping\n",
        "from keras.utils import to_categorical\n",
        "from keras import backend as K\n",
        "from keras.models import Sequential\n",
        "from tensorflow.keras import layers, models\n",
        "from tensorflow.keras.models import Model\n",
        "from sklearn.tree import DecisionTreeClassifier,DecisionTreeRegressor\n",
        "from sklearn.preprocessing import MinMaxScaler, Normalizer\n",
        "from sklearn.linear_model import LogisticRegression\n",
        "from sklearn.utils import class_weight\n",
        "from keras.models import Sequential\n",
        "from keras.regularizers import l1,l2\n",
        "from sklearn.metrics import accuracy_score, f1_score, precision_score, recall_score, classification_report, confusion_matrix, roc_auc_score,roc_curve\n",
        "tf.random.set_seed(42)\n",
        "seed(42)"
      ],
      "execution_count": 3,
      "outputs": []
    },
    {
      "cell_type": "markdown",
      "metadata": {
        "id": "rhKEIp3zb-sp"
      },
      "source": [
        "# **2) Get Dataset**"
      ]
    },
    {
      "cell_type": "code",
      "metadata": {
        "id": "my1XzgTmdeOJ"
      },
      "source": [
        "df= pd.read_csv('/content/drive/My Drive/Tilburg University/DS&S/Thesis/Google Collab/Home Credit Default Dataset/Data/Data Raw/1.processed_columns_merged.csv')"
      ],
      "execution_count": null,
      "outputs": []
    },
    {
      "cell_type": "code",
      "metadata": {
        "id": "-VgXv70HdlT3",
        "colab": {
          "base_uri": "https://localhost:8080/"
        },
        "outputId": "7d6d1ac2-c9ed-4ab9-cefa-bd014aa24f28"
      },
      "source": [
        "print(df.head())\n",
        "print(df.shape)"
      ],
      "execution_count": null,
      "outputs": [
        {
          "output_type": "stream",
          "text": [
            "   AMT_ANNUITY  AMT_CREDIT  ...  SK_ID_CURR_CNT_POS_CASH  SK_ID_CURR_CNT_INSTALL\n",
            "0      24700.5    406597.5  ...                     19.0                    19.0\n",
            "1      35698.5   1293502.5  ...                     28.0                    25.0\n",
            "2       6750.0    135000.0  ...                      4.0                     3.0\n",
            "3      29686.5    312682.5  ...                     21.0                    16.0\n",
            "4      21865.5    513000.0  ...                     66.0                    66.0\n",
            "\n",
            "[5 rows x 416 columns]\n",
            "(356255, 416)\n"
          ],
          "name": "stdout"
        }
      ]
    },
    {
      "cell_type": "code",
      "metadata": {
        "id": "2p2-_2wldzsz"
      },
      "source": [
        "meta_cols = ['SK_ID_CURR']\n",
        "meta_df = df[meta_cols]\n",
        "df.drop(columns=meta_cols, inplace=True)"
      ],
      "execution_count": null,
      "outputs": []
    },
    {
      "cell_type": "code",
      "metadata": {
        "id": "90j-KIQqd8c9"
      },
      "source": [
        "def process_dataframe(input_df, encoder_dict=None):\n",
        "    \"\"\" Process a dataframe into a form useable by LightGBM \"\"\"\n",
        "\n",
        "    # Label encode categoricals\n",
        "    print('Label encoding categorical features...')\n",
        "    categorical_feats = input_df.columns[input_df.dtypes == 'object']\n",
        "    for feat in categorical_feats:\n",
        "        encoder = LabelEncoder()\n",
        "        input_df[feat] = encoder.fit_transform(input_df[feat].fillna('NULL'))\n",
        "    print('Label encoding complete.')\n",
        "\n",
        "    return input_df, categorical_feats.tolist(), encoder_dict"
      ],
      "execution_count": null,
      "outputs": []
    },
    {
      "cell_type": "code",
      "metadata": {
        "id": "Bsq27PCreBPt",
        "colab": {
          "base_uri": "https://localhost:8080/"
        },
        "outputId": "709f4c2c-e59f-44da-b085-6b5dab5b025e"
      },
      "source": [
        "df, categorical_feats, encoder_dict = process_dataframe(input_df=df)\n",
        "\n",
        "# Capture other categorical features not as object data types:\n",
        "non_obj_categoricals = [\n",
        "    'FONDKAPREMONT_MODE', 'HOUR_APPR_PROCESS_START', 'HOUSETYPE_MODE',\n",
        "    'NAME_EDUCATION_TYPE', 'NAME_FAMILY_STATUS', 'NAME_HOUSING_TYPE',\n",
        "    'NAME_INCOME_TYPE', 'NAME_TYPE_SUITE', 'OCCUPATION_TYPE',\n",
        "    'ORGANIZATION_TYPE', 'STATUS', 'NAME_CONTRACT_STATUS_CAVG',\n",
        "    'WALLSMATERIAL_MODE', 'WEEKDAY_APPR_PROCESS_START', 'NAME_CONTRACT_TYPE_BAVG',\n",
        "    'WEEKDAY_APPR_PROCESS_START_BAVG', 'NAME_CASH_LOAN_PURPOSE', 'NAME_CONTRACT_STATUS', \n",
        "    'NAME_PAYMENT_TYPE', 'CODE_REJECT_REASON', 'NAME_TYPE_SUITE_BAVG', \n",
        "    'NAME_CLIENT_TYPE', 'NAME_GOODS_CATEGORY', 'NAME_PORTFOLIO', \n",
        "    'NAME_PRODUCT_TYPE', 'CHANNEL_TYPE', 'NAME_SELLER_INDUSTRY', \n",
        "    'NAME_YIELD_GROUP', 'PRODUCT_COMBINATION', 'NAME_CONTRACT_STATUS_CCAVG' \n",
        "]\n",
        "categorical_feats = categorical_feats + non_obj_categoricals"
      ],
      "execution_count": null,
      "outputs": [
        {
          "output_type": "stream",
          "text": [
            "Label encoding categorical features...\n",
            "Label encoding complete.\n"
          ],
          "name": "stdout"
        }
      ]
    },
    {
      "cell_type": "code",
      "metadata": {
        "id": "AbwNeew3eHtG"
      },
      "source": [
        "# Extract target before scaling\n",
        "labels = df.pop('TARGET')"
      ],
      "execution_count": null,
      "outputs": []
    },
    {
      "cell_type": "code",
      "metadata": {
        "id": "BAWtVOLceLHM",
        "colab": {
          "base_uri": "https://localhost:8080/"
        },
        "outputId": "1fc5e32d-27de-493b-9565-1d8fcb644309"
      },
      "source": [
        "null_counts = df.isnull().sum()\n",
        "null_counts = null_counts[null_counts > 0]\n",
        "null_ratios = null_counts / len(df)\n",
        "\n",
        "# Drop columns over x% null\n",
        "null_thresh = .8\n",
        "null_cols = null_ratios[null_ratios > null_thresh].index\n",
        "df.drop(null_cols, axis=1, inplace=True)\n",
        "print('Columns dropped for being over {}% null:'.format(100*null_thresh))\n",
        "for col in null_cols:\n",
        "    print(col)\n",
        "    if col in categorical_feats:\n",
        "        categorical_feats.pop(col)\n",
        "    \n",
        "# Fill the rest with the mean (TODO: do something better!)\n",
        "# merged_df.fillna(merged_df.median(), inplace=True)\n",
        "df.fillna(0, inplace=True)"
      ],
      "execution_count": null,
      "outputs": [
        {
          "output_type": "stream",
          "text": [
            "Columns dropped for being over 80.0% null:\n",
            "RATE_INTEREST_PRIMARY\n",
            "RATE_INTEREST_PRIVILEGED\n",
            "DAYS_FIRST_DRAWING\n",
            "RATE_INTEREST_PRIMARY_PRVMAX\n",
            "RATE_INTEREST_PRIVILEGED_PRVMAX\n",
            "DAYS_FIRST_DRAWING_PRVMAX\n",
            "RATE_INTEREST_PRIMARY_PRVMIN\n",
            "RATE_INTEREST_PRIVILEGED_PRVMIN\n",
            "DAYS_FIRST_DRAWING_PRVMIN\n",
            "AMT_DRAWINGS_ATM_CURRENT\n",
            "AMT_DRAWINGS_OTHER_CURRENT\n",
            "AMT_DRAWINGS_POS_CURRENT\n",
            "AMT_INST_MIN_REGULARITY\n",
            "AMT_PAYMENT_CURRENT\n",
            "CNT_DRAWINGS_ATM_CURRENT\n",
            "CNT_DRAWINGS_OTHER_CURRENT\n",
            "CNT_DRAWINGS_POS_CURRENT\n",
            "CNT_INSTALMENT_MATURE_CUM\n",
            "AMT_DRAWINGS_ATM_CURRENT_CCMEAN\n",
            "AMT_DRAWINGS_OTHER_CURRENT_CCMEAN\n",
            "AMT_DRAWINGS_POS_CURRENT_CCMEAN\n",
            "AMT_INST_MIN_REGULARITY_CCMEAN\n",
            "AMT_PAYMENT_CURRENT_CCMEAN\n",
            "CNT_DRAWINGS_ATM_CURRENT_CCMEAN\n",
            "CNT_DRAWINGS_OTHER_CURRENT_CCMEAN\n",
            "CNT_DRAWINGS_POS_CURRENT_CCMEAN\n",
            "CNT_INSTALMENT_MATURE_CUM_CCMEAN\n",
            "AMT_DRAWINGS_ATM_CURRENT_CCMAX\n",
            "AMT_DRAWINGS_OTHER_CURRENT_CCMAX\n",
            "AMT_DRAWINGS_POS_CURRENT_CCMAX\n",
            "AMT_INST_MIN_REGULARITY_CCMAX\n",
            "AMT_PAYMENT_CURRENT_CCMAX\n",
            "CNT_DRAWINGS_ATM_CURRENT_CCMAX\n",
            "CNT_DRAWINGS_OTHER_CURRENT_CCMAX\n",
            "CNT_DRAWINGS_POS_CURRENT_CCMAX\n",
            "CNT_INSTALMENT_MATURE_CUM_CCMAX\n",
            "AMT_DRAWINGS_ATM_CURRENT_CCMIN\n",
            "AMT_DRAWINGS_OTHER_CURRENT_CCMIN\n",
            "AMT_DRAWINGS_POS_CURRENT_CCMIN\n",
            "AMT_INST_MIN_REGULARITY_CCMIN\n",
            "AMT_PAYMENT_CURRENT_CCMIN\n",
            "CNT_DRAWINGS_ATM_CURRENT_CCMIN\n",
            "CNT_DRAWINGS_OTHER_CURRENT_CCMIN\n",
            "CNT_DRAWINGS_POS_CURRENT_CCMIN\n",
            "CNT_INSTALMENT_MATURE_CUM_CCMIN\n",
            "MONTHS_BALANCE_B_B\n"
          ],
          "name": "stdout"
        }
      ]
    },
    {
      "cell_type": "code",
      "metadata": {
        "id": "_Dc4FoeKeQ0L",
        "colab": {
          "base_uri": "https://localhost:8080/"
        },
        "outputId": "cbb7a4dc-fffb-4d17-ab9a-2ea07a6dfdc5"
      },
      "source": [
        "#Check LabelEncoding\n",
        "print(df['CHANNEL_TYPE'])"
      ],
      "execution_count": null,
      "outputs": [
        {
          "output_type": "stream",
          "text": [
            "0         8\n",
            "1         8\n",
            "2         7\n",
            "3         8\n",
            "4         7\n",
            "         ..\n",
            "356250    5\n",
            "356251    8\n",
            "356252    7\n",
            "356253    8\n",
            "356254    8\n",
            "Name: CHANNEL_TYPE, Length: 356255, dtype: int64\n"
          ],
          "name": "stdout"
        }
      ]
    },
    {
      "cell_type": "code",
      "metadata": {
        "id": "J5z4PpGjeYBL",
        "colab": {
          "base_uri": "https://localhost:8080/",
          "height": 195
        },
        "outputId": "3a21b0c9-da80-46e9-cb13-776138d8f9bb"
      },
      "source": [
        "cat_feats_idx = np.array([df.columns.get_loc(x) for x in categorical_feats])\n",
        "int_feats_idx = [df.columns.get_loc(x) for x in non_obj_categoricals]\n",
        "cat_feat_lookup = pd.DataFrame({'feature': categorical_feats, 'column_index': cat_feats_idx})\n",
        "cat_feat_lookup.head()"
      ],
      "execution_count": null,
      "outputs": [
        {
          "output_type": "execute_result",
          "data": {
            "text/html": [
              "<div>\n",
              "<style scoped>\n",
              "    .dataframe tbody tr th:only-of-type {\n",
              "        vertical-align: middle;\n",
              "    }\n",
              "\n",
              "    .dataframe tbody tr th {\n",
              "        vertical-align: top;\n",
              "    }\n",
              "\n",
              "    .dataframe thead th {\n",
              "        text-align: right;\n",
              "    }\n",
              "</style>\n",
              "<table border=\"1\" class=\"dataframe\">\n",
              "  <thead>\n",
              "    <tr style=\"text-align: right;\">\n",
              "      <th></th>\n",
              "      <th>feature</th>\n",
              "      <th>column_index</th>\n",
              "    </tr>\n",
              "  </thead>\n",
              "  <tbody>\n",
              "    <tr>\n",
              "      <th>0</th>\n",
              "      <td>CODE_GENDER</td>\n",
              "      <td>18</td>\n",
              "    </tr>\n",
              "    <tr>\n",
              "      <th>1</th>\n",
              "      <td>EMERGENCYSTATE_MODE</td>\n",
              "      <td>32</td>\n",
              "    </tr>\n",
              "    <tr>\n",
              "      <th>2</th>\n",
              "      <td>FLAG_OWN_CAR</td>\n",
              "      <td>63</td>\n",
              "    </tr>\n",
              "    <tr>\n",
              "      <th>3</th>\n",
              "      <td>FLAG_OWN_REALTY</td>\n",
              "      <td>64</td>\n",
              "    </tr>\n",
              "    <tr>\n",
              "      <th>4</th>\n",
              "      <td>FONDKAPREMONT_MODE</td>\n",
              "      <td>73</td>\n",
              "    </tr>\n",
              "  </tbody>\n",
              "</table>\n",
              "</div>"
            ],
            "text/plain": [
              "               feature  column_index\n",
              "0          CODE_GENDER            18\n",
              "1  EMERGENCYSTATE_MODE            32\n",
              "2         FLAG_OWN_CAR            63\n",
              "3      FLAG_OWN_REALTY            64\n",
              "4   FONDKAPREMONT_MODE            73"
            ]
          },
          "metadata": {
            "tags": []
          },
          "execution_count": 13
        }
      ]
    },
    {
      "cell_type": "code",
      "metadata": {
        "id": "UHFrbKAQhtXo",
        "colab": {
          "base_uri": "https://localhost:8080/",
          "height": 195
        },
        "outputId": "ce0ee49c-ad1e-499f-8245-874eb3930945"
      },
      "source": [
        "#Extract Continious Features list and index\n",
        "cont_feats_idx = np.array(\n",
        "    [df.columns.get_loc(x) \n",
        "     for x in df.columns[~df.columns.isin(categorical_feats)]]\n",
        ")\n",
        "cont_feat_lookup = pd.DataFrame(\n",
        "    {'feature': df.columns[~df.columns.isin(categorical_feats)], \n",
        "     'column_index': cont_feats_idx}\n",
        ")\n",
        "cont_feat_lookup.head()"
      ],
      "execution_count": null,
      "outputs": [
        {
          "output_type": "execute_result",
          "data": {
            "text/html": [
              "<div>\n",
              "<style scoped>\n",
              "    .dataframe tbody tr th:only-of-type {\n",
              "        vertical-align: middle;\n",
              "    }\n",
              "\n",
              "    .dataframe tbody tr th {\n",
              "        vertical-align: top;\n",
              "    }\n",
              "\n",
              "    .dataframe thead th {\n",
              "        text-align: right;\n",
              "    }\n",
              "</style>\n",
              "<table border=\"1\" class=\"dataframe\">\n",
              "  <thead>\n",
              "    <tr style=\"text-align: right;\">\n",
              "      <th></th>\n",
              "      <th>feature</th>\n",
              "      <th>column_index</th>\n",
              "    </tr>\n",
              "  </thead>\n",
              "  <tbody>\n",
              "    <tr>\n",
              "      <th>0</th>\n",
              "      <td>AMT_ANNUITY</td>\n",
              "      <td>0</td>\n",
              "    </tr>\n",
              "    <tr>\n",
              "      <th>1</th>\n",
              "      <td>AMT_CREDIT</td>\n",
              "      <td>1</td>\n",
              "    </tr>\n",
              "    <tr>\n",
              "      <th>2</th>\n",
              "      <td>AMT_GOODS_PRICE</td>\n",
              "      <td>2</td>\n",
              "    </tr>\n",
              "    <tr>\n",
              "      <th>3</th>\n",
              "      <td>AMT_INCOME_TOTAL</td>\n",
              "      <td>3</td>\n",
              "    </tr>\n",
              "    <tr>\n",
              "      <th>4</th>\n",
              "      <td>AMT_REQ_CREDIT_BUREAU_DAY</td>\n",
              "      <td>4</td>\n",
              "    </tr>\n",
              "  </tbody>\n",
              "</table>\n",
              "</div>"
            ],
            "text/plain": [
              "                     feature  column_index\n",
              "0                AMT_ANNUITY             0\n",
              "1                 AMT_CREDIT             1\n",
              "2            AMT_GOODS_PRICE             2\n",
              "3           AMT_INCOME_TOTAL             3\n",
              "4  AMT_REQ_CREDIT_BUREAU_DAY             4"
            ]
          },
          "metadata": {
            "tags": []
          },
          "execution_count": 14
        }
      ]
    },
    {
      "cell_type": "code",
      "metadata": {
        "id": "K_mVwnIFj4gX"
      },
      "source": [
        "#Save for features for later\n",
        "#pd.DataFrame(cont_feat_lookup).to_csv(\"/content/drive/My Drive/Tilburg University/DS&S/Thesis/Google Collab/Data/Data Clean/Final/continious_features_names.csv\")\n",
        "#pd.DataFrame(cat_feat_lookup).to_csv(\"/content/drive/My Drive/Tilburg University/DS&S/Thesis/Google Collab/Data/Data Clean/Final/categorical_features_names.csv\")"
      ],
      "execution_count": null,
      "outputs": []
    },
    {
      "cell_type": "code",
      "metadata": {
        "id": "v5gJ05n1h8pB"
      },
      "source": [
        "#Scaling \n",
        "scaler = StandardScaler()\n",
        "final_col_names = df.columns\n",
        "df = df.values\n",
        "df[:, cont_feats_idx] = scaler.fit_transform(df[:, cont_feats_idx])\n",
        "\n",
        "scaler_2 = MinMaxScaler(feature_range=(0, 1))\n",
        "df[:, int_feats_idx] = scaler_2.fit_transform(df[:, int_feats_idx])"
      ],
      "execution_count": null,
      "outputs": []
    },
    {
      "cell_type": "code",
      "metadata": {
        "id": "YUsuewbxiIgt",
        "colab": {
          "base_uri": "https://localhost:8080/"
        },
        "outputId": "721bdf2f-f343-43c6-86a1-abd4391f2ceb"
      },
      "source": [
        "print(df.shape)\n",
        "print(df.dtype)"
      ],
      "execution_count": null,
      "outputs": [
        {
          "output_type": "stream",
          "text": [
            "(356255, 368)\n",
            "float64\n"
          ],
          "name": "stdout"
        }
      ]
    },
    {
      "cell_type": "code",
      "metadata": {
        "id": "UTbdmROJiWgl"
      },
      "source": [
        "#np.save('FINALDATA_Train_Test.npy', df)"
      ],
      "execution_count": null,
      "outputs": []
    },
    {
      "cell_type": "code",
      "metadata": {
        "id": "6tncFlP4ieCi"
      },
      "source": [
        "test = pd.read_csv('/content/drive/My Drive/Tilburg University/DS&S/Thesis/Google Collab/Home Credit Default Dataset/Data/Data Raw//application_test.csv')\n",
        "train = pd.read_csv('/content/drive/My Drive/Tilburg University/DS&S/Thesis/Google Collab/Home Credit Default Dataset/Data/Data Raw/application_train.csv')"
      ],
      "execution_count": null,
      "outputs": []
    },
    {
      "cell_type": "code",
      "metadata": {
        "id": "5-HI6ynZl4Kr",
        "colab": {
          "base_uri": "https://localhost:8080/"
        },
        "outputId": "93bac97e-66a0-4175-d9a9-62ba03c0f0ab"
      },
      "source": [
        "print(train.shape)\n",
        "print(test.shape)"
      ],
      "execution_count": null,
      "outputs": [
        {
          "output_type": "stream",
          "text": [
            "(307511, 122)\n",
            "(48744, 121)\n"
          ],
          "name": "stdout"
        }
      ]
    },
    {
      "cell_type": "code",
      "metadata": {
        "id": "8Dm_J2hOiuL6",
        "colab": {
          "base_uri": "https://localhost:8080/"
        },
        "outputId": "3c6bbef4-5626-4f0c-f422-cac7559217d3"
      },
      "source": [
        "#The test labels are included in this dataset, however, they do not have labels due to the Kaggle competition. Therefore they have to be removed\n",
        "print(test.shape)\n",
        "length = len(train)\n",
        "test_df = df[length:]\n",
        "print(test_df.shape)"
      ],
      "execution_count": null,
      "outputs": [
        {
          "output_type": "stream",
          "text": [
            "(48744, 121)\n",
            "(48744, 368)\n"
          ],
          "name": "stdout"
        }
      ]
    },
    {
      "cell_type": "code",
      "metadata": {
        "id": "qZFpvz8-mBd7",
        "colab": {
          "base_uri": "https://localhost:8080/"
        },
        "outputId": "4b05ce2c-3564-467d-aa01-465d7a015945"
      },
      "source": [
        "train_df = df[:length]\n",
        "print(train_df.shape)"
      ],
      "execution_count": null,
      "outputs": [
        {
          "output_type": "stream",
          "text": [
            "(307511, 368)\n"
          ],
          "name": "stdout"
        }
      ]
    },
    {
      "cell_type": "code",
      "metadata": {
        "id": "KlMQNay5jKbK",
        "colab": {
          "base_uri": "https://localhost:8080/"
        },
        "outputId": "964979c9-2960-4bcb-febb-7b92ce6377d5"
      },
      "source": [
        "labels.head()\n",
        "labels.shape"
      ],
      "execution_count": null,
      "outputs": [
        {
          "output_type": "execute_result",
          "data": {
            "text/plain": [
              "(356255,)"
            ]
          },
          "metadata": {
            "tags": []
          },
          "execution_count": 23
        }
      ]
    },
    {
      "cell_type": "code",
      "metadata": {
        "id": "OgQy4HdomOxP",
        "colab": {
          "base_uri": "https://localhost:8080/"
        },
        "outputId": "b93e5ba1-e6ee-4926-9e5d-93cbaa9fe4a8"
      },
      "source": [
        "train_labels = labels[:length]\n",
        "test_labels = labels[length:]\n",
        "print(train_labels.shape)"
      ],
      "execution_count": null,
      "outputs": [
        {
          "output_type": "stream",
          "text": [
            "(307511,)\n"
          ],
          "name": "stdout"
        }
      ]
    },
    {
      "cell_type": "code",
      "metadata": {
        "id": "XborxXb6jXt9"
      },
      "source": [
        "#np.save('/content/drive/My Drive/Tilburg University/DS&S/Thesis/Google Collab/Home Credit Default Dataset/Data/Data Clean/Final/Not_Upsampled/FINALDATA_TrainV2.npy',train_df)"
      ],
      "execution_count": null,
      "outputs": []
    },
    {
      "cell_type": "code",
      "metadata": {
        "id": "yw5a1NywnYkL"
      },
      "source": [
        "#Split dataset\n",
        "X_train, X_test, y_train, y_test =  train_test_split(train_df, train_labels, train_size=0.85, test_size=0.15, random_state=42)"
      ],
      "execution_count": null,
      "outputs": []
    },
    {
      "cell_type": "code",
      "metadata": {
        "id": "WPqau7FAoWvZ",
        "colab": {
          "base_uri": "https://localhost:8080/"
        },
        "outputId": "a7e98c28-c23c-49c0-8f7e-9c28023d6df5"
      },
      "source": [
        "print(X_train.shape)\n",
        "print(y_train.shape)"
      ],
      "execution_count": null,
      "outputs": [
        {
          "output_type": "stream",
          "text": [
            "(261384, 368)\n",
            "(261384,)\n"
          ],
          "name": "stdout"
        }
      ]
    },
    {
      "cell_type": "code",
      "metadata": {
        "id": "gSa-n_Ggpl1q"
      },
      "source": [
        "#Save models for later use\n",
        "np.save('/content/drive/MyDrive/Tilburg University/DS&S/Thesis/Google Collab/Home Credit Default Dataset/Preset Weights/Data/weights_train.npy',X_train)\n",
        "np.save('/content/drive/MyDrive/Tilburg University/DS&S/Thesis/Google Collab/Home Credit Default Dataset/Preset Weights/Data/weights_trainlabels.npy',y_train)\n",
        "np.save('/content/drive/MyDrive/Tilburg University/DS&S/Thesis/Google Collab/Home Credit Default Dataset/Preset Weights/Data/weights_test.npy',X_test)\n",
        "np.save('/content/drive/MyDrive/Tilburg University/DS&S/Thesis/Google Collab/Home Credit Default Dataset/Preset Weights/Data/weights_testlabels.npy',y_test)"
      ],
      "execution_count": null,
      "outputs": []
    },
    {
      "cell_type": "markdown",
      "metadata": {
        "id": "byTitSUUxtiQ"
      },
      "source": [
        "# **3) Baseline Model**"
      ]
    },
    {
      "cell_type": "code",
      "metadata": {
        "id": "8Y0CNKs25mur"
      },
      "source": [
        "#Load data to increase speed for re-run\n",
        "X_train = np.load('/content/drive/MyDrive/Tilburg University/DS&S/Thesis/Google Collab/Home Credit Default Dataset/Preset Weights/Data/weights_train.npy')\n",
        "y_train = np.load('/content/drive/MyDrive/Tilburg University/DS&S/Thesis/Google Collab/Home Credit Default Dataset/Preset Weights/Data/weights_trainlabels.npy')\n",
        "X_test = np.load('/content/drive/MyDrive/Tilburg University/DS&S/Thesis/Google Collab/Home Credit Default Dataset/Preset Weights/Data/weights_test.npy')\n",
        "y_test = np.load('/content/drive/MyDrive/Tilburg University/DS&S/Thesis/Google Collab/Home Credit Default Dataset/Preset Weights/Data/weights_testlabels.npy')"
      ],
      "execution_count": 8,
      "outputs": []
    },
    {
      "cell_type": "code",
      "metadata": {
        "id": "NmqsYzJHxGpW"
      },
      "source": [
        "log_X_train = X_train\n",
        "log_y_train = y_train\n",
        "log_X_test = X_test\n",
        "log_y_test = y_test"
      ],
      "execution_count": null,
      "outputs": []
    },
    {
      "cell_type": "code",
      "metadata": {
        "id": "I2Fk1eRcwO7U",
        "colab": {
          "base_uri": "https://localhost:8080/"
        },
        "outputId": "023e8dd8-e3aa-4912-a7dd-e5d36e3ca31c"
      },
      "source": [
        "#Create Logistic Regression Model\n",
        "logreg = LogisticRegression(max_iter= 3000, random_state=16)\n",
        "logreg.fit(log_X_train,log_y_train)"
      ],
      "execution_count": null,
      "outputs": [
        {
          "output_type": "execute_result",
          "data": {
            "text/plain": [
              "LogisticRegression(C=1.0, class_weight=None, dual=False, fit_intercept=True,\n",
              "                   intercept_scaling=1, l1_ratio=None, max_iter=3000,\n",
              "                   multi_class='auto', n_jobs=None, penalty='l2',\n",
              "                   random_state=None, solver='lbfgs', tol=0.0001, verbose=0,\n",
              "                   warm_start=False)"
            ]
          },
          "metadata": {
            "tags": []
          },
          "execution_count": 32
        }
      ]
    },
    {
      "cell_type": "code",
      "metadata": {
        "id": "585nCHzYycCR",
        "colab": {
          "base_uri": "https://localhost:8080/"
        },
        "outputId": "60ef146b-ef16-438c-f033-9f16117e3daf"
      },
      "source": [
        "#Get Baseline score\n",
        "logit_roc_auc = roc_auc_score(y_test, logreg.predict(X_test))\n",
        "print(logit_roc_auc)"
      ],
      "execution_count": null,
      "outputs": [
        {
          "output_type": "stream",
          "text": [
            "0.5095394973685591\n"
          ],
          "name": "stdout"
        }
      ]
    },
    {
      "cell_type": "markdown",
      "metadata": {
        "id": "gDJdSuxBei5Q"
      },
      "source": [
        "# **4) Vanilla Decision Tree**"
      ]
    },
    {
      "cell_type": "code",
      "metadata": {
        "id": "HhLavzhMelkP",
        "colab": {
          "base_uri": "https://localhost:8080/"
        },
        "outputId": "3f8fe79c-1f69-493a-ad58-a18f5ec3ebf1"
      },
      "source": [
        "#Create decision tree for specified depth of 5 and 10 \n",
        "model = DecisionTreeClassifier(max_depth=5,random_state=16)\n",
        "model.fit(X_train,y_train)"
      ],
      "execution_count": 30,
      "outputs": [
        {
          "output_type": "execute_result",
          "data": {
            "text/plain": [
              "DecisionTreeClassifier(ccp_alpha=0.0, class_weight=None, criterion='gini',\n",
              "                       max_depth=5, max_features=None, max_leaf_nodes=None,\n",
              "                       min_impurity_decrease=0.0, min_impurity_split=None,\n",
              "                       min_samples_leaf=1, min_samples_split=2,\n",
              "                       min_weight_fraction_leaf=0.0, presort='deprecated',\n",
              "                       random_state=16, splitter='best')"
            ]
          },
          "metadata": {
            "tags": []
          },
          "execution_count": 30
        }
      ]
    },
    {
      "cell_type": "code",
      "metadata": {
        "id": "sYrF8VNyeoIr"
      },
      "source": [
        "#Get predictions of vanilla DT\n",
        "res_pred = model.predict(X_test)"
      ],
      "execution_count": 31,
      "outputs": []
    },
    {
      "cell_type": "code",
      "metadata": {
        "id": "zU75m5jmeqeB",
        "colab": {
          "base_uri": "https://localhost:8080/"
        },
        "outputId": "331594fb-b3e0-4fcd-fd9b-44a355941486"
      },
      "source": [
        "#Get various scores\n",
        "acc = accuracy_score(y_test, res_pred)\n",
        "rec = recall_score(y_test, res_pred,average='macro')\n",
        "prec = precision_score(y_test, res_pred,average='macro')\n",
        "auc = roc_auc_score(y_test,res_pred, average='macro')\n",
        "print('Accuracy:', acc)\n",
        "print('Recall: ', rec)\n",
        "print('Precision:', prec)\n",
        "print('AUC: ', auc)"
      ],
      "execution_count": 32,
      "outputs": [
        {
          "output_type": "stream",
          "text": [
            "Accuracy: 0.9194181282112429\n",
            "Recall:  0.5\n",
            "Precision: 0.45970906410562146\n",
            "AUC:  0.5\n"
          ],
          "name": "stdout"
        },
        {
          "output_type": "stream",
          "text": [
            "/usr/local/lib/python3.6/dist-packages/sklearn/metrics/_classification.py:1272: UndefinedMetricWarning: Precision is ill-defined and being set to 0.0 in labels with no predicted samples. Use `zero_division` parameter to control this behavior.\n",
            "  _warn_prf(average, modifier, msg_start, len(result))\n"
          ],
          "name": "stderr"
        }
      ]
    },
    {
      "cell_type": "markdown",
      "metadata": {
        "id": "NHmuQCM7p81U"
      },
      "source": [
        "# **5) Built Neural Network** \n",
        "\n"
      ]
    },
    {
      "cell_type": "code",
      "metadata": {
        "id": "KJ6iW4MNZMGZ"
      },
      "source": [
        "#Import metrics for Neural Network\n",
        "def recall_m(y_true, y_pred):\n",
        "    true_positives = K.sum(K.round(K.clip(y_true * y_pred, 0, 1)))\n",
        "    possible_positives = K.sum(K.round(K.clip(y_true, 0, 1)))\n",
        "    recall = true_positives / (possible_positives + K.epsilon())\n",
        "    return recall\n",
        "\n",
        "def precision_m(y_true, y_pred):\n",
        "    true_positives = K.sum(K.round(K.clip(y_true * y_pred, 0, 1)))\n",
        "    predicted_positives = K.sum(K.round(K.clip(y_pred, 0, 1)))\n",
        "    precision = true_positives / (predicted_positives + K.epsilon())\n",
        "    return precision\n",
        "\n",
        "def f1_m(y_true, y_pred):\n",
        "    precision = precision_m(y_true, y_pred)\n",
        "    recall = recall_m(y_true, y_pred)\n",
        "    return 2*((precision*recall)/(precision+recall+K.epsilon()))\n",
        "\n",
        "def auc_m(y_true, y_pred):\n",
        "     auc = tf.metrics.auc(y_true, y_pred)[1]\n",
        "     K.get_session().run(tf.local_variables_initializer())\n",
        "     return auc"
      ],
      "execution_count": 6,
      "outputs": []
    },
    {
      "cell_type": "code",
      "metadata": {
        "id": "vYVW8RjIsW7u"
      },
      "source": [
        "#Set class weights\n",
        "eight = class_weight.compute_class_weight('balanced', np.unique(y_train), y_train)\n",
        "class_weight_dict = dict(enumerate(weight))"
      ],
      "execution_count": null,
      "outputs": []
    },
    {
      "cell_type": "code",
      "metadata": {
        "id": "NC3_nUZetjUh",
        "colab": {
          "base_uri": "https://localhost:8080/"
        },
        "outputId": "976b3986-d2b8-43f9-f829-62c384338fe2"
      },
      "source": [
        "print(class_weight_dict)"
      ],
      "execution_count": null,
      "outputs": [
        {
          "output_type": "stream",
          "text": [
            "{0: 0.5439244868401338, 1: 6.191586128482092}\n"
          ],
          "name": "stdout"
        }
      ]
    },
    {
      "cell_type": "code",
      "metadata": {
        "id": "Wypay3wWhh-f",
        "colab": {
          "base_uri": "https://localhost:8080/"
        },
        "outputId": "55abb9be-2e9e-425b-cd2a-ac03eea34d36"
      },
      "source": [
        "y_train = np.array(keras.utils.to_categorical(y_train))\n",
        "y_test = np.array(keras.utils.to_categorical(y_test))\n",
        "print(y_train.shape)\n",
        "print(y_train[:10])"
      ],
      "execution_count": 10,
      "outputs": [
        {
          "output_type": "stream",
          "text": [
            "(261384, 2)\n",
            "[[0. 1.]\n",
            " [1. 0.]\n",
            " [1. 0.]\n",
            " [1. 0.]\n",
            " [0. 1.]\n",
            " [1. 0.]\n",
            " [1. 0.]\n",
            " [1. 0.]\n",
            " [1. 0.]\n",
            " [0. 1.]]\n"
          ],
          "name": "stdout"
        }
      ]
    },
    {
      "cell_type": "code",
      "metadata": {
        "id": "zv8yI6jlcGBa",
        "colab": {
          "base_uri": "https://localhost:8080/"
        },
        "outputId": "40d9629a-c2f1-4a89-c73f-32567a3cfa7a"
      },
      "source": [
        "#Function to built model\n",
        "def build_model():\n",
        "  inputs = layers.Input(shape=(368))\n",
        "  x = layers.Dense(80,activation='relu',name='fc1')(inputs)\n",
        "\n",
        "  x = layers.BatchNormalization()(x)\n",
        "\n",
        "  x = layers.Dense(160,activation='relu',name='fc2')(x)\n",
        "\n",
        "  x = layers.BatchNormalization()(x)\n",
        "\n",
        "  x = layers.Dense(320,activation='relu',name='fc3')(x)\n",
        "\n",
        "  x = layers.Dropout(rate=0.5, name='Dropout1')(x)\n",
        "\n",
        "  x = layers.Dense(80,activation='relu',name='fc4')(x)\n",
        "\n",
        "  x = layers.Dense(2,name='logits')(x)\n",
        "\n",
        "  preds = layers.Activation('softmax',name='Softmax')(x)\n",
        "\n",
        "  model = Model(inputs=inputs, outputs=preds)\n",
        "  model.summary()\n",
        "  return model\n",
        "\n",
        "model = build_model()"
      ],
      "execution_count": null,
      "outputs": [
        {
          "output_type": "stream",
          "text": [
            "Model: \"functional_7\"\n",
            "_________________________________________________________________\n",
            "Layer (type)                 Output Shape              Param #   \n",
            "=================================================================\n",
            "input_5 (InputLayer)         [(None, 368)]             0         \n",
            "_________________________________________________________________\n",
            "fc1 (Dense)                  (None, 80)                29520     \n",
            "_________________________________________________________________\n",
            "batch_normalization_8 (Batch (None, 80)                320       \n",
            "_________________________________________________________________\n",
            "fc2 (Dense)                  (None, 160)               12960     \n",
            "_________________________________________________________________\n",
            "batch_normalization_9 (Batch (None, 160)               640       \n",
            "_________________________________________________________________\n",
            "fc3 (Dense)                  (None, 320)               51520     \n",
            "_________________________________________________________________\n",
            "Dropout1 (Dropout)           (None, 320)               0         \n",
            "_________________________________________________________________\n",
            "fc4 (Dense)                  (None, 80)                25680     \n",
            "_________________________________________________________________\n",
            "logits (Dense)               (None, 2)                 162       \n",
            "_________________________________________________________________\n",
            "Softmax (Activation)         (None, 2)                 0         \n",
            "=================================================================\n",
            "Total params: 120,802\n",
            "Trainable params: 120,322\n",
            "Non-trainable params: 480\n",
            "_________________________________________________________________\n"
          ],
          "name": "stdout"
        }
      ]
    },
    {
      "cell_type": "code",
      "metadata": {
        "id": "mnz7qUXjcOlV"
      },
      "source": [
        "#Set-up filepath and ModelCheckepoint with Earlystopping to save best performing moddel based on Validation AUC\n",
        "filepath = \"/content/drive/My Drive/Tilburg University/DS&S/Thesis/Google Collab/Home Credit Default Dataset/Saved Models/Weights_MODELV1.hdf5\"\n",
        "model_checkpoint = ModelCheckpoint(filepath,  monitor='val_auc', save_best_only=True, mode='max')\n",
        "es = EarlyStopping(monitor='val_auc', mode='max', verbose=0, patience=5)\n",
        "model.compile(optimizer=\"adam\", loss=\"categorical_crossentropy\", metrics=['acc',f1_m,precision_m, recall_m,tf.keras.metrics.AUC(name='auc')])"
      ],
      "execution_count": null,
      "outputs": []
    },
    {
      "cell_type": "code",
      "metadata": {
        "id": "1I1anTQudqda",
        "colab": {
          "base_uri": "https://localhost:8080/"
        },
        "outputId": "6660b4ee-c24d-4fde-b55b-7df1f248ec97"
      },
      "source": [
        "#Set epochs and bach size, and train model \n",
        "num_epoch = 100\n",
        "batch_size = 64\n",
        "model1 = model.fit(x=X_train, y=y_train, class_weight = class_weight_dict, epochs=num_epoch, batch_size=batch_size, validation_split=0.2,callbacks=[model_checkpoint,es])"
      ],
      "execution_count": null,
      "outputs": [
        {
          "output_type": "stream",
          "text": [
            "Epoch 1/50\n",
            "3268/3268 [==============================] - 19s 6ms/step - loss: 0.6227 - acc: 0.6533 - f1_m: 0.6533 - precision_m: 0.6533 - recall_m: 0.6533 - auc: 0.7073 - val_loss: 0.4905 - val_acc: 0.7297 - val_f1_m: 0.7297 - val_precision_m: 0.7297 - val_recall_m: 0.7297 - val_auc: 0.8386\n",
            "Epoch 2/50\n",
            "3268/3268 [==============================] - 19s 6ms/step - loss: 0.5980 - acc: 0.6789 - f1_m: 0.6789 - precision_m: 0.6789 - recall_m: 0.6789 - auc: 0.7384 - val_loss: 0.4822 - val_acc: 0.7698 - val_f1_m: 0.7699 - val_precision_m: 0.7699 - val_recall_m: 0.7699 - val_auc: 0.8602\n",
            "Epoch 3/50\n",
            "3268/3268 [==============================] - 18s 6ms/step - loss: 0.5942 - acc: 0.6832 - f1_m: 0.6832 - precision_m: 0.6832 - recall_m: 0.6832 - auc: 0.7435 - val_loss: 0.5830 - val_acc: 0.6930 - val_f1_m: 0.6930 - val_precision_m: 0.6930 - val_recall_m: 0.6930 - val_auc: 0.7591\n",
            "Epoch 4/50\n",
            "3268/3268 [==============================] - 18s 6ms/step - loss: 0.5896 - acc: 0.6874 - f1_m: 0.6874 - precision_m: 0.6874 - recall_m: 0.6874 - auc: 0.7487 - val_loss: 0.5106 - val_acc: 0.7671 - val_f1_m: 0.7671 - val_precision_m: 0.7671 - val_recall_m: 0.7671 - val_auc: 0.8533\n",
            "Epoch 5/50\n",
            "3268/3268 [==============================] - 18s 6ms/step - loss: 0.5850 - acc: 0.6866 - f1_m: 0.6866 - precision_m: 0.6866 - recall_m: 0.6866 - auc: 0.7535 - val_loss: 0.6194 - val_acc: 0.6793 - val_f1_m: 0.6793 - val_precision_m: 0.6793 - val_recall_m: 0.6793 - val_auc: 0.7286\n",
            "Epoch 6/50\n",
            "3268/3268 [==============================] - 18s 6ms/step - loss: 0.5806 - acc: 0.6945 - f1_m: 0.6946 - precision_m: 0.6946 - recall_m: 0.6946 - auc: 0.7584 - val_loss: 0.6215 - val_acc: 0.6594 - val_f1_m: 0.6594 - val_precision_m: 0.6594 - val_recall_m: 0.6594 - val_auc: 0.7162\n",
            "Epoch 7/50\n",
            "3268/3268 [==============================] - 18s 6ms/step - loss: 0.5769 - acc: 0.6939 - f1_m: 0.6939 - precision_m: 0.6939 - recall_m: 0.6939 - auc: 0.7619 - val_loss: 0.5788 - val_acc: 0.6808 - val_f1_m: 0.6809 - val_precision_m: 0.6809 - val_recall_m: 0.6809 - val_auc: 0.7604\n"
          ],
          "name": "stdout"
        }
      ]
    },
    {
      "cell_type": "code",
      "metadata": {
        "id": "c_mOAUMkduyq",
        "colab": {
          "base_uri": "https://localhost:8080/"
        },
        "outputId": "03cdf0e5-70f0-4185-a86e-520da19e879b"
      },
      "source": [
        "#Train performance\n",
        "prediction_model = tf.keras.models.load_model(filepath, custom_objects={'f1_m':f1_m,'precision_m':precision_m, 'recall_m':recall_m, 'auc': tf.keras.metrics.AUC() }) \n",
        "loss, accuracy, f1_score, precision, recall, auc = prediction_model.evaluate(X_train, y_train, verbose=0, batch_size=64)\n",
        "\n",
        "print('Train Accuracy:',accuracy)\n",
        "print('Train Recall:',recall)\n",
        "print('Train Precision:',precision)\n",
        "print('Train F1:',f1_score)\n",
        "print('Train AUC:',auc)\n",
        "prediction_model.summary()"
      ],
      "execution_count": null,
      "outputs": [
        {
          "output_type": "stream",
          "text": [
            "Train Accuracy: 0.7721819281578064\n",
            "Train Recall: 0.7722039222717285\n",
            "Train Precision: 0.7722039222717285\n",
            "Train F1: 0.7722038626670837\n",
            "Train AUC: 0.8617718815803528\n",
            "Model: \"functional_7\"\n",
            "_________________________________________________________________\n",
            "Layer (type)                 Output Shape              Param #   \n",
            "=================================================================\n",
            "input_5 (InputLayer)         [(None, 368)]             0         \n",
            "_________________________________________________________________\n",
            "fc1 (Dense)                  (None, 80)                29520     \n",
            "_________________________________________________________________\n",
            "batch_normalization_8 (Batch (None, 80)                320       \n",
            "_________________________________________________________________\n",
            "fc2 (Dense)                  (None, 160)               12960     \n",
            "_________________________________________________________________\n",
            "batch_normalization_9 (Batch (None, 160)               640       \n",
            "_________________________________________________________________\n",
            "fc3 (Dense)                  (None, 320)               51520     \n",
            "_________________________________________________________________\n",
            "Dropout1 (Dropout)           (None, 320)               0         \n",
            "_________________________________________________________________\n",
            "fc4 (Dense)                  (None, 80)                25680     \n",
            "_________________________________________________________________\n",
            "logits (Dense)               (None, 2)                 162       \n",
            "_________________________________________________________________\n",
            "Softmax (Activation)         (None, 2)                 0         \n",
            "=================================================================\n",
            "Total params: 120,802\n",
            "Trainable params: 120,322\n",
            "Non-trainable params: 480\n",
            "_________________________________________________________________\n"
          ],
          "name": "stdout"
        }
      ]
    },
    {
      "cell_type": "code",
      "metadata": {
        "id": "Ddq4YKiRdyRB",
        "colab": {
          "base_uri": "https://localhost:8080/"
        },
        "outputId": "08c33b2b-71da-4838-eae5-16369828e2e3"
      },
      "source": [
        "#Test performance\n",
        "loss, accuracy, f1_score, precision, recall, auc = prediction_model.evaluate(X_test, y_test, verbose=0, batch_size=64)\n",
        "\n",
        "print('Test Accuracy:',accuracy)\n",
        "print('Test Recall:',recall)\n",
        "print('Test Precision:',precision)\n",
        "print('Test F1:',f1_score)\n",
        "print('Test AUC:',auc)\n",
        "prediction_model.summary()"
      ],
      "execution_count": null,
      "outputs": [
        {
          "output_type": "stream",
          "text": [
            "Test Accuracy: 0.77232426404953\n",
            "Test Recall: 0.7723062038421631\n",
            "Test Precision: 0.7723062038421631\n",
            "Test F1: 0.7723060846328735\n",
            "Test AUC: 0.8606595993041992\n",
            "Model: \"functional_7\"\n",
            "_________________________________________________________________\n",
            "Layer (type)                 Output Shape              Param #   \n",
            "=================================================================\n",
            "input_5 (InputLayer)         [(None, 368)]             0         \n",
            "_________________________________________________________________\n",
            "fc1 (Dense)                  (None, 80)                29520     \n",
            "_________________________________________________________________\n",
            "batch_normalization_8 (Batch (None, 80)                320       \n",
            "_________________________________________________________________\n",
            "fc2 (Dense)                  (None, 160)               12960     \n",
            "_________________________________________________________________\n",
            "batch_normalization_9 (Batch (None, 160)               640       \n",
            "_________________________________________________________________\n",
            "fc3 (Dense)                  (None, 320)               51520     \n",
            "_________________________________________________________________\n",
            "Dropout1 (Dropout)           (None, 320)               0         \n",
            "_________________________________________________________________\n",
            "fc4 (Dense)                  (None, 80)                25680     \n",
            "_________________________________________________________________\n",
            "logits (Dense)               (None, 2)                 162       \n",
            "_________________________________________________________________\n",
            "Softmax (Activation)         (None, 2)                 0         \n",
            "=================================================================\n",
            "Total params: 120,802\n",
            "Trainable params: 120,322\n",
            "Non-trainable params: 480\n",
            "_________________________________________________________________\n"
          ],
          "name": "stdout"
        }
      ]
    },
    {
      "cell_type": "code",
      "metadata": {
        "id": "BTbI0gNHd1t5",
        "colab": {
          "base_uri": "https://localhost:8080/"
        },
        "outputId": "22ce332a-bd17-4211-a978-ba3492703709"
      },
      "source": [
        "#Best Performance\n",
        "filepath_best = \"/content/drive/My Drive/Tilburg University/DS&S/Thesis/Google Collab/Home Credit Default Dataset/Saved Models/Weights_MODELV1.hdf5\"\n",
        "best_model = tf.keras.models.load_model(filepath_best, custom_objects={'f1_m':f1_m,'precision_m':precision_m, 'recall_m':recall_m, 'auc': tf.keras.metrics.AUC() }) \n",
        "loss, accuracy, f1_score, precision, recall, auc = best_model.evaluate(X_test, y_test, verbose=0, batch_size=64)\n",
        "\n",
        "#print('Best Accuracy:',accuracy)\n",
        "#print('Best Recall:',recall)\n",
        "#print('Best Precision:',precision)\n",
        "#print('Best F1:',f1_score)\n",
        "print('Best AUC:',auc)\n",
        "best_model.summary()"
      ],
      "execution_count": 11,
      "outputs": [
        {
          "output_type": "stream",
          "text": [
            "Best AUC: 0.8606595993041992\n",
            "Model: \"functional_7\"\n",
            "_________________________________________________________________\n",
            "Layer (type)                 Output Shape              Param #   \n",
            "=================================================================\n",
            "input_5 (InputLayer)         [(None, 368)]             0         \n",
            "_________________________________________________________________\n",
            "fc1 (Dense)                  (None, 80)                29520     \n",
            "_________________________________________________________________\n",
            "batch_normalization_8 (Batch (None, 80)                320       \n",
            "_________________________________________________________________\n",
            "fc2 (Dense)                  (None, 160)               12960     \n",
            "_________________________________________________________________\n",
            "batch_normalization_9 (Batch (None, 160)               640       \n",
            "_________________________________________________________________\n",
            "fc3 (Dense)                  (None, 320)               51520     \n",
            "_________________________________________________________________\n",
            "Dropout1 (Dropout)           (None, 320)               0         \n",
            "_________________________________________________________________\n",
            "fc4 (Dense)                  (None, 80)                25680     \n",
            "_________________________________________________________________\n",
            "logits (Dense)               (None, 2)                 162       \n",
            "_________________________________________________________________\n",
            "Softmax (Activation)         (None, 2)                 0         \n",
            "=================================================================\n",
            "Total params: 120,802\n",
            "Trainable params: 120,322\n",
            "Non-trainable params: 480\n",
            "_________________________________________________________________\n"
          ],
          "name": "stdout"
        }
      ]
    },
    {
      "cell_type": "markdown",
      "metadata": {
        "id": "NEWx6Kl0eCBS"
      },
      "source": [
        "# **6) Generate Soft Targets**"
      ]
    },
    {
      "cell_type": "code",
      "metadata": {
        "id": "q--wen24eFFJ"
      },
      "source": [
        "#Load the best model\n",
        "model = tf.keras.models.load_model(filepath_best, custom_objects={'f1_m':f1_m,'precision_m':precision_m, 'recall_m':recall_m}) "
      ],
      "execution_count": 12,
      "outputs": []
    },
    {
      "cell_type": "code",
      "metadata": {
        "id": "V4ls9E9_eMmM",
        "colab": {
          "base_uri": "https://localhost:8080/"
        },
        "outputId": "92ef00fa-e13c-4552-d6d8-4de3b5fdcad9"
      },
      "source": [
        "#Compile it again\n",
        "model.compile(optimizer=\"adam\", loss=\"categorical_crossentropy\", metrics=['acc',f1_m,precision_m, recall_m,tf.keras.metrics.AUC()])\n",
        "model.summary()"
      ],
      "execution_count": 13,
      "outputs": [
        {
          "output_type": "stream",
          "text": [
            "Model: \"functional_7\"\n",
            "_________________________________________________________________\n",
            "Layer (type)                 Output Shape              Param #   \n",
            "=================================================================\n",
            "input_5 (InputLayer)         [(None, 368)]             0         \n",
            "_________________________________________________________________\n",
            "fc1 (Dense)                  (None, 80)                29520     \n",
            "_________________________________________________________________\n",
            "batch_normalization_8 (Batch (None, 80)                320       \n",
            "_________________________________________________________________\n",
            "fc2 (Dense)                  (None, 160)               12960     \n",
            "_________________________________________________________________\n",
            "batch_normalization_9 (Batch (None, 160)               640       \n",
            "_________________________________________________________________\n",
            "fc3 (Dense)                  (None, 320)               51520     \n",
            "_________________________________________________________________\n",
            "Dropout1 (Dropout)           (None, 320)               0         \n",
            "_________________________________________________________________\n",
            "fc4 (Dense)                  (None, 80)                25680     \n",
            "_________________________________________________________________\n",
            "logits (Dense)               (None, 2)                 162       \n",
            "_________________________________________________________________\n",
            "Softmax (Activation)         (None, 2)                 0         \n",
            "=================================================================\n",
            "Total params: 120,802\n",
            "Trainable params: 120,322\n",
            "Non-trainable params: 480\n",
            "_________________________________________________________________\n"
          ],
          "name": "stdout"
        }
      ]
    },
    {
      "cell_type": "code",
      "metadata": {
        "id": "vBDYU2H_eQNY"
      },
      "source": [
        "#Remove last softmax layer and predict again\n",
        "model_sans_softmax = Model(inputs=model.input, outputs=model.get_layer(\"logits\").output)\n",
        "model_logits = model_sans_softmax.predict(X_train)"
      ],
      "execution_count": 14,
      "outputs": []
    },
    {
      "cell_type": "code",
      "metadata": {
        "id": "QOgeQ9naeRnS"
      },
      "source": [
        "#Get the logits\n",
        "soft_targets = model_logits"
      ],
      "execution_count": 15,
      "outputs": []
    },
    {
      "cell_type": "code",
      "metadata": {
        "id": "MNPKHGWPeUAY"
      },
      "source": [
        "np.save(\"/content/drive/My Drive/Tilburg University/DS&S/Thesis/Google Collab/Home Credit Default Dataset/Data/Soft Targets/Logits.npy\", model_logits)"
      ],
      "execution_count": 16,
      "outputs": []
    },
    {
      "cell_type": "markdown",
      "metadata": {
        "id": "s5vfgbU3fF6K"
      },
      "source": [
        "# **Knowledge Distillation**"
      ]
    },
    {
      "cell_type": "code",
      "metadata": {
        "id": "cxAp5V5kfKBu"
      },
      "source": [
        "#Set up Decision Tree for Knowledge Distillation at given depth \n",
        "model = DecisionTreeRegressor(max_depth=5,random_state=16)"
      ],
      "execution_count": 22,
      "outputs": []
    },
    {
      "cell_type": "code",
      "metadata": {
        "id": "tAAKhN1IfL3v",
        "colab": {
          "base_uri": "https://localhost:8080/"
        },
        "outputId": "6ebe5765-f415-430a-e3b2-9e3a535f63de"
      },
      "source": [
        "#Train Decision Tree\n",
        "model.fit(X_train,soft_targets)"
      ],
      "execution_count": 23,
      "outputs": [
        {
          "output_type": "execute_result",
          "data": {
            "text/plain": [
              "DecisionTreeRegressor(ccp_alpha=0.0, criterion='mse', max_depth=5,\n",
              "                      max_features=None, max_leaf_nodes=None,\n",
              "                      min_impurity_decrease=0.0, min_impurity_split=None,\n",
              "                      min_samples_leaf=1, min_samples_split=2,\n",
              "                      min_weight_fraction_leaf=0.0, presort='deprecated',\n",
              "                      random_state=16, splitter='best')"
            ]
          },
          "metadata": {
            "tags": []
          },
          "execution_count": 23
        }
      ]
    },
    {
      "cell_type": "code",
      "metadata": {
        "id": "MhMoiokufOQV"
      },
      "source": [
        "#Get predictions\n",
        "res_pred = model.predict(X_test)"
      ],
      "execution_count": 24,
      "outputs": []
    },
    {
      "cell_type": "code",
      "metadata": {
        "id": "B1pEkMjYfTQE"
      },
      "source": [
        "# Apply softmax function to output of Decision Tree\n",
        "pred_argmax = np.zeros_like(res_pred)\n",
        "pred_argmax[np.arange(len(res_pred)), res_pred.argmax(1)] = 1 "
      ],
      "execution_count": 25,
      "outputs": []
    },
    {
      "cell_type": "code",
      "metadata": {
        "id": "pbtawBG9fU68",
        "colab": {
          "base_uri": "https://localhost:8080/"
        },
        "outputId": "465c1fb6-c63f-4fc6-c139-09a0f2e73f8e"
      },
      "source": [
        "#Get scores of student decision tree\n",
        "acc = accuracy_score(pred_argmax,y_test)\n",
        "rec = recall_score(y_test, pred_argmax,average='macro')\n",
        "prec = precision_score(y_test, pred_argmax,average='macro')\n",
        "auc = roc_auc_score(y_test, pred_argmax,average='macro')\n",
        "print('Accuracy:', acc)\n",
        "print('Recall: ', rec)\n",
        "print('Precision:', prec)\n",
        "print('AUC: ', auc)"
      ],
      "execution_count": 26,
      "outputs": [
        {
          "output_type": "stream",
          "text": [
            "Accuracy: 0.8528627484987101\n",
            "Recall:  0.5972104024176409\n",
            "Precision: 0.5714772992782347\n",
            "AUC:  0.5972104024176408\n"
          ],
          "name": "stdout"
        }
      ]
    }
  ]
}