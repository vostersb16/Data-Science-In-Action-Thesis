{
  "nbformat": 4,
  "nbformat_minor": 0,
  "metadata": {
    "colab": {
      "name": "Breast_Cancer_Wisconsin_Pipeline.ipynb",
      "provenance": [],
      "collapsed_sections": []
    },
    "kernelspec": {
      "name": "python3",
      "display_name": "Python 3"
    }
  },
  "cells": [
    {
      "cell_type": "markdown",
      "metadata": {
        "id": "XZITWnZ6guNt"
      },
      "source": [
        "# **1) Import all packages**"
      ]
    },
    {
      "cell_type": "code",
      "metadata": {
        "id": "Ek-C1eKfBfAp"
      },
      "source": [
        "import os\n",
        "import numpy as np \n",
        "import pandas as pd\n",
        "import tensorflow as tf\n",
        "import matplotlib.pyplot as plt\n",
        "import keras\n",
        "import math\n",
        "from tensorflow.python.client import device_lib\n",
        "from sklearn.model_selection import train_test_split \n",
        "from numpy.random import seed\n",
        "from keras.callbacks import ModelCheckpoint\n",
        "from keras.callbacks import EarlyStopping\n",
        "seed(42)\n",
        "import tensorflow as tf\n",
        "tf.random.set_seed(42)\n",
        "from sklearn.metrics import roc_auc_score\n",
        "from sklearn import tree\n",
        "from sklearn.tree import DecisionTreeClassifier,DecisionTreeRegressor\n",
        "from sklearn.linear_model import LogisticRegression\n",
        "from sklearn import metrics \n",
        "from scipy.special import logit\n",
        "from keras import backend as K\n",
        "from sklearn.preprocessing import MinMaxScaler, Normalizer\n",
        "from keras.models import Sequential\n",
        "from keras.utils import to_categorical\n",
        "from keras.regularizers import l1,l2\n",
        "from tensorflow.keras import layers, models\n",
        "from tensorflow.keras.models import Model\n",
        "from sklearn.metrics import accuracy_score, f1_score, precision_score, recall_score, classification_report, confusion_matrix, roc_auc_score, roc_curve\n"
      ],
      "execution_count": 233,
      "outputs": []
    },
    {
      "cell_type": "markdown",
      "metadata": {
        "id": "6PaOlRR3g3JF"
      },
      "source": [
        "# **2) Prepare Data**"
      ]
    },
    {
      "cell_type": "code",
      "metadata": {
        "id": "hYeVBe1IB5CV"
      },
      "source": [
        "df = pd.read_csv('/content/drive/My Drive/Tilburg University/DS&S/Thesis/Google Collab/UCI Breast Cancer Dataset/Data/data.csv')"
      ],
      "execution_count": 234,
      "outputs": []
    },
    {
      "cell_type": "code",
      "metadata": {
        "id": "YQCh4YxNbOfV",
        "colab": {
          "base_uri": "https://localhost:8080/"
        },
        "outputId": "d34dbe9e-1455-4a7b-a8aa-9e6e0f76efe9"
      },
      "source": [
        "df['diagnosis'].value_counts(normalize=True)"
      ],
      "execution_count": 235,
      "outputs": [
        {
          "output_type": "execute_result",
          "data": {
            "text/plain": [
              "B    0.627417\n",
              "M    0.372583\n",
              "Name: diagnosis, dtype: float64"
            ]
          },
          "metadata": {
            "tags": []
          },
          "execution_count": 235
        }
      ]
    },
    {
      "cell_type": "code",
      "metadata": {
        "id": "1QXY10PLbZ74",
        "colab": {
          "base_uri": "https://localhost:8080/"
        },
        "outputId": "a9111df3-bf15-476f-c9c3-a828ecd51c6f"
      },
      "source": [
        "df['diagnosis'].value_counts()"
      ],
      "execution_count": 236,
      "outputs": [
        {
          "output_type": "execute_result",
          "data": {
            "text/plain": [
              "B    357\n",
              "M    212\n",
              "Name: diagnosis, dtype: int64"
            ]
          },
          "metadata": {
            "tags": []
          },
          "execution_count": 236
        }
      ]
    },
    {
      "cell_type": "code",
      "metadata": {
        "id": "RWWZlv7pJC58"
      },
      "source": [
        "df = df.iloc[:,:-1]"
      ],
      "execution_count": 237,
      "outputs": []
    },
    {
      "cell_type": "code",
      "metadata": {
        "id": "vd7N-f4AI7h8",
        "colab": {
          "base_uri": "https://localhost:8080/"
        },
        "outputId": "cd527e2e-207d-4280-bfb6-f12b9c87e8f5"
      },
      "source": [
        "print(df.head)"
      ],
      "execution_count": 238,
      "outputs": [
        {
          "output_type": "stream",
          "text": [
            "<bound method NDFrame.head of            id diagnosis  ...  symmetry_worst  fractal_dimension_worst\n",
            "0      842302         M  ...          0.4601                  0.11890\n",
            "1      842517         M  ...          0.2750                  0.08902\n",
            "2    84300903         M  ...          0.3613                  0.08758\n",
            "3    84348301         M  ...          0.6638                  0.17300\n",
            "4    84358402         M  ...          0.2364                  0.07678\n",
            "..        ...       ...  ...             ...                      ...\n",
            "564    926424         M  ...          0.2060                  0.07115\n",
            "565    926682         M  ...          0.2572                  0.06637\n",
            "566    926954         M  ...          0.2218                  0.07820\n",
            "567    927241         M  ...          0.4087                  0.12400\n",
            "568     92751         B  ...          0.2871                  0.07039\n",
            "\n",
            "[569 rows x 32 columns]>\n"
          ],
          "name": "stdout"
        }
      ]
    },
    {
      "cell_type": "code",
      "metadata": {
        "id": "KkzLLSNVCiIw"
      },
      "source": [
        "#Split data\n",
        "train, test =  train_test_split(df, train_size=0.85, test_size=0.15, random_state=42)"
      ],
      "execution_count": 239,
      "outputs": []
    },
    {
      "cell_type": "code",
      "metadata": {
        "id": "PRWLRbSzJmgq"
      },
      "source": [
        "df = df.iloc[:,:-1]"
      ],
      "execution_count": 240,
      "outputs": []
    },
    {
      "cell_type": "code",
      "metadata": {
        "id": "A-_Gt8n1JSoI"
      },
      "source": [
        "train_id = train['id']\n",
        "test_id = test['id']"
      ],
      "execution_count": 241,
      "outputs": []
    },
    {
      "cell_type": "code",
      "metadata": {
        "id": "kmCMaWRdJQvq"
      },
      "source": [
        "train_data = train.iloc[:,1:]\n",
        "test_data = test.iloc[:,1:]"
      ],
      "execution_count": 242,
      "outputs": []
    },
    {
      "cell_type": "code",
      "metadata": {
        "id": "b-9Q2NLPJYu_",
        "colab": {
          "base_uri": "https://localhost:8080/"
        },
        "outputId": "034ca992-38d1-4f93-9c0c-247c12705899"
      },
      "source": [
        "#Scale data\n",
        "\n",
        "# Training Data\n",
        "train_x = train_data.iloc[:,1:]\n",
        "train_x = MinMaxScaler().fit_transform(train_x)\n",
        "print(\"Training Data :\", train_x.shape)\n",
        "\n",
        "# Testing Data\n",
        "test_x = test_data.iloc[:,1:]\n",
        "test_x = MinMaxScaler().fit_transform(test_x)\n",
        "print(\"Testing Data :\", test_x.shape)"
      ],
      "execution_count": 243,
      "outputs": [
        {
          "output_type": "stream",
          "text": [
            "Training Data : (483, 30)\n",
            "Testing Data : (86, 30)\n"
          ],
          "name": "stdout"
        }
      ]
    },
    {
      "cell_type": "code",
      "metadata": {
        "id": "0IeJOuZ_L4x4",
        "colab": {
          "base_uri": "https://localhost:8080/"
        },
        "outputId": "6d59f0a7-1d41-4c07-d334-5895493a7f86"
      },
      "source": [
        "#Remove labels\n",
        "\n",
        "# Training Data\n",
        "train_y = train_data.iloc[:,:1]\n",
        "train_y[train_y=='M'] = 0\n",
        "train_y[train_y=='B'] = 1\n",
        "print(\"Training Data :\", train_y.shape)\n",
        "\n",
        "# Testing Data\n",
        "test_y = test_data.iloc[:,:1]\n",
        "test_y[test_y=='M'] = 0\n",
        "test_y[test_y=='B'] = 1\n",
        "print(\"Testing Data :\", test_y.shape)"
      ],
      "execution_count": 244,
      "outputs": [
        {
          "output_type": "stream",
          "text": [
            "Training Data : (483, 1)\n",
            "Testing Data : (86, 1)\n"
          ],
          "name": "stdout"
        },
        {
          "output_type": "stream",
          "text": [
            "/usr/local/lib/python3.6/dist-packages/ipykernel_launcher.py:5: SettingWithCopyWarning: \n",
            "A value is trying to be set on a copy of a slice from a DataFrame.\n",
            "Try using .loc[row_indexer,col_indexer] = value instead\n",
            "\n",
            "See the caveats in the documentation: https://pandas.pydata.org/pandas-docs/stable/user_guide/indexing.html#returning-a-view-versus-a-copy\n",
            "  \"\"\"\n",
            "/usr/local/lib/python3.6/dist-packages/pandas/core/frame.py:3093: SettingWithCopyWarning: \n",
            "A value is trying to be set on a copy of a slice from a DataFrame\n",
            "\n",
            "See the caveats in the documentation: https://pandas.pydata.org/pandas-docs/stable/user_guide/indexing.html#returning-a-view-versus-a-copy\n",
            "  self._where(-key, value, inplace=True)\n",
            "/usr/local/lib/python3.6/dist-packages/ipykernel_launcher.py:6: SettingWithCopyWarning: \n",
            "A value is trying to be set on a copy of a slice from a DataFrame.\n",
            "Try using .loc[row_indexer,col_indexer] = value instead\n",
            "\n",
            "See the caveats in the documentation: https://pandas.pydata.org/pandas-docs/stable/user_guide/indexing.html#returning-a-view-versus-a-copy\n",
            "  \n",
            "/usr/local/lib/python3.6/dist-packages/ipykernel_launcher.py:11: SettingWithCopyWarning: \n",
            "A value is trying to be set on a copy of a slice from a DataFrame.\n",
            "Try using .loc[row_indexer,col_indexer] = value instead\n",
            "\n",
            "See the caveats in the documentation: https://pandas.pydata.org/pandas-docs/stable/user_guide/indexing.html#returning-a-view-versus-a-copy\n",
            "  # This is added back by InteractiveShellApp.init_path()\n",
            "/usr/local/lib/python3.6/dist-packages/ipykernel_launcher.py:12: SettingWithCopyWarning: \n",
            "A value is trying to be set on a copy of a slice from a DataFrame.\n",
            "Try using .loc[row_indexer,col_indexer] = value instead\n",
            "\n",
            "See the caveats in the documentation: https://pandas.pydata.org/pandas-docs/stable/user_guide/indexing.html#returning-a-view-versus-a-copy\n",
            "  if sys.path[0] == '':\n"
          ],
          "name": "stderr"
        }
      ]
    },
    {
      "cell_type": "code",
      "metadata": {
        "id": "APAPqYJPOaK4",
        "colab": {
          "base_uri": "https://localhost:8080/"
        },
        "outputId": "700c9354-556f-49f4-cc1f-4dbb4d614249"
      },
      "source": [
        "print(train_y)"
      ],
      "execution_count": 245,
      "outputs": [
        {
          "output_type": "stream",
          "text": [
            "    diagnosis\n",
            "9           0\n",
            "468         0\n",
            "382         1\n",
            "322         1\n",
            "84          1\n",
            "..        ...\n",
            "71          1\n",
            "106         1\n",
            "270         1\n",
            "435         0\n",
            "102         1\n",
            "\n",
            "[483 rows x 1 columns]\n"
          ],
          "name": "stdout"
        }
      ]
    },
    {
      "cell_type": "code",
      "metadata": {
        "id": "jvwmkK7xM9tJ"
      },
      "source": [
        "train_y =train_y['diagnosis'].to_numpy() "
      ],
      "execution_count": 246,
      "outputs": []
    },
    {
      "cell_type": "code",
      "metadata": {
        "id": "WlssqnlmNjhB"
      },
      "source": [
        "train_y = train_y.astype(float)"
      ],
      "execution_count": 247,
      "outputs": []
    },
    {
      "cell_type": "markdown",
      "metadata": {
        "id": "XXgYOC0nlY2a"
      },
      "source": [
        "# **3) Baseline Model**"
      ]
    },
    {
      "cell_type": "code",
      "metadata": {
        "id": "H2imbQYVQBk0"
      },
      "source": [
        "test_y =test_y['diagnosis'].to_numpy() \n",
        "test_y = test_y.astype(float)"
      ],
      "execution_count": 248,
      "outputs": []
    },
    {
      "cell_type": "code",
      "metadata": {
        "id": "nj9ocFp_lcDN",
        "colab": {
          "base_uri": "https://localhost:8080/"
        },
        "outputId": "63bbe5ba-08fe-4298-aad1-46973228cfb3"
      },
      "source": [
        "#Create Logistic Regression Model\n",
        "logreg = LogisticRegression(max_iter= 3000)\n",
        "logreg.fit(train_x,train_y)"
      ],
      "execution_count": 249,
      "outputs": [
        {
          "output_type": "execute_result",
          "data": {
            "text/plain": [
              "LogisticRegression(C=1.0, class_weight=None, dual=False, fit_intercept=True,\n",
              "                   intercept_scaling=1, l1_ratio=None, max_iter=3000,\n",
              "                   multi_class='auto', n_jobs=None, penalty='l2',\n",
              "                   random_state=None, solver='lbfgs', tol=0.0001, verbose=0,\n",
              "                   warm_start=False)"
            ]
          },
          "metadata": {
            "tags": []
          },
          "execution_count": 249
        }
      ]
    },
    {
      "cell_type": "code",
      "metadata": {
        "id": "1dT3u8hXllPH",
        "colab": {
          "base_uri": "https://localhost:8080/"
        },
        "outputId": "46b84f8a-0d86-4d0a-9af2-534b0794eb8e"
      },
      "source": [
        "#Get AUC score\n",
        "logit_roc_auc = roc_auc_score(test_y, logreg.predict(test_x))\n",
        "print(logit_roc_auc)"
      ],
      "execution_count": 250,
      "outputs": [
        {
          "output_type": "stream",
          "text": [
            "0.9537037037037037\n"
          ],
          "name": "stdout"
        }
      ]
    },
    {
      "cell_type": "markdown",
      "metadata": {
        "id": "pxEC8ym1uq9d"
      },
      "source": [
        "# **4) Vanilla Decision Tree**"
      ]
    },
    {
      "cell_type": "code",
      "metadata": {
        "id": "_xU14LgNC6Zo",
        "colab": {
          "base_uri": "https://localhost:8080/"
        },
        "outputId": "5989df0c-34cf-4440-ee23-caabdefba012"
      },
      "source": [
        "#Create decision tree for specified depth of 5 and 10 \n",
        "model = DecisionTreeClassifier(max_depth=10)\n",
        "model.fit(train_x,train_y)\n",
        "#max_depth=5,"
      ],
      "execution_count": 251,
      "outputs": [
        {
          "output_type": "execute_result",
          "data": {
            "text/plain": [
              "DecisionTreeClassifier(ccp_alpha=0.0, class_weight=None, criterion='gini',\n",
              "                       max_depth=10, max_features=None, max_leaf_nodes=None,\n",
              "                       min_impurity_decrease=0.0, min_impurity_split=None,\n",
              "                       min_samples_leaf=1, min_samples_split=2,\n",
              "                       min_weight_fraction_leaf=0.0, presort='deprecated',\n",
              "                       random_state=None, splitter='best')"
            ]
          },
          "metadata": {
            "tags": []
          },
          "execution_count": 251
        }
      ]
    },
    {
      "cell_type": "code",
      "metadata": {
        "id": "5fZkmvovDXm2"
      },
      "source": [
        "res_pred = model.predict(test_x)"
      ],
      "execution_count": 252,
      "outputs": []
    },
    {
      "cell_type": "code",
      "metadata": {
        "id": "qSOua9a2z-BF",
        "colab": {
          "base_uri": "https://localhost:8080/"
        },
        "outputId": "9ea6ea9d-8d28-4ebf-b69d-46d9c8212015"
      },
      "source": [
        "print(test_y)"
      ],
      "execution_count": 253,
      "outputs": [
        {
          "output_type": "stream",
          "text": [
            "[1. 0. 0. 1. 1. 0. 0. 0. 1. 1. 1. 0. 1. 0. 1. 0. 1. 1. 1. 0. 0. 1. 0. 1.\n",
            " 1. 1. 1. 1. 1. 0. 1. 1. 1. 1. 1. 1. 0. 1. 0. 1. 1. 0. 1. 1. 1. 1. 1. 1.\n",
            " 1. 1. 0. 0. 1. 1. 1. 1. 1. 0. 0. 1. 1. 0. 0. 1. 1. 1. 0. 0. 1. 1. 0. 0.\n",
            " 1. 0. 1. 1. 1. 0. 1. 1. 0. 1. 0. 0. 0. 0.]\n"
          ],
          "name": "stdout"
        }
      ]
    },
    {
      "cell_type": "code",
      "metadata": {
        "id": "uQkw8jYmz_-u",
        "colab": {
          "base_uri": "https://localhost:8080/"
        },
        "outputId": "907b0e9d-0ac4-4d79-f693-dfb53323bf75"
      },
      "source": [
        "print(res_pred)"
      ],
      "execution_count": 254,
      "outputs": [
        {
          "output_type": "stream",
          "text": [
            "[1. 0. 0. 1. 1. 0. 0. 0. 0. 0. 1. 0. 1. 0. 1. 0. 1. 1. 0. 0. 0. 1. 0. 1.\n",
            " 1. 1. 1. 1. 1. 0. 0. 1. 1. 0. 1. 1. 1. 1. 0. 1. 1. 0. 1. 1. 1. 0. 0. 0.\n",
            " 1. 1. 0. 0. 0. 1. 1. 1. 1. 0. 0. 1. 1. 0. 0. 1. 1. 1. 0. 0. 1. 1. 0. 0.\n",
            " 1. 0. 1. 1. 1. 0. 1. 1. 0. 1. 0. 0. 0. 0.]\n"
          ],
          "name": "stdout"
        }
      ]
    },
    {
      "cell_type": "code",
      "metadata": {
        "id": "3sXtq9v1Eh_2",
        "colab": {
          "base_uri": "https://localhost:8080/"
        },
        "outputId": "bc1f41ad-c87a-46f8-91c2-282cded22489"
      },
      "source": [
        "#Get various scores\n",
        "acc = accuracy_score(res_pred,test_y)\n",
        "rec = recall_score(test_y, res_pred,average='macro')\n",
        "prec = precision_score(test_y, res_pred,average='macro')\n",
        "f1 = f1_score(test_y, res_pred,average='macro')\n",
        "auc = roc_auc_score(test_y, res_pred,average='macro')\n",
        "print('Accuracy:', acc)\n",
        "print('Recall: ', rec)\n",
        "print('Precision:', prec)\n",
        "print('F1: ', f1)\n",
        "print('AUC: ', auc)"
      ],
      "execution_count": 255,
      "outputs": [
        {
          "output_type": "stream",
          "text": [
            "Accuracy: 0.8837209302325582\n",
            "Recall:  0.9010416666666667\n",
            "Precision: 0.8766304347826087\n",
            "F1:  0.8805555555555556\n",
            "AUC:  0.9010416666666667\n"
          ],
          "name": "stdout"
        }
      ]
    },
    {
      "cell_type": "markdown",
      "metadata": {
        "id": "7xU-PjEZu02_"
      },
      "source": [
        "# **5) Neural Network to extract logits**"
      ]
    },
    {
      "cell_type": "code",
      "metadata": {
        "id": "aj5cfcwwQ2cQ",
        "colab": {
          "base_uri": "https://localhost:8080/"
        },
        "outputId": "eb01d263-97a0-4173-ada3-2cea871b7335"
      },
      "source": [
        "#Prepare labels for Neural Network\n",
        "y_train = np.array(keras.utils.to_categorical(train_y))\n",
        "y_test = np.array(keras.utils.to_categorical(test_y))\n",
        "print(y_test.shape)"
      ],
      "execution_count": 256,
      "outputs": [
        {
          "output_type": "stream",
          "text": [
            "(86, 2)\n"
          ],
          "name": "stdout"
        }
      ]
    },
    {
      "cell_type": "code",
      "metadata": {
        "id": "KNE5OSeeRQXT"
      },
      "source": [
        "#Metrics for Neural Network\n",
        "def recall_m(y_true, y_pred):\n",
        "    true_positives = K.sum(K.round(K.clip(y_true * y_pred, 0, 1)))\n",
        "    possible_positives = K.sum(K.round(K.clip(y_true, 0, 1)))\n",
        "    recall = true_positives / (possible_positives + K.epsilon())\n",
        "    return recall\n",
        "\n",
        "def precision_m(y_true, y_pred):\n",
        "    true_positives = K.sum(K.round(K.clip(y_true * y_pred, 0, 1)))\n",
        "    predicted_positives = K.sum(K.round(K.clip(y_pred, 0, 1)))\n",
        "    precision = true_positives / (predicted_positives + K.epsilon())\n",
        "    return precision\n",
        "\n",
        "def f1_m(y_true, y_pred):\n",
        "    precision = precision_m(y_true, y_pred)\n",
        "    recall = recall_m(y_true, y_pred)\n",
        "    return 2*((precision*recall)/(precision+recall+K.epsilon()))\n",
        "\n",
        "def auc_m(y_true, y_pred):\n",
        "     auc = tf.metrics.auc(y_true, y_pred)[1]\n",
        "     K.get_session().run(tf.local_variables_initializer())\n",
        "     return auc"
      ],
      "execution_count": 257,
      "outputs": []
    },
    {
      "cell_type": "code",
      "metadata": {
        "id": "_ac-gLEtQWXN",
        "colab": {
          "base_uri": "https://localhost:8080/"
        },
        "outputId": "4fa71ec8-d346-489a-9aca-e1b2fa0f6c8e"
      },
      "source": [
        "#Built Neural Network\n",
        "def build_model():\n",
        "  inputs = layers.Input(shape=(30))\n",
        "  x = layers.Dense(10,activation='relu',name='fc1')(inputs)\n",
        "  \n",
        "  x = layers.Dropout(rate=0.5, name='Dropout1')(x)\n",
        "\n",
        "  x = layers.Dense(10,activation='relu',name='fc2')(x)\n",
        "\n",
        "  x = layers.Dense(5,activation='relu',name='fc3')(x)\n",
        "\n",
        "  x = layers.Dense(2,name='logits')(x)\n",
        "\n",
        "  preds = layers.Activation('softmax',name='Softmax')(x)\n",
        "\n",
        "  model = Model(inputs=inputs, outputs=preds)\n",
        "  model.summary()\n",
        "  return model\n",
        "model = build_model()"
      ],
      "execution_count": 258,
      "outputs": [
        {
          "output_type": "stream",
          "text": [
            "Model: \"functional_23\"\n",
            "_________________________________________________________________\n",
            "Layer (type)                 Output Shape              Param #   \n",
            "=================================================================\n",
            "input_7 (InputLayer)         [(None, 30)]              0         \n",
            "_________________________________________________________________\n",
            "fc1 (Dense)                  (None, 10)                310       \n",
            "_________________________________________________________________\n",
            "Dropout1 (Dropout)           (None, 10)                0         \n",
            "_________________________________________________________________\n",
            "fc2 (Dense)                  (None, 10)                110       \n",
            "_________________________________________________________________\n",
            "fc3 (Dense)                  (None, 5)                 55        \n",
            "_________________________________________________________________\n",
            "logits (Dense)               (None, 2)                 12        \n",
            "_________________________________________________________________\n",
            "Softmax (Activation)         (None, 2)                 0         \n",
            "=================================================================\n",
            "Total params: 487\n",
            "Trainable params: 487\n",
            "Non-trainable params: 0\n",
            "_________________________________________________________________\n"
          ],
          "name": "stdout"
        }
      ]
    },
    {
      "cell_type": "code",
      "metadata": {
        "id": "vsHxOgNDRCrK"
      },
      "source": [
        "#Set-up filepath and ModelCheckepoint with Earlystopping to save best performing moddel based on Validation AUC\n",
        "filepath = \"/content/drive/MyDrive/Tilburg University/DS&S/Thesis/Google Collab/UCI Breast Cancer Dataset/UCI Saved Models/UCI_MODELV6.hdf5\"\n",
        "model_checkpoint = ModelCheckpoint(filepath,  monitor='val_auc', save_best_only=True, mode='max')\n",
        "es = EarlyStopping(monitor='val_auc', mode='max', verbose=0, patience=5)\n",
        "model.compile(optimizer=\"adam\", loss=\"categorical_crossentropy\", metrics=['acc',f1_m,precision_m, recall_m,tf.keras.metrics.AUC(name='auc')])"
      ],
      "execution_count": 259,
      "outputs": []
    },
    {
      "cell_type": "code",
      "metadata": {
        "id": "ubxxYe91RfS-",
        "colab": {
          "base_uri": "https://localhost:8080/"
        },
        "outputId": "7e24e78b-1ef1-4f48-c218-2280e8e4b75a"
      },
      "source": [
        "#Set epochs and bach size, and train model \n",
        "num_epoch = 100\n",
        "batch_size = 64\n",
        "model1 = model.fit(x=train_x, y=y_train, epochs=num_epoch, batch_size=batch_size, validation_split=0.15,callbacks = [model_checkpoint,es])"
      ],
      "execution_count": 260,
      "outputs": [
        {
          "output_type": "stream",
          "text": [
            "Epoch 1/100\n",
            "7/7 [==============================] - 1s 89ms/step - loss: 0.7001 - acc: 0.4171 - f1_m: 0.4181 - precision_m: 0.4186 - recall_m: 0.4176 - auc: 0.4526 - val_loss: 0.6905 - val_acc: 0.3562 - val_f1_m: 0.3464 - val_precision_m: 0.3464 - val_recall_m: 0.3464 - val_auc: 0.5403\n",
            "Epoch 2/100\n",
            "7/7 [==============================] - 0s 10ms/step - loss: 0.6862 - acc: 0.4561 - f1_m: 0.4696 - precision_m: 0.4696 - recall_m: 0.4696 - auc: 0.5226 - val_loss: 0.6833 - val_acc: 0.4521 - val_f1_m: 0.4010 - val_precision_m: 0.4010 - val_recall_m: 0.4010 - val_auc: 0.5752\n",
            "Epoch 3/100\n",
            "7/7 [==============================] - 0s 10ms/step - loss: 0.6792 - acc: 0.5220 - f1_m: 0.5201 - precision_m: 0.5201 - recall_m: 0.5201 - auc: 0.5837 - val_loss: 0.6763 - val_acc: 0.6027 - val_f1_m: 0.4870 - val_precision_m: 0.4870 - val_recall_m: 0.4870 - val_auc: 0.6737\n",
            "Epoch 4/100\n",
            "7/7 [==============================] - 0s 10ms/step - loss: 0.6734 - acc: 0.6195 - f1_m: 0.6355 - precision_m: 0.6355 - recall_m: 0.6355 - auc: 0.6613 - val_loss: 0.6688 - val_acc: 0.7260 - val_f1_m: 0.6528 - val_precision_m: 0.6528 - val_recall_m: 0.6528 - val_auc: 0.7621\n",
            "Epoch 5/100\n",
            "7/7 [==============================] - 0s 10ms/step - loss: 0.6638 - acc: 0.6317 - f1_m: 0.6336 - precision_m: 0.6336 - recall_m: 0.6336 - auc: 0.7015 - val_loss: 0.6595 - val_acc: 0.7671 - val_f1_m: 0.7240 - val_precision_m: 0.7240 - val_recall_m: 0.7240 - val_auc: 0.8096\n",
            "Epoch 6/100\n",
            "7/7 [==============================] - 0s 9ms/step - loss: 0.6525 - acc: 0.7317 - f1_m: 0.7349 - precision_m: 0.7349 - recall_m: 0.7349 - auc: 0.7926 - val_loss: 0.6455 - val_acc: 0.8356 - val_f1_m: 0.8108 - val_precision_m: 0.8108 - val_recall_m: 0.8108 - val_auc: 0.8609\n",
            "Epoch 7/100\n",
            "7/7 [==============================] - 0s 10ms/step - loss: 0.6315 - acc: 0.7927 - f1_m: 0.7972 - precision_m: 0.7972 - recall_m: 0.7972 - auc: 0.8518 - val_loss: 0.6250 - val_acc: 0.8767 - val_f1_m: 0.8819 - val_precision_m: 0.8819 - val_recall_m: 0.8819 - val_auc: 0.9267\n",
            "Epoch 8/100\n",
            "7/7 [==============================] - 0s 10ms/step - loss: 0.6206 - acc: 0.7927 - f1_m: 0.8005 - precision_m: 0.8005 - recall_m: 0.8005 - auc: 0.8565 - val_loss: 0.6049 - val_acc: 0.8630 - val_f1_m: 0.8741 - val_precision_m: 0.8741 - val_recall_m: 0.8741 - val_auc: 0.9613\n",
            "Epoch 9/100\n",
            "7/7 [==============================] - 0s 10ms/step - loss: 0.6024 - acc: 0.8366 - f1_m: 0.8374 - precision_m: 0.8374 - recall_m: 0.8374 - auc: 0.9121 - val_loss: 0.5871 - val_acc: 0.8767 - val_f1_m: 0.8819 - val_precision_m: 0.8819 - val_recall_m: 0.8819 - val_auc: 0.9709\n",
            "Epoch 10/100\n",
            "7/7 [==============================] - 0s 11ms/step - loss: 0.5973 - acc: 0.8293 - f1_m: 0.8274 - precision_m: 0.8274 - recall_m: 0.8274 - auc: 0.8914 - val_loss: 0.5694 - val_acc: 0.9041 - val_f1_m: 0.9453 - val_precision_m: 0.9453 - val_recall_m: 0.9453 - val_auc: 0.9795\n",
            "Epoch 11/100\n",
            "7/7 [==============================] - 0s 5ms/step - loss: 0.5709 - acc: 0.8317 - f1_m: 0.8362 - precision_m: 0.8362 - recall_m: 0.8362 - auc: 0.9129 - val_loss: 0.5508 - val_acc: 0.8904 - val_f1_m: 0.8898 - val_precision_m: 0.8898 - val_recall_m: 0.8898 - val_auc: 0.9725\n",
            "Epoch 12/100\n",
            "7/7 [==============================] - 0s 5ms/step - loss: 0.5485 - acc: 0.8561 - f1_m: 0.8618 - precision_m: 0.8618 - recall_m: 0.8618 - auc: 0.9311 - val_loss: 0.5308 - val_acc: 0.8904 - val_f1_m: 0.8898 - val_precision_m: 0.8898 - val_recall_m: 0.8898 - val_auc: 0.9764\n",
            "Epoch 13/100\n",
            "7/7 [==============================] - 0s 10ms/step - loss: 0.5322 - acc: 0.8561 - f1_m: 0.8618 - precision_m: 0.8618 - recall_m: 0.8618 - auc: 0.9332 - val_loss: 0.5103 - val_acc: 0.8904 - val_f1_m: 0.9375 - val_precision_m: 0.9375 - val_recall_m: 0.9375 - val_auc: 0.9803\n",
            "Epoch 14/100\n",
            "7/7 [==============================] - 0s 5ms/step - loss: 0.5290 - acc: 0.8317 - f1_m: 0.8395 - precision_m: 0.8395 - recall_m: 0.8395 - auc: 0.9121 - val_loss: 0.4888 - val_acc: 0.8904 - val_f1_m: 0.9375 - val_precision_m: 0.9375 - val_recall_m: 0.9375 - val_auc: 0.9803\n",
            "Epoch 15/100\n",
            "7/7 [==============================] - 0s 5ms/step - loss: 0.5025 - acc: 0.8683 - f1_m: 0.8632 - precision_m: 0.8632 - recall_m: 0.8632 - auc: 0.9284 - val_loss: 0.4663 - val_acc: 0.8904 - val_f1_m: 0.9375 - val_precision_m: 0.9375 - val_recall_m: 0.9375 - val_auc: 0.9799\n",
            "Epoch 16/100\n",
            "7/7 [==============================] - 0s 5ms/step - loss: 0.4838 - acc: 0.8585 - f1_m: 0.8575 - precision_m: 0.8575 - recall_m: 0.8575 - auc: 0.9303 - val_loss: 0.4460 - val_acc: 0.9041 - val_f1_m: 0.9453 - val_precision_m: 0.9453 - val_recall_m: 0.9453 - val_auc: 0.9773\n",
            "Epoch 17/100\n",
            "7/7 [==============================] - 0s 9ms/step - loss: 0.4472 - acc: 0.8854 - f1_m: 0.8853 - precision_m: 0.8853 - recall_m: 0.8853 - auc: 0.9524 - val_loss: 0.4225 - val_acc: 0.9041 - val_f1_m: 0.9453 - val_precision_m: 0.9453 - val_recall_m: 0.9453 - val_auc: 0.9806\n",
            "Epoch 18/100\n",
            "7/7 [==============================] - 0s 11ms/step - loss: 0.4299 - acc: 0.8805 - f1_m: 0.8776 - precision_m: 0.8776 - recall_m: 0.8776 - auc: 0.9488 - val_loss: 0.4002 - val_acc: 0.8904 - val_f1_m: 0.9375 - val_precision_m: 0.9375 - val_recall_m: 0.9375 - val_auc: 0.9812\n",
            "Epoch 19/100\n",
            "7/7 [==============================] - 0s 5ms/step - loss: 0.4196 - acc: 0.8659 - f1_m: 0.8577 - precision_m: 0.8577 - recall_m: 0.8577 - auc: 0.9424 - val_loss: 0.3809 - val_acc: 0.9041 - val_f1_m: 0.9453 - val_precision_m: 0.9453 - val_recall_m: 0.9453 - val_auc: 0.9803\n",
            "Epoch 20/100\n",
            "7/7 [==============================] - 0s 5ms/step - loss: 0.4016 - acc: 0.8927 - f1_m: 0.8920 - precision_m: 0.8920 - recall_m: 0.8920 - auc: 0.9398 - val_loss: 0.3639 - val_acc: 0.9178 - val_f1_m: 0.9531 - val_precision_m: 0.9531 - val_recall_m: 0.9531 - val_auc: 0.9787\n",
            "Epoch 21/100\n",
            "7/7 [==============================] - 0s 11ms/step - loss: 0.3876 - acc: 0.8927 - f1_m: 0.8789 - precision_m: 0.8789 - recall_m: 0.8789 - auc: 0.9473 - val_loss: 0.3457 - val_acc: 0.9041 - val_f1_m: 0.9453 - val_precision_m: 0.9453 - val_recall_m: 0.9453 - val_auc: 0.9815\n",
            "Epoch 22/100\n",
            "7/7 [==============================] - 0s 6ms/step - loss: 0.3779 - acc: 0.8854 - f1_m: 0.8886 - precision_m: 0.8886 - recall_m: 0.8886 - auc: 0.9444 - val_loss: 0.3306 - val_acc: 0.9041 - val_f1_m: 0.9453 - val_precision_m: 0.9453 - val_recall_m: 0.9453 - val_auc: 0.9812\n",
            "Epoch 23/100\n",
            "7/7 [==============================] - 0s 5ms/step - loss: 0.3367 - acc: 0.9024 - f1_m: 0.9042 - precision_m: 0.9042 - recall_m: 0.9042 - auc: 0.9670 - val_loss: 0.3193 - val_acc: 0.9041 - val_f1_m: 0.8976 - val_precision_m: 0.8976 - val_recall_m: 0.8976 - val_auc: 0.9773\n",
            "Epoch 24/100\n",
            "7/7 [==============================] - 0s 5ms/step - loss: 0.3398 - acc: 0.8878 - f1_m: 0.8875 - precision_m: 0.8875 - recall_m: 0.8875 - auc: 0.9576 - val_loss: 0.3081 - val_acc: 0.9041 - val_f1_m: 0.8976 - val_precision_m: 0.8976 - val_recall_m: 0.8976 - val_auc: 0.9747\n",
            "Epoch 25/100\n",
            "7/7 [==============================] - 0s 7ms/step - loss: 0.3440 - acc: 0.8878 - f1_m: 0.8843 - precision_m: 0.8843 - recall_m: 0.8843 - auc: 0.9559 - val_loss: 0.2921 - val_acc: 0.9041 - val_f1_m: 0.8976 - val_precision_m: 0.8976 - val_recall_m: 0.8976 - val_auc: 0.9775\n",
            "Epoch 26/100\n",
            "7/7 [==============================] - 0s 11ms/step - loss: 0.3197 - acc: 0.8854 - f1_m: 0.8886 - precision_m: 0.8886 - recall_m: 0.8886 - auc: 0.9565 - val_loss: 0.2766 - val_acc: 0.9041 - val_f1_m: 0.9453 - val_precision_m: 0.9453 - val_recall_m: 0.9453 - val_auc: 0.9828\n",
            "Epoch 27/100\n",
            "7/7 [==============================] - 0s 11ms/step - loss: 0.3081 - acc: 0.9000 - f1_m: 0.9052 - precision_m: 0.9052 - recall_m: 0.9052 - auc: 0.9676 - val_loss: 0.2654 - val_acc: 0.9041 - val_f1_m: 0.9453 - val_precision_m: 0.9453 - val_recall_m: 0.9453 - val_auc: 0.9831\n",
            "Epoch 28/100\n",
            "7/7 [==============================] - 0s 5ms/step - loss: 0.3063 - acc: 0.8829 - f1_m: 0.8863 - precision_m: 0.8863 - recall_m: 0.8863 - auc: 0.9593 - val_loss: 0.2591 - val_acc: 0.9178 - val_f1_m: 0.9531 - val_precision_m: 0.9531 - val_recall_m: 0.9531 - val_auc: 0.9822\n",
            "Epoch 29/100\n",
            "7/7 [==============================] - 0s 10ms/step - loss: 0.2977 - acc: 0.8951 - f1_m: 0.8942 - precision_m: 0.8942 - recall_m: 0.8942 - auc: 0.9604 - val_loss: 0.2470 - val_acc: 0.9178 - val_f1_m: 0.9531 - val_precision_m: 0.9531 - val_recall_m: 0.9531 - val_auc: 0.9837\n",
            "Epoch 30/100\n",
            "7/7 [==============================] - 0s 11ms/step - loss: 0.2825 - acc: 0.9000 - f1_m: 0.9052 - precision_m: 0.9052 - recall_m: 0.9052 - auc: 0.9666 - val_loss: 0.2375 - val_acc: 0.9041 - val_f1_m: 0.9453 - val_precision_m: 0.9453 - val_recall_m: 0.9453 - val_auc: 0.9846\n",
            "Epoch 31/100\n",
            "7/7 [==============================] - 0s 10ms/step - loss: 0.2666 - acc: 0.9073 - f1_m: 0.9054 - precision_m: 0.9054 - recall_m: 0.9054 - auc: 0.9714 - val_loss: 0.2317 - val_acc: 0.9178 - val_f1_m: 0.9531 - val_precision_m: 0.9531 - val_recall_m: 0.9531 - val_auc: 0.9849\n",
            "Epoch 32/100\n",
            "7/7 [==============================] - 0s 11ms/step - loss: 0.2616 - acc: 0.9146 - f1_m: 0.9219 - precision_m: 0.9219 - recall_m: 0.9219 - auc: 0.9714 - val_loss: 0.2271 - val_acc: 0.9178 - val_f1_m: 0.9531 - val_precision_m: 0.9531 - val_recall_m: 0.9531 - val_auc: 0.9852\n",
            "Epoch 33/100\n",
            "7/7 [==============================] - 0s 5ms/step - loss: 0.2518 - acc: 0.9195 - f1_m: 0.9198 - precision_m: 0.9198 - recall_m: 0.9198 - auc: 0.9685 - val_loss: 0.2228 - val_acc: 0.9178 - val_f1_m: 0.9531 - val_precision_m: 0.9531 - val_recall_m: 0.9531 - val_auc: 0.9850\n",
            "Epoch 34/100\n",
            "7/7 [==============================] - 0s 5ms/step - loss: 0.2330 - acc: 0.9146 - f1_m: 0.9121 - precision_m: 0.9121 - recall_m: 0.9121 - auc: 0.9773 - val_loss: 0.2184 - val_acc: 0.9178 - val_f1_m: 0.9531 - val_precision_m: 0.9531 - val_recall_m: 0.9531 - val_auc: 0.9839\n",
            "Epoch 35/100\n",
            "7/7 [==============================] - 0s 11ms/step - loss: 0.2370 - acc: 0.8976 - f1_m: 0.8965 - precision_m: 0.8965 - recall_m: 0.8965 - auc: 0.9757 - val_loss: 0.2081 - val_acc: 0.9178 - val_f1_m: 0.9531 - val_precision_m: 0.9531 - val_recall_m: 0.9531 - val_auc: 0.9854\n",
            "Epoch 36/100\n",
            "7/7 [==============================] - 0s 6ms/step - loss: 0.2570 - acc: 0.9098 - f1_m: 0.9141 - precision_m: 0.9141 - recall_m: 0.9141 - auc: 0.9646 - val_loss: 0.2036 - val_acc: 0.9178 - val_f1_m: 0.9531 - val_precision_m: 0.9531 - val_recall_m: 0.9531 - val_auc: 0.9852\n",
            "Epoch 37/100\n",
            "7/7 [==============================] - 0s 10ms/step - loss: 0.2289 - acc: 0.9195 - f1_m: 0.9263 - precision_m: 0.9263 - recall_m: 0.9263 - auc: 0.9743 - val_loss: 0.2004 - val_acc: 0.9178 - val_f1_m: 0.9531 - val_precision_m: 0.9531 - val_recall_m: 0.9531 - val_auc: 0.9856\n",
            "Epoch 38/100\n",
            "7/7 [==============================] - 0s 5ms/step - loss: 0.2366 - acc: 0.9073 - f1_m: 0.9021 - precision_m: 0.9021 - recall_m: 0.9021 - auc: 0.9679 - val_loss: 0.2007 - val_acc: 0.9178 - val_f1_m: 0.9531 - val_precision_m: 0.9531 - val_recall_m: 0.9531 - val_auc: 0.9851\n",
            "Epoch 39/100\n",
            "7/7 [==============================] - 0s 5ms/step - loss: 0.2291 - acc: 0.9122 - f1_m: 0.9131 - precision_m: 0.9131 - recall_m: 0.9131 - auc: 0.9725 - val_loss: 0.1973 - val_acc: 0.9178 - val_f1_m: 0.9531 - val_precision_m: 0.9531 - val_recall_m: 0.9531 - val_auc: 0.9855\n",
            "Epoch 40/100\n",
            "7/7 [==============================] - 0s 6ms/step - loss: 0.1967 - acc: 0.9341 - f1_m: 0.9299 - precision_m: 0.9299 - recall_m: 0.9299 - auc: 0.9832 - val_loss: 0.1943 - val_acc: 0.9315 - val_f1_m: 0.9609 - val_precision_m: 0.9609 - val_recall_m: 0.9609 - val_auc: 0.9850\n",
            "Epoch 41/100\n",
            "7/7 [==============================] - 0s 10ms/step - loss: 0.2219 - acc: 0.9195 - f1_m: 0.9133 - precision_m: 0.9133 - recall_m: 0.9133 - auc: 0.9720 - val_loss: 0.1861 - val_acc: 0.9178 - val_f1_m: 0.9531 - val_precision_m: 0.9531 - val_recall_m: 0.9531 - val_auc: 0.9858\n",
            "Epoch 42/100\n",
            "7/7 [==============================] - 0s 11ms/step - loss: 0.2415 - acc: 0.9049 - f1_m: 0.9064 - precision_m: 0.9064 - recall_m: 0.9064 - auc: 0.9665 - val_loss: 0.1831 - val_acc: 0.9315 - val_f1_m: 0.9609 - val_precision_m: 0.9609 - val_recall_m: 0.9609 - val_auc: 0.9859\n",
            "Epoch 43/100\n",
            "7/7 [==============================] - 0s 5ms/step - loss: 0.2029 - acc: 0.9293 - f1_m: 0.9222 - precision_m: 0.9222 - recall_m: 0.9222 - auc: 0.9786 - val_loss: 0.1826 - val_acc: 0.9315 - val_f1_m: 0.9609 - val_precision_m: 0.9609 - val_recall_m: 0.9609 - val_auc: 0.9857\n",
            "Epoch 44/100\n",
            "7/7 [==============================] - 0s 10ms/step - loss: 0.2182 - acc: 0.9195 - f1_m: 0.9100 - precision_m: 0.9100 - recall_m: 0.9100 - auc: 0.9726 - val_loss: 0.1748 - val_acc: 0.9178 - val_f1_m: 0.9531 - val_precision_m: 0.9531 - val_recall_m: 0.9531 - val_auc: 0.9874\n",
            "Epoch 45/100\n",
            "7/7 [==============================] - 0s 10ms/step - loss: 0.1993 - acc: 0.9244 - f1_m: 0.9178 - precision_m: 0.9178 - recall_m: 0.9178 - auc: 0.9790 - val_loss: 0.1706 - val_acc: 0.9178 - val_f1_m: 0.9531 - val_precision_m: 0.9531 - val_recall_m: 0.9531 - val_auc: 0.9876\n",
            "Epoch 46/100\n",
            "7/7 [==============================] - 0s 11ms/step - loss: 0.2051 - acc: 0.9244 - f1_m: 0.9243 - precision_m: 0.9243 - recall_m: 0.9243 - auc: 0.9774 - val_loss: 0.1691 - val_acc: 0.9178 - val_f1_m: 0.9531 - val_precision_m: 0.9531 - val_recall_m: 0.9531 - val_auc: 0.9878\n",
            "Epoch 47/100\n",
            "7/7 [==============================] - 0s 11ms/step - loss: 0.1961 - acc: 0.9171 - f1_m: 0.9143 - precision_m: 0.9143 - recall_m: 0.9143 - auc: 0.9826 - val_loss: 0.1687 - val_acc: 0.9315 - val_f1_m: 0.9609 - val_precision_m: 0.9609 - val_recall_m: 0.9609 - val_auc: 0.9880\n",
            "Epoch 48/100\n",
            "7/7 [==============================] - 0s 6ms/step - loss: 0.2128 - acc: 0.9220 - f1_m: 0.9220 - precision_m: 0.9220 - recall_m: 0.9220 - auc: 0.9732 - val_loss: 0.1699 - val_acc: 0.9315 - val_f1_m: 0.9609 - val_precision_m: 0.9609 - val_recall_m: 0.9609 - val_auc: 0.9878\n",
            "Epoch 49/100\n",
            "7/7 [==============================] - 0s 5ms/step - loss: 0.1881 - acc: 0.9317 - f1_m: 0.9342 - precision_m: 0.9342 - recall_m: 0.9342 - auc: 0.9817 - val_loss: 0.1691 - val_acc: 0.9315 - val_f1_m: 0.9609 - val_precision_m: 0.9609 - val_recall_m: 0.9609 - val_auc: 0.9878\n",
            "Epoch 50/100\n",
            "7/7 [==============================] - 0s 10ms/step - loss: 0.1961 - acc: 0.9293 - f1_m: 0.9320 - precision_m: 0.9320 - recall_m: 0.9320 - auc: 0.9797 - val_loss: 0.1615 - val_acc: 0.9315 - val_f1_m: 0.9609 - val_precision_m: 0.9609 - val_recall_m: 0.9609 - val_auc: 0.9884\n",
            "Epoch 51/100\n",
            "7/7 [==============================] - 0s 5ms/step - loss: 0.1865 - acc: 0.9293 - f1_m: 0.9287 - precision_m: 0.9287 - recall_m: 0.9287 - auc: 0.9817 - val_loss: 0.1589 - val_acc: 0.9315 - val_f1_m: 0.9609 - val_precision_m: 0.9609 - val_recall_m: 0.9609 - val_auc: 0.9884\n",
            "Epoch 52/100\n",
            "7/7 [==============================] - 0s 6ms/step - loss: 0.1893 - acc: 0.9293 - f1_m: 0.9222 - precision_m: 0.9222 - recall_m: 0.9222 - auc: 0.9781 - val_loss: 0.1715 - val_acc: 0.9315 - val_f1_m: 0.9609 - val_precision_m: 0.9609 - val_recall_m: 0.9609 - val_auc: 0.9867\n",
            "Epoch 53/100\n",
            "7/7 [==============================] - 0s 5ms/step - loss: 0.1867 - acc: 0.9341 - f1_m: 0.9397 - precision_m: 0.9397 - recall_m: 0.9397 - auc: 0.9784 - val_loss: 0.1692 - val_acc: 0.9315 - val_f1_m: 0.9609 - val_precision_m: 0.9609 - val_recall_m: 0.9609 - val_auc: 0.9872\n",
            "Epoch 54/100\n",
            "7/7 [==============================] - 0s 10ms/step - loss: 0.1813 - acc: 0.9463 - f1_m: 0.9444 - precision_m: 0.9444 - recall_m: 0.9444 - auc: 0.9818 - val_loss: 0.1600 - val_acc: 0.9315 - val_f1_m: 0.9609 - val_precision_m: 0.9609 - val_recall_m: 0.9609 - val_auc: 0.9886\n",
            "Epoch 55/100\n",
            "7/7 [==============================] - 0s 11ms/step - loss: 0.1856 - acc: 0.9317 - f1_m: 0.9375 - precision_m: 0.9375 - recall_m: 0.9375 - auc: 0.9821 - val_loss: 0.1553 - val_acc: 0.9315 - val_f1_m: 0.9609 - val_precision_m: 0.9609 - val_recall_m: 0.9609 - val_auc: 0.9895\n",
            "Epoch 56/100\n",
            "7/7 [==============================] - 0s 9ms/step - loss: 0.1705 - acc: 0.9439 - f1_m: 0.9421 - precision_m: 0.9421 - recall_m: 0.9421 - auc: 0.9832 - val_loss: 0.1547 - val_acc: 0.9315 - val_f1_m: 0.9609 - val_precision_m: 0.9609 - val_recall_m: 0.9609 - val_auc: 0.9899\n",
            "Epoch 57/100\n",
            "7/7 [==============================] - 0s 11ms/step - loss: 0.1684 - acc: 0.9390 - f1_m: 0.9344 - precision_m: 0.9344 - recall_m: 0.9344 - auc: 0.9842 - val_loss: 0.1505 - val_acc: 0.9315 - val_f1_m: 0.9609 - val_precision_m: 0.9609 - val_recall_m: 0.9609 - val_auc: 0.9902\n",
            "Epoch 58/100\n",
            "7/7 [==============================] - 0s 5ms/step - loss: 0.1672 - acc: 0.9366 - f1_m: 0.9257 - precision_m: 0.9257 - recall_m: 0.9257 - auc: 0.9843 - val_loss: 0.1457 - val_acc: 0.9315 - val_f1_m: 0.9609 - val_precision_m: 0.9609 - val_recall_m: 0.9609 - val_auc: 0.9897\n",
            "Epoch 59/100\n",
            "7/7 [==============================] - 0s 12ms/step - loss: 0.1580 - acc: 0.9390 - f1_m: 0.9409 - precision_m: 0.9409 - recall_m: 0.9409 - auc: 0.9870 - val_loss: 0.1499 - val_acc: 0.9315 - val_f1_m: 0.9609 - val_precision_m: 0.9609 - val_recall_m: 0.9609 - val_auc: 0.9908\n",
            "Epoch 60/100\n",
            "7/7 [==============================] - 0s 10ms/step - loss: 0.1818 - acc: 0.9341 - f1_m: 0.9332 - precision_m: 0.9332 - recall_m: 0.9332 - auc: 0.9818 - val_loss: 0.1510 - val_acc: 0.9315 - val_f1_m: 0.9609 - val_precision_m: 0.9609 - val_recall_m: 0.9609 - val_auc: 0.9912\n",
            "Epoch 61/100\n",
            "7/7 [==============================] - 0s 5ms/step - loss: 0.1832 - acc: 0.9268 - f1_m: 0.9298 - precision_m: 0.9298 - recall_m: 0.9298 - auc: 0.9802 - val_loss: 0.1466 - val_acc: 0.9315 - val_f1_m: 0.9609 - val_precision_m: 0.9609 - val_recall_m: 0.9609 - val_auc: 0.9904\n",
            "Epoch 62/100\n",
            "7/7 [==============================] - 0s 5ms/step - loss: 0.1629 - acc: 0.9415 - f1_m: 0.9366 - precision_m: 0.9366 - recall_m: 0.9366 - auc: 0.9858 - val_loss: 0.1461 - val_acc: 0.9315 - val_f1_m: 0.9609 - val_precision_m: 0.9609 - val_recall_m: 0.9609 - val_auc: 0.9904\n",
            "Epoch 63/100\n",
            "7/7 [==============================] - 0s 5ms/step - loss: 0.1712 - acc: 0.9341 - f1_m: 0.9365 - precision_m: 0.9365 - recall_m: 0.9365 - auc: 0.9840 - val_loss: 0.1396 - val_acc: 0.9315 - val_f1_m: 0.9609 - val_precision_m: 0.9609 - val_recall_m: 0.9609 - val_auc: 0.9901\n",
            "Epoch 64/100\n",
            "7/7 [==============================] - 0s 5ms/step - loss: 0.1510 - acc: 0.9341 - f1_m: 0.9332 - precision_m: 0.9332 - recall_m: 0.9332 - auc: 0.9884 - val_loss: 0.1395 - val_acc: 0.9315 - val_f1_m: 0.9609 - val_precision_m: 0.9609 - val_recall_m: 0.9609 - val_auc: 0.9904\n",
            "Epoch 65/100\n",
            "7/7 [==============================] - 0s 10ms/step - loss: 0.1508 - acc: 0.9390 - f1_m: 0.9442 - precision_m: 0.9442 - recall_m: 0.9442 - auc: 0.9882 - val_loss: 0.1399 - val_acc: 0.9315 - val_f1_m: 0.9609 - val_precision_m: 0.9609 - val_recall_m: 0.9609 - val_auc: 0.9914\n",
            "Epoch 66/100\n",
            "7/7 [==============================] - 0s 6ms/step - loss: 0.1591 - acc: 0.9463 - f1_m: 0.9444 - precision_m: 0.9444 - recall_m: 0.9444 - auc: 0.9856 - val_loss: 0.1437 - val_acc: 0.9315 - val_f1_m: 0.9609 - val_precision_m: 0.9609 - val_recall_m: 0.9609 - val_auc: 0.9908\n",
            "Epoch 67/100\n",
            "7/7 [==============================] - 0s 5ms/step - loss: 0.1673 - acc: 0.9390 - f1_m: 0.9442 - precision_m: 0.9442 - recall_m: 0.9442 - auc: 0.9852 - val_loss: 0.1400 - val_acc: 0.9315 - val_f1_m: 0.9609 - val_precision_m: 0.9609 - val_recall_m: 0.9609 - val_auc: 0.9912\n",
            "Epoch 68/100\n",
            "7/7 [==============================] - 0s 5ms/step - loss: 0.1627 - acc: 0.9512 - f1_m: 0.9488 - precision_m: 0.9488 - recall_m: 0.9488 - auc: 0.9826 - val_loss: 0.1337 - val_acc: 0.9315 - val_f1_m: 0.9609 - val_precision_m: 0.9609 - val_recall_m: 0.9609 - val_auc: 0.9902\n",
            "Epoch 69/100\n",
            "7/7 [==============================] - 0s 6ms/step - loss: 0.1297 - acc: 0.9537 - f1_m: 0.9478 - precision_m: 0.9478 - recall_m: 0.9478 - auc: 0.9924 - val_loss: 0.1290 - val_acc: 0.9315 - val_f1_m: 0.9609 - val_precision_m: 0.9609 - val_recall_m: 0.9609 - val_auc: 0.9912\n",
            "Epoch 70/100\n",
            "7/7 [==============================] - 0s 5ms/step - loss: 0.1452 - acc: 0.9463 - f1_m: 0.9444 - precision_m: 0.9444 - recall_m: 0.9444 - auc: 0.9863 - val_loss: 0.1276 - val_acc: 0.9315 - val_f1_m: 0.9609 - val_precision_m: 0.9609 - val_recall_m: 0.9609 - val_auc: 0.9914\n"
          ],
          "name": "stdout"
        }
      ]
    },
    {
      "cell_type": "code",
      "metadata": {
        "id": "FLG5ktggyUFA",
        "colab": {
          "base_uri": "https://localhost:8080/"
        },
        "outputId": "34c3631f-00fa-44e3-cfd1-323db6c7c11c"
      },
      "source": [
        "#filepath = \"/content/drive/My Drive/Tilburg University/DS&S/Thesis/Models/DownsampledV2.hdf5\"\n",
        "#Train performance\n",
        "prediction_model = tf.keras.models.load_model(filepath, custom_objects={'f1_m':f1_m,'precision_m':precision_m, 'recall_m':recall_m, 'auc': tf.keras.metrics.AUC() }) \n",
        "loss, accuracy, f1_score, precision, recall, auc = prediction_model.evaluate(train_x,y_train, verbose=0, batch_size=64)\n",
        "\n",
        "print('Train Accuracy:',accuracy)\n",
        "print('Train Recall:',recall)\n",
        "print('Train Precision:',precision)\n",
        "print('Train F1:',f1_score)\n",
        "print('Train AUC:',auc)\n",
        "prediction_model.summary()"
      ],
      "execution_count": 261,
      "outputs": [
        {
          "output_type": "stream",
          "text": [
            "Train Accuracy: 0.9730848670005798\n",
            "Train Recall: 0.9697544574737549\n",
            "Train Precision: 0.9697544574737549\n",
            "Train F1: 0.9697544574737549\n",
            "Train AUC: 0.9955912828445435\n",
            "Model: \"functional_23\"\n",
            "_________________________________________________________________\n",
            "Layer (type)                 Output Shape              Param #   \n",
            "=================================================================\n",
            "input_7 (InputLayer)         [(None, 30)]              0         \n",
            "_________________________________________________________________\n",
            "fc1 (Dense)                  (None, 10)                310       \n",
            "_________________________________________________________________\n",
            "Dropout1 (Dropout)           (None, 10)                0         \n",
            "_________________________________________________________________\n",
            "fc2 (Dense)                  (None, 10)                110       \n",
            "_________________________________________________________________\n",
            "fc3 (Dense)                  (None, 5)                 55        \n",
            "_________________________________________________________________\n",
            "logits (Dense)               (None, 2)                 12        \n",
            "_________________________________________________________________\n",
            "Softmax (Activation)         (None, 2)                 0         \n",
            "=================================================================\n",
            "Total params: 487\n",
            "Trainable params: 487\n",
            "Non-trainable params: 0\n",
            "_________________________________________________________________\n"
          ],
          "name": "stdout"
        }
      ]
    },
    {
      "cell_type": "code",
      "metadata": {
        "id": "EHKc8nx1iilu",
        "colab": {
          "base_uri": "https://localhost:8080/"
        },
        "outputId": "634df826-a0a6-4a70-9eb9-2fc076b47914"
      },
      "source": [
        "#Test performance\n",
        "loss, accuracy, f1_score, precision, recall, auc = prediction_model.evaluate(test_x, y_test, verbose=0, batch_size=64)\n",
        "\n",
        "print('Test Accuracy:',accuracy)\n",
        "print('Test Recall:',recall)\n",
        "print('Test Precision:',precision)\n",
        "print('Test F1:',f1_score)\n",
        "print('Test AUC:',auc)\n",
        "prediction_model.summary()"
      ],
      "execution_count": 262,
      "outputs": [
        {
          "output_type": "stream",
          "text": [
            "Test Accuracy: 0.9418604373931885\n",
            "Test Recall: 0.9460227489471436\n",
            "Test Precision: 0.9460227489471436\n",
            "Test F1: 0.946022629737854\n",
            "Test AUC: 0.9931043982505798\n",
            "Model: \"functional_23\"\n",
            "_________________________________________________________________\n",
            "Layer (type)                 Output Shape              Param #   \n",
            "=================================================================\n",
            "input_7 (InputLayer)         [(None, 30)]              0         \n",
            "_________________________________________________________________\n",
            "fc1 (Dense)                  (None, 10)                310       \n",
            "_________________________________________________________________\n",
            "Dropout1 (Dropout)           (None, 10)                0         \n",
            "_________________________________________________________________\n",
            "fc2 (Dense)                  (None, 10)                110       \n",
            "_________________________________________________________________\n",
            "fc3 (Dense)                  (None, 5)                 55        \n",
            "_________________________________________________________________\n",
            "logits (Dense)               (None, 2)                 12        \n",
            "_________________________________________________________________\n",
            "Softmax (Activation)         (None, 2)                 0         \n",
            "=================================================================\n",
            "Total params: 487\n",
            "Trainable params: 487\n",
            "Non-trainable params: 0\n",
            "_________________________________________________________________\n"
          ],
          "name": "stdout"
        }
      ]
    },
    {
      "cell_type": "code",
      "metadata": {
        "colab": {
          "base_uri": "https://localhost:8080/"
        },
        "id": "Gt-V3-DwsW4X",
        "outputId": "d58e2383-0f0a-4158-f511-c30f7adbafb7"
      },
      "source": [
        "#Best Performance\n",
        "#best_filepath =  \"/content/drive/MyDrive/Tilburg University/DS&S/Thesis/Google Collab/UCI Breast Cancer Dataset/UCI Saved Models/UCI_MODELV4.hdf5\"\n",
        "best_model = tf.keras.models.load_model(best_filepath, custom_objects={'f1_m':f1_m,'precision_m':precision_m, 'recall_m':recall_m, 'auc': tf.keras.metrics.AUC() }) \n",
        "loss, accuracy, f1_score, precision, recall, auc = best_model.evaluate(test_x,y_test, verbose=0, batch_size=64)\n",
        "\n",
        "#print('Best Accuracy:',accuracy)\n",
        "#print('Best Recall:',recall)\n",
        "#print('Best Precision:',precision)\n",
        "#print('Best F1:',f1_score)\n",
        "print('Best AUC:',auc)\n",
        "best_model.summary()"
      ],
      "execution_count": 263,
      "outputs": [
        {
          "output_type": "stream",
          "text": [
            "Best AUC: 0.9906030297279358\n",
            "Model: \"functional_1\"\n",
            "_________________________________________________________________\n",
            "Layer (type)                 Output Shape              Param #   \n",
            "=================================================================\n",
            "input_1 (InputLayer)         [(None, 30)]              0         \n",
            "_________________________________________________________________\n",
            "fc1 (Dense)                  (None, 10)                310       \n",
            "_________________________________________________________________\n",
            "Dropout1 (Dropout)           (None, 10)                0         \n",
            "_________________________________________________________________\n",
            "fc2 (Dense)                  (None, 10)                110       \n",
            "_________________________________________________________________\n",
            "fc3 (Dense)                  (None, 5)                 55        \n",
            "_________________________________________________________________\n",
            "logits (Dense)               (None, 2)                 12        \n",
            "_________________________________________________________________\n",
            "Softmax (Activation)         (None, 2)                 0         \n",
            "=================================================================\n",
            "Total params: 487\n",
            "Trainable params: 487\n",
            "Non-trainable params: 0\n",
            "_________________________________________________________________\n"
          ],
          "name": "stdout"
        }
      ]
    },
    {
      "cell_type": "markdown",
      "metadata": {
        "id": "VtYLb2WIvM7v"
      },
      "source": [
        "# **6) Extract Logits**"
      ]
    },
    {
      "cell_type": "code",
      "metadata": {
        "id": "xBXqXQzDSXrH"
      },
      "source": [
        "#Load the best model\n",
        "#filepath =  \"/content/drive/MyDrive/Tilburg University/DS&S/Thesis/Google Collab/UCI Breast Cancer Dataset/UCI Saved Models/UCI_MODELV4.hdf5\"\n",
        "model = tf.keras.models.load_model(best_filepath, custom_objects={'f1_m':f1_m,'precision_m':precision_m, 'recall_m':recall_m}) "
      ],
      "execution_count": 273,
      "outputs": []
    },
    {
      "cell_type": "code",
      "metadata": {
        "id": "aE4_YZFLSe5s",
        "colab": {
          "base_uri": "https://localhost:8080/"
        },
        "outputId": "2305c77b-d4eb-4a2f-b5a7-bd0efe682075"
      },
      "source": [
        "#Compile it again\n",
        "model.compile(optimizer=\"adam\", loss=\"categorical_crossentropy\", metrics=['acc',f1_m,precision_m, recall_m,tf.keras.metrics.AUC()])\n",
        "model.summary()"
      ],
      "execution_count": 274,
      "outputs": [
        {
          "output_type": "stream",
          "text": [
            "Model: \"functional_1\"\n",
            "_________________________________________________________________\n",
            "Layer (type)                 Output Shape              Param #   \n",
            "=================================================================\n",
            "input_1 (InputLayer)         [(None, 30)]              0         \n",
            "_________________________________________________________________\n",
            "fc1 (Dense)                  (None, 10)                310       \n",
            "_________________________________________________________________\n",
            "Dropout1 (Dropout)           (None, 10)                0         \n",
            "_________________________________________________________________\n",
            "fc2 (Dense)                  (None, 10)                110       \n",
            "_________________________________________________________________\n",
            "fc3 (Dense)                  (None, 5)                 55        \n",
            "_________________________________________________________________\n",
            "logits (Dense)               (None, 2)                 12        \n",
            "_________________________________________________________________\n",
            "Softmax (Activation)         (None, 2)                 0         \n",
            "=================================================================\n",
            "Total params: 487\n",
            "Trainable params: 487\n",
            "Non-trainable params: 0\n",
            "_________________________________________________________________\n"
          ],
          "name": "stdout"
        }
      ]
    },
    {
      "cell_type": "code",
      "metadata": {
        "id": "H1ULf9bTSgey"
      },
      "source": [
        "#Remove last softmax layer and predict again\n",
        "model_sans_softmax = Model(inputs=model.input, outputs=model.get_layer(\"logits\").output)\n",
        "model_logits = model_sans_softmax.predict(train_x)"
      ],
      "execution_count": 275,
      "outputs": []
    },
    {
      "cell_type": "code",
      "metadata": {
        "id": "l3mlZABRTChi"
      },
      "source": [
        "#Get the logits\n",
        "soft_targets = model_logits"
      ],
      "execution_count": 276,
      "outputs": []
    },
    {
      "cell_type": "markdown",
      "metadata": {
        "id": "c_90Q3A-vZib"
      },
      "source": [
        "# **7) Get Student Decision Tree**\n"
      ]
    },
    {
      "cell_type": "code",
      "metadata": {
        "id": "aV4vN0tITI40"
      },
      "source": [
        "#Set up Decision Tree for Knowledge Distillation at given depth \n",
        "model = DecisionTreeRegressor(max_depth=10)"
      ],
      "execution_count": 277,
      "outputs": []
    },
    {
      "cell_type": "code",
      "metadata": {
        "id": "RvZEU0miTPFF",
        "colab": {
          "base_uri": "https://localhost:8080/"
        },
        "outputId": "8ab2ea97-8765-416f-c58e-d7c7b24af4c4"
      },
      "source": [
        "#Train Decision Tree\n",
        "model.fit(train_x,soft_targets)"
      ],
      "execution_count": 278,
      "outputs": [
        {
          "output_type": "execute_result",
          "data": {
            "text/plain": [
              "DecisionTreeRegressor(ccp_alpha=0.0, criterion='mse', max_depth=10,\n",
              "                      max_features=None, max_leaf_nodes=None,\n",
              "                      min_impurity_decrease=0.0, min_impurity_split=None,\n",
              "                      min_samples_leaf=1, min_samples_split=2,\n",
              "                      min_weight_fraction_leaf=0.0, presort='deprecated',\n",
              "                      random_state=None, splitter='best')"
            ]
          },
          "metadata": {
            "tags": []
          },
          "execution_count": 278
        }
      ]
    },
    {
      "cell_type": "code",
      "metadata": {
        "id": "HLXLGRqITdOD"
      },
      "source": [
        "#Get predictions\n",
        "res_pred = model.predict(test_x)"
      ],
      "execution_count": 279,
      "outputs": []
    },
    {
      "cell_type": "code",
      "metadata": {
        "id": "Xxqb3JGZTfBF"
      },
      "source": [
        "#Covnvert continious predictions to categorical ones\n",
        "pred_argmax = np.zeros_like(res_pred)\n",
        "pred_argmax[np.arange(len(res_pred)), res_pred.argmax(1)] = 1"
      ],
      "execution_count": 280,
      "outputs": []
    },
    {
      "cell_type": "code",
      "metadata": {
        "id": "HDzR4fLMTYgT",
        "colab": {
          "base_uri": "https://localhost:8080/"
        },
        "outputId": "3cb075b3-c860-476f-843c-d15c9dd3e3df"
      },
      "source": [
        "#Get scores of student decision tree\n",
        "acc = accuracy_score(pred_argmax,y_test)\n",
        "rec = recall_score(y_test, pred_argmax,average='macro')\n",
        "prec = precision_score(y_test, pred_argmax,average='macro')\n",
        "auc = roc_auc_score(y_test, pred_argmax,average='macro')\n",
        "print('Accuracy:', acc)\n",
        "print('Recall: ', rec)\n",
        "print('Precision:', prec)\n",
        "print('AUC: ', auc)"
      ],
      "execution_count": 281,
      "outputs": [
        {
          "output_type": "stream",
          "text": [
            "Accuracy: 0.9186046511627907\n",
            "Recall:  0.9224537037037037\n",
            "Precision: 0.9089635854341737\n",
            "AUC:  0.9224537037037037\n"
          ],
          "name": "stdout"
        }
      ]
    }
  ]
}