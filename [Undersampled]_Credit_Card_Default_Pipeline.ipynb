{
  "nbformat": 4,
  "nbformat_minor": 0,
  "metadata": {
    "colab": {
      "name": "[Undersampled] Credit_Card_Default_Pipeline.ipynb",
      "provenance": [],
      "collapsed_sections": []
    },
    "kernelspec": {
      "name": "python3",
      "display_name": "Python 3"
    }
  },
  "cells": [
    {
      "cell_type": "markdown",
      "metadata": {
        "id": "nxQ4C2SfQQYY"
      },
      "source": [
        "# **1) Import all packages**"
      ]
    },
    {
      "cell_type": "code",
      "metadata": {
        "id": "RmSOwTh11S9Y"
      },
      "source": [
        "import os\n",
        "import numpy as np \n",
        "import pandas as pd\n",
        "import tensorflow as tf\n",
        "import matplotlib.pyplot as plt\n",
        "import keras\n",
        "import math\n",
        "from tensorflow.python.client import device_lib\n",
        "from sklearn.model_selection import train_test_split \n",
        "from numpy.random import seed\n",
        "from sklearn.preprocessing import LabelEncoder\n",
        "from keras.callbacks import ModelCheckpoint\n",
        "from keras.callbacks import EarlyStopping\n",
        "from keras.utils import to_categorical\n",
        "from keras import backend as K\n",
        "from keras.models import Sequential\n",
        "from tensorflow.keras import layers, models\n",
        "from tensorflow.keras.models import Model\n",
        "from sklearn.tree import DecisionTreeClassifier,DecisionTreeRegressor\n",
        "from sklearn.linear_model import LogisticRegression\n",
        "import tensorflow as tf\n",
        "from sklearn.preprocessing import MinMaxScaler, Normalizer\n",
        "from sklearn.metrics import accuracy_score, f1_score, precision_score, recall_score, classification_report, confusion_matrix, roc_auc_score, roc_curve\n",
        "tf.random.set_seed(42)\n",
        "seed(42)"
      ],
      "execution_count": null,
      "outputs": []
    },
    {
      "cell_type": "markdown",
      "metadata": {
        "id": "w4E73F0G1Koa"
      },
      "source": [
        "# **2) Get Dataset**"
      ]
    },
    {
      "cell_type": "code",
      "metadata": {
        "id": "X95bNaiF1eMD"
      },
      "source": [
        "df = pd.read_excel('/content/drive/My Drive/Tilburg University/DS&S/Thesis/Google Collab/Default Credit Card Clients/Data/default of credit card clients.xls', index_col=0)"
      ],
      "execution_count": null,
      "outputs": []
    },
    {
      "cell_type": "code",
      "metadata": {
        "id": "hkY7uoj91iKE",
        "colab": {
          "base_uri": "https://localhost:8080/"
        },
        "outputId": "23750a26-8018-44cc-ba6e-37cf2def14ed"
      },
      "source": [
        "print(df.head())\n",
        "print(df.shape)\n",
        "print(df.shape)"
      ],
      "execution_count": null,
      "outputs": [
        {
          "output_type": "stream",
          "text": [
            "           X1   X2         X3  ...       X22       X23                           Y\n",
            "ID  LIMIT_BAL  SEX  EDUCATION  ...  PAY_AMT5  PAY_AMT6  default payment next month\n",
            "1       20000    2          2  ...         0         0                           1\n",
            "2      120000    2          2  ...         0      2000                           1\n",
            "3       90000    2          2  ...      1000      5000                           0\n",
            "4       50000    2          2  ...      1069      1000                           0\n",
            "\n",
            "[5 rows x 24 columns]\n",
            "(30001, 24)\n",
            "(30001, 24)\n"
          ],
          "name": "stdout"
        }
      ]
    },
    {
      "cell_type": "code",
      "metadata": {
        "id": "0t-pVJyZTHiw",
        "colab": {
          "base_uri": "https://localhost:8080/"
        },
        "outputId": "f022639f-ade8-4835-d054-e2ca6f938048"
      },
      "source": [
        "print(df.columns)"
      ],
      "execution_count": null,
      "outputs": [
        {
          "output_type": "stream",
          "text": [
            "Index(['X1', 'X2', 'X3', 'X4', 'X5', 'X6', 'X7', 'X8', 'X9', 'X10', 'X11',\n",
            "       'X12', 'X13', 'X14', 'X15', 'X16', 'X17', 'X18', 'X19', 'X20', 'X21',\n",
            "       'X22', 'X23', 'Y'],\n",
            "      dtype='object')\n"
          ],
          "name": "stdout"
        }
      ]
    },
    {
      "cell_type": "markdown",
      "metadata": {
        "id": "U52cin581rFl"
      },
      "source": [
        "# **3) Undersample Dataset**"
      ]
    },
    {
      "cell_type": "code",
      "metadata": {
        "id": "_62jfoOVHkXz",
        "colab": {
          "base_uri": "https://localhost:8080/"
        },
        "outputId": "d93e4e80-c1db-4b26-f5b0-6fdd0cebb92d"
      },
      "source": [
        "df['Y'].value_counts()"
      ],
      "execution_count": null,
      "outputs": [
        {
          "output_type": "execute_result",
          "data": {
            "text/plain": [
              "0                             23364\n",
              "1                              6636\n",
              "default payment next month        1\n",
              "Name: Y, dtype: int64"
            ]
          },
          "metadata": {
            "tags": []
          },
          "execution_count": 7
        }
      ]
    },
    {
      "cell_type": "code",
      "metadata": {
        "id": "1pShJTstgrU9",
        "colab": {
          "base_uri": "https://localhost:8080/"
        },
        "outputId": "4556d7cb-c584-42bf-8391-bb360171be53"
      },
      "source": [
        " x = df.isna().sum()\n",
        " print(x)"
      ],
      "execution_count": null,
      "outputs": [
        {
          "output_type": "stream",
          "text": [
            "X1     0\n",
            "X2     0\n",
            "X3     0\n",
            "X4     0\n",
            "X5     0\n",
            "X6     0\n",
            "X7     0\n",
            "X8     0\n",
            "X9     0\n",
            "X10    0\n",
            "X11    0\n",
            "X12    0\n",
            "X13    0\n",
            "X14    0\n",
            "X15    0\n",
            "X16    0\n",
            "X17    0\n",
            "X18    0\n",
            "X19    0\n",
            "X20    0\n",
            "X21    0\n",
            "X22    0\n",
            "X23    0\n",
            "Y      0\n",
            "dtype: int64\n"
          ],
          "name": "stdout"
        }
      ]
    },
    {
      "cell_type": "code",
      "metadata": {
        "id": "Y3QIPVSGTzYO"
      },
      "source": [
        "# Shuffle the Dataset.\n",
        "shuffled_df = df.sample(frac=1,random_state=4)\n",
        "\n",
        "# Put all the fraud class in a separate dataset.\n",
        "ones_df = shuffled_df.loc[shuffled_df['Y'] == 1]\n",
        "\n",
        "#Randomly select 492 observations from the non-fraud (majority class)\n",
        "zeros_df = shuffled_df.loc[shuffled_df['Y'] == 0].sample(n=6636,random_state=42)\n",
        "\n",
        "# Concatenate both dataframes again\n",
        "normalized_df = pd.concat([ones_df, zeros_df])\n",
        "\n",
        "df = normalized_df\n",
        "df['Y'].value_counts()\n",
        "labels = df.pop('Y')"
      ],
      "execution_count": null,
      "outputs": []
    },
    {
      "cell_type": "code",
      "metadata": {
        "id": "-uUAXWOs2qkK",
        "colab": {
          "base_uri": "https://localhost:8080/"
        },
        "outputId": "68a90fc3-a11b-4673-f3f7-28a5043ac937"
      },
      "source": [
        "labels_array = labels[1:len(labels)].to_numpy() \n",
        "print(labels_array)\n",
        "labelsv2 = np.vstack(labels_array)\n",
        "print(labelsv2)\n",
        "labels[1:len(labels)].value_counts(normalize=True) * 100"
      ],
      "execution_count": null,
      "outputs": [
        {
          "output_type": "stream",
          "text": [
            "[1 1 1 ... 0 0 0]\n",
            "[[1]\n",
            " [1]\n",
            " [1]\n",
            " ...\n",
            " [0]\n",
            " [0]\n",
            " [0]]\n"
          ],
          "name": "stdout"
        },
        {
          "output_type": "execute_result",
          "data": {
            "text/plain": [
              "0    50.003768\n",
              "1    49.996232\n",
              "Name: Y, dtype: float64"
            ]
          },
          "metadata": {
            "tags": []
          },
          "execution_count": 10
        }
      ]
    },
    {
      "cell_type": "code",
      "metadata": {
        "id": "LCQbRYWt2ul9"
      },
      "source": [
        "#Split data\n",
        "X_train, X_test, y_train, y_test =  train_test_split(df[1:len(df)], labelsv2, train_size=0.85, test_size=0.15, random_state=42)"
      ],
      "execution_count": null,
      "outputs": []
    },
    {
      "cell_type": "code",
      "metadata": {
        "id": "BBUhluf-tqkJ"
      },
      "source": [
        "#Scale data\n",
        "# Training Data\n",
        "X_train = MinMaxScaler().fit_transform(X_train)\n",
        "# Testing Data\n",
        "X_test = MinMaxScaler().fit_transform(X_test)"
      ],
      "execution_count": null,
      "outputs": []
    },
    {
      "cell_type": "code",
      "metadata": {
        "id": "epQqGC8P2u_c"
      },
      "source": [
        "#np.save(\"/content/drive/My Drive/Tilburg University/DS&S/Thesis/Google Collab/Default Credit Card Clients/Data/CC_train.npy\",X_train)\n",
        "#np.save(\"/content/drive/My Drive/Tilburg University/DS&S/Thesis/Google Collab/Default Credit Card Clients/Data/CC_trainlabels.npy\",y_train)\n",
        "#np.save(\"/content/drive/My Drive/Tilburg University/DS&S/Thesis/Google Collab/Default Credit Card Clients/Data/CC_test.npy\",X_test)\n",
        "#np.save(\"/content/drive/My Drive/Tilburg University/DS&S/Thesis/Google Collab/Default Credit Card Clients/Data/CC_testlabels.npy\",y_test)"
      ],
      "execution_count": null,
      "outputs": []
    },
    {
      "cell_type": "markdown",
      "metadata": {
        "id": "xKh4xsun6uzh"
      },
      "source": [
        "# **4) Vanilla Decision Tree**"
      ]
    },
    {
      "cell_type": "code",
      "metadata": {
        "id": "DVU6rc2h62XE",
        "colab": {
          "base_uri": "https://localhost:8080/"
        },
        "outputId": "3d009309-2eb4-4f01-d941-60291dd5f239"
      },
      "source": [
        "#Create decision tree for specified depth of 5 and 10 \n",
        "model = DecisionTreeClassifier(max_depth=5, random_state=16)\n",
        "model.fit(X_train,y_train)"
      ],
      "execution_count": null,
      "outputs": [
        {
          "output_type": "execute_result",
          "data": {
            "text/plain": [
              "DecisionTreeClassifier(ccp_alpha=0.0, class_weight=None, criterion='gini',\n",
              "                       max_depth=5, max_features=None, max_leaf_nodes=None,\n",
              "                       min_impurity_decrease=0.0, min_impurity_split=None,\n",
              "                       min_samples_leaf=1, min_samples_split=2,\n",
              "                       min_weight_fraction_leaf=0.0, presort='deprecated',\n",
              "                       random_state=16, splitter='best')"
            ]
          },
          "metadata": {
            "tags": []
          },
          "execution_count": 42
        }
      ]
    },
    {
      "cell_type": "code",
      "metadata": {
        "id": "CI_4NZp771fb"
      },
      "source": [
        "#Get predictions of vanilla DT\n",
        "res_pred = model.predict(X_test)"
      ],
      "execution_count": null,
      "outputs": []
    },
    {
      "cell_type": "code",
      "metadata": {
        "id": "9g_IKP-Y73yI",
        "colab": {
          "base_uri": "https://localhost:8080/"
        },
        "outputId": "44aeaabf-6fd1-44e6-b85b-5c3fffb49e75"
      },
      "source": [
        "#Get various scores\n",
        "acc = accuracy_score(y_test, res_pred)\n",
        "rec = recall_score(y_test, res_pred,average='macro')\n",
        "prec = precision_score(y_test, res_pred,average='macro')\n",
        "auc = roc_auc_score(y_test,res_pred, average='macro')\n",
        "print('Accuracy:', acc)\n",
        "print('Recall: ', rec)\n",
        "print('Precision:', prec)\n",
        "print('AUC: ', auc)"
      ],
      "execution_count": null,
      "outputs": [
        {
          "output_type": "stream",
          "text": [
            "Accuracy: 0.6042189854344551\n",
            "Recall:  0.6107308379696477\n",
            "Precision: 0.6480912061794415\n",
            "AUC:  0.6107308379696477\n"
          ],
          "name": "stdout"
        }
      ]
    },
    {
      "cell_type": "code",
      "metadata": {
        "id": "uzgRNqCV3feO"
      },
      "source": [
        "#X_train = np.load(\"/content/drive/My Drive/Tilburg University/DS&S/Thesis/Google Collab/UCI Breast Cancer Dataset/Data/CC_train.npy\")\n",
        "#y_train = np.load(\"/content/drive/My Drive/Tilburg University/DS&S/Thesis/Google Collab/UCI Breast Cancer Dataset/Data/CC_trainlabels.npy\")\n",
        "#X_test = np.load(\"/content/drive/My Drive/Tilburg University/DS&S/Thesis/Google Collab/UCI Breast Cancer Dataset/Data/CC_test.npy\")\n",
        "#y_test = np.load(\"/content/drive/My Drive/Tilburg University/DS&S/Thesis/Google Collab/UCI Breast Cancer Dataset/Data/CC_testlabels.npy\")"
      ],
      "execution_count": null,
      "outputs": []
    },
    {
      "cell_type": "markdown",
      "metadata": {
        "id": "xDikuA70J1vs"
      },
      "source": [
        "# **5) Baseline Model**"
      ]
    },
    {
      "cell_type": "code",
      "metadata": {
        "id": "WPj4aCGnfqdR"
      },
      "source": [
        "log_X_train = X_train\n",
        "log_y_train = y_train\n",
        "log_X_test = X_test\n",
        "log_y_test = y_test"
      ],
      "execution_count": null,
      "outputs": []
    },
    {
      "cell_type": "code",
      "metadata": {
        "colab": {
          "base_uri": "https://localhost:8080/"
        },
        "id": "h38gysH4fsGd",
        "outputId": "d876fa04-18c3-4023-b713-12c702b09290"
      },
      "source": [
        "#Create Logistic Regression Model\n",
        "logreg = LogisticRegression(max_iter=3000,random_state=16)\n",
        "logreg.fit(log_X_train,log_y_train)"
      ],
      "execution_count": null,
      "outputs": [
        {
          "output_type": "stream",
          "text": [
            "/usr/local/lib/python3.6/dist-packages/sklearn/utils/validation.py:760: DataConversionWarning: A column-vector y was passed when a 1d array was expected. Please change the shape of y to (n_samples, ), for example using ravel().\n",
            "  y = column_or_1d(y, warn=True)\n"
          ],
          "name": "stderr"
        },
        {
          "output_type": "execute_result",
          "data": {
            "text/plain": [
              "LogisticRegression(C=1.0, class_weight=None, dual=False, fit_intercept=True,\n",
              "                   intercept_scaling=1, l1_ratio=None, max_iter=3000,\n",
              "                   multi_class='auto', n_jobs=None, penalty='l2',\n",
              "                   random_state=16, solver='lbfgs', tol=0.0001, verbose=0,\n",
              "                   warm_start=False)"
            ]
          },
          "metadata": {
            "tags": []
          },
          "execution_count": 19
        }
      ]
    },
    {
      "cell_type": "code",
      "metadata": {
        "colab": {
          "base_uri": "https://localhost:8080/"
        },
        "id": "X-R-6Ma8ftqc",
        "outputId": "37c41271-d3d5-49c5-ae65-ec1545f2d5cc"
      },
      "source": [
        "#Get AUC Score of Baseline\n",
        "logit_roc_auc = roc_auc_score(y_test, logreg.predict(X_test))\n",
        "print(logit_roc_auc)"
      ],
      "execution_count": null,
      "outputs": [
        {
          "output_type": "stream",
          "text": [
            "0.6189363571190565\n"
          ],
          "name": "stdout"
        }
      ]
    },
    {
      "cell_type": "markdown",
      "metadata": {
        "id": "Al2qnRKd2yi1"
      },
      "source": [
        "# **6) Built Neural Network**"
      ]
    },
    {
      "cell_type": "code",
      "metadata": {
        "id": "G0kMNjtQ4G8I",
        "colab": {
          "base_uri": "https://localhost:8080/"
        },
        "outputId": "91e59643-d874-442d-dfd2-55c113f2df65"
      },
      "source": [
        "print(X_train.shape)\n",
        "print(X_train)\n",
        "print(y_train.shape)\n",
        "X_train = np.asarray(X_train).astype('float32')"
      ],
      "execution_count": null,
      "outputs": [
        {
          "output_type": "stream",
          "text": [
            "(11280, 23)\n",
            "[[0.15189873 0.         0.5        ... 0.00694236 0.00903614 0.00771004]\n",
            " [0.11392405 0.         0.16666667 ... 0.00329993 0.0039759  0.00330359]\n",
            " [0.18987342 1.         0.33333333 ... 0.         0.         0.        ]\n",
            " ...\n",
            " [0.05063291 0.         0.16666667 ... 0.00378358 0.00515663 0.00991326]\n",
            " [0.05063291 0.         0.33333333 ... 0.00462824 0.01204819 0.        ]\n",
            " [0.16455696 1.         0.16666667 ... 0.00170088 0.00316566 0.00141016]]\n",
            "(11280, 1)\n"
          ],
          "name": "stdout"
        }
      ]
    },
    {
      "cell_type": "code",
      "metadata": {
        "id": "8-kzt_7Z4IBs",
        "colab": {
          "base_uri": "https://localhost:8080/"
        },
        "outputId": "05b192b0-3fc2-4166-8ec8-8a038a539a42"
      },
      "source": [
        "print(X_test.shape)\n",
        "print(y_test.shape)\n",
        "print(y_test)\n",
        "X_test = np.asarray(X_test).astype('float32')"
      ],
      "execution_count": null,
      "outputs": [
        {
          "output_type": "stream",
          "text": [
            "(1991, 23)\n",
            "(1991, 1)\n",
            "[[1]\n",
            " [0]\n",
            " [1]\n",
            " ...\n",
            " [1]\n",
            " [0]\n",
            " [0]]\n"
          ],
          "name": "stdout"
        }
      ]
    },
    {
      "cell_type": "code",
      "metadata": {
        "id": "BlVSpppp4JRy",
        "colab": {
          "base_uri": "https://localhost:8080/"
        },
        "outputId": "f22fd19a-b0a6-424c-936f-438f1295de0a"
      },
      "source": [
        "#Prepare Labels\n",
        "y_train = np.array(keras.utils.to_categorical(y_train))\n",
        "y_test = np.array(keras.utils.to_categorical(y_test))\n",
        "print(y_train.shape)\n",
        "print(y_train[:10])"
      ],
      "execution_count": null,
      "outputs": [
        {
          "output_type": "stream",
          "text": [
            "(11280, 2)\n",
            "[[0. 1.]\n",
            " [0. 1.]\n",
            " [0. 1.]\n",
            " [1. 0.]\n",
            " [1. 0.]\n",
            " [1. 0.]\n",
            " [0. 1.]\n",
            " [1. 0.]\n",
            " [1. 0.]\n",
            " [1. 0.]]\n"
          ],
          "name": "stdout"
        }
      ]
    },
    {
      "cell_type": "code",
      "metadata": {
        "id": "M2nK12ld4QMx"
      },
      "source": [
        "#Metrics for Neural Network\n",
        "\n",
        "def recall_m(y_true, y_pred):\n",
        "    true_positives = K.sum(K.round(K.clip(y_true * y_pred, 0, 1)))\n",
        "    possible_positives = K.sum(K.round(K.clip(y_true, 0, 1)))\n",
        "    recall = true_positives / (possible_positives + K.epsilon())\n",
        "    return recall\n",
        "\n",
        "def precision_m(y_true, y_pred):\n",
        "    true_positives = K.sum(K.round(K.clip(y_true * y_pred, 0, 1)))\n",
        "    predicted_positives = K.sum(K.round(K.clip(y_pred, 0, 1)))\n",
        "    precision = true_positives / (predicted_positives + K.epsilon())\n",
        "    return precision\n",
        "\n",
        "def f1_m(y_true, y_pred):\n",
        "    precision = precision_m(y_true, y_pred)\n",
        "    recall = recall_m(y_true, y_pred)\n",
        "    return 2*((precision*recall)/(precision+recall+K.epsilon()))\n",
        "\n",
        "val_auc = tf.keras.metrics.AUC()"
      ],
      "execution_count": null,
      "outputs": []
    },
    {
      "cell_type": "code",
      "metadata": {
        "id": "5WtpdDJm4iH_",
        "colab": {
          "base_uri": "https://localhost:8080/"
        },
        "outputId": "bdf0e464-4a01-49d5-8e39-4c23222a72b1"
      },
      "source": [
        "#Function to built model\n",
        "def build_model():\n",
        "  inputs = layers.Input(shape=(23))\n",
        "\n",
        "  x = layers.Dense(23,activation='relu',name='fc1')(inputs)\n",
        "\n",
        "  x = layers.Dense(20,activation='relu',name='fc2')(x)\n",
        "  x = layers.Dense(10,activation='relu',name='fc3')(x)\n",
        "\n",
        "  x = layers.Dense(6,activation='relu',name='fc4')(x)\n",
        "  x = layers.Dense(4,activation='relu',name='fc5')(x)\n",
        "\n",
        "  x = layers.Dense(2,name='logits')(x)\n",
        "\n",
        "  preds = layers.Activation('softmax',name='Softmax')(x)\n",
        "\n",
        "  model = Model(inputs=inputs, outputs=preds)\n",
        "  model.summary()\n",
        "  return model\n",
        "model = build_model()"
      ],
      "execution_count": null,
      "outputs": [
        {
          "output_type": "stream",
          "text": [
            "Model: \"functional_1\"\n",
            "_________________________________________________________________\n",
            "Layer (type)                 Output Shape              Param #   \n",
            "=================================================================\n",
            "input_1 (InputLayer)         [(None, 23)]              0         \n",
            "_________________________________________________________________\n",
            "fc1 (Dense)                  (None, 23)                552       \n",
            "_________________________________________________________________\n",
            "fc2 (Dense)                  (None, 20)                480       \n",
            "_________________________________________________________________\n",
            "fc3 (Dense)                  (None, 10)                210       \n",
            "_________________________________________________________________\n",
            "fc4 (Dense)                  (None, 6)                 66        \n",
            "_________________________________________________________________\n",
            "fc5 (Dense)                  (None, 4)                 28        \n",
            "_________________________________________________________________\n",
            "logits (Dense)               (None, 2)                 10        \n",
            "_________________________________________________________________\n",
            "Softmax (Activation)         (None, 2)                 0         \n",
            "=================================================================\n",
            "Total params: 1,346\n",
            "Trainable params: 1,346\n",
            "Non-trainable params: 0\n",
            "_________________________________________________________________\n"
          ],
          "name": "stdout"
        }
      ]
    },
    {
      "cell_type": "code",
      "metadata": {
        "id": "A0nhPqLb4z_V"
      },
      "source": [
        "#Saving best performing model\n",
        "filepath = \"/content/drive/MyDrive/Tilburg University/DS&S/Thesis/Google Collab/Default Credit Card Clients/Downsampling/Downsampled Models/ModelV15.hdf5\""
      ],
      "execution_count": null,
      "outputs": []
    },
    {
      "cell_type": "code",
      "metadata": {
        "id": "mZcENUaV4sdl"
      },
      "source": [
        "#Set-up filepath and ModelCheckepoint with Earlystopping to save best performing moddel based on Validation AUC\n",
        "model_checkpoint = ModelCheckpoint(filepath,  monitor='val_auc', save_best_only=True, mode='max')\n",
        "es = EarlyStopping(monitor='val_auc', mode='max', verbose=0, patience=5)\n",
        "model.compile(optimizer=\"adam\", loss=\"categorical_crossentropy\", metrics=['acc',f1_m,precision_m, recall_m,tf.keras.metrics.AUC(name='auc')])"
      ],
      "execution_count": null,
      "outputs": []
    },
    {
      "cell_type": "code",
      "metadata": {
        "id": "cLkwh5js4v-X",
        "colab": {
          "base_uri": "https://localhost:8080/"
        },
        "outputId": "e06a6135-6f04-4b32-c242-3377fb03fe94"
      },
      "source": [
        "#Set epochs and bach size, and train model \n",
        "num_epoch = 100\n",
        "batch_size = 64\n",
        "model1 = model.fit(x=X_train, y=y_train, epochs=num_epoch, batch_size=batch_size, validation_split=0.15,callbacks=[model_checkpoint,es])"
      ],
      "execution_count": null,
      "outputs": [
        {
          "output_type": "stream",
          "text": [
            "Epoch 1/100\n",
            "150/150 [==============================] - 2s 12ms/step - loss: 0.6609 - acc: 0.6413 - f1_m: 0.6415 - precision_m: 0.6415 - recall_m: 0.6415 - auc: 0.6755 - val_loss: 0.6235 - val_acc: 0.6554 - val_f1_m: 0.6582 - val_precision_m: 0.6582 - val_recall_m: 0.6582 - val_auc: 0.7103\n",
            "Epoch 2/100\n",
            "150/150 [==============================] - 0s 3ms/step - loss: 0.6051 - acc: 0.6748 - f1_m: 0.6748 - precision_m: 0.6748 - recall_m: 0.6748 - auc: 0.7340 - val_loss: 0.6018 - val_acc: 0.6826 - val_f1_m: 0.6825 - val_precision_m: 0.6825 - val_recall_m: 0.6825 - val_auc: 0.7354\n",
            "Epoch 3/100\n",
            "150/150 [==============================] - 0s 3ms/step - loss: 0.5912 - acc: 0.6869 - f1_m: 0.6870 - precision_m: 0.6870 - recall_m: 0.6870 - auc: 0.7510 - val_loss: 0.6009 - val_acc: 0.6738 - val_f1_m: 0.6731 - val_precision_m: 0.6731 - val_recall_m: 0.6731 - val_auc: 0.7377\n",
            "Epoch 4/100\n",
            "150/150 [==============================] - 0s 3ms/step - loss: 0.5828 - acc: 0.6931 - f1_m: 0.6931 - precision_m: 0.6931 - recall_m: 0.6931 - auc: 0.7609 - val_loss: 0.5917 - val_acc: 0.6862 - val_f1_m: 0.6853 - val_precision_m: 0.6853 - val_recall_m: 0.6853 - val_auc: 0.7495\n",
            "Epoch 5/100\n",
            "150/150 [==============================] - 0s 3ms/step - loss: 0.5775 - acc: 0.6975 - f1_m: 0.6975 - precision_m: 0.6975 - recall_m: 0.6975 - auc: 0.7669 - val_loss: 0.5886 - val_acc: 0.6832 - val_f1_m: 0.6831 - val_precision_m: 0.6831 - val_recall_m: 0.6831 - val_auc: 0.7538\n",
            "Epoch 6/100\n",
            "150/150 [==============================] - 0s 3ms/step - loss: 0.5776 - acc: 0.6962 - f1_m: 0.6962 - precision_m: 0.6962 - recall_m: 0.6962 - auc: 0.7665 - val_loss: 0.5967 - val_acc: 0.6684 - val_f1_m: 0.6687 - val_precision_m: 0.6687 - val_recall_m: 0.6687 - val_auc: 0.7439\n",
            "Epoch 7/100\n",
            "150/150 [==============================] - 0s 3ms/step - loss: 0.5747 - acc: 0.7001 - f1_m: 0.7001 - precision_m: 0.7001 - recall_m: 0.7001 - auc: 0.7702 - val_loss: 0.5932 - val_acc: 0.6838 - val_f1_m: 0.6844 - val_precision_m: 0.6844 - val_recall_m: 0.6844 - val_auc: 0.7476\n",
            "Epoch 8/100\n",
            "150/150 [==============================] - 0s 3ms/step - loss: 0.5720 - acc: 0.7082 - f1_m: 0.7080 - precision_m: 0.7080 - recall_m: 0.7080 - auc: 0.7727 - val_loss: 0.5872 - val_acc: 0.6838 - val_f1_m: 0.6844 - val_precision_m: 0.6844 - val_recall_m: 0.6844 - val_auc: 0.7548\n",
            "Epoch 9/100\n",
            "150/150 [==============================] - 0s 3ms/step - loss: 0.5738 - acc: 0.7015 - f1_m: 0.7015 - precision_m: 0.7015 - recall_m: 0.7015 - auc: 0.7707 - val_loss: 0.5863 - val_acc: 0.6933 - val_f1_m: 0.6937 - val_precision_m: 0.6937 - val_recall_m: 0.6937 - val_auc: 0.7554\n",
            "Epoch 10/100\n",
            "150/150 [==============================] - 0s 3ms/step - loss: 0.5681 - acc: 0.7070 - f1_m: 0.7071 - precision_m: 0.7071 - recall_m: 0.7071 - auc: 0.7770 - val_loss: 0.5903 - val_acc: 0.6897 - val_f1_m: 0.6895 - val_precision_m: 0.6895 - val_recall_m: 0.6895 - val_auc: 0.7537\n",
            "Epoch 11/100\n",
            "150/150 [==============================] - 0s 3ms/step - loss: 0.5688 - acc: 0.7088 - f1_m: 0.7090 - precision_m: 0.7090 - recall_m: 0.7090 - auc: 0.7760 - val_loss: 0.5911 - val_acc: 0.6909 - val_f1_m: 0.6921 - val_precision_m: 0.6921 - val_recall_m: 0.6921 - val_auc: 0.7536\n",
            "Epoch 12/100\n",
            "150/150 [==============================] - 0s 3ms/step - loss: 0.5671 - acc: 0.7110 - f1_m: 0.7109 - precision_m: 0.7109 - recall_m: 0.7109 - auc: 0.7777 - val_loss: 0.5865 - val_acc: 0.6874 - val_f1_m: 0.6887 - val_precision_m: 0.6887 - val_recall_m: 0.6887 - val_auc: 0.7554\n",
            "Epoch 13/100\n",
            "150/150 [==============================] - 0s 3ms/step - loss: 0.5660 - acc: 0.7098 - f1_m: 0.7099 - precision_m: 0.7099 - recall_m: 0.7099 - auc: 0.7790 - val_loss: 0.5861 - val_acc: 0.6903 - val_f1_m: 0.6916 - val_precision_m: 0.6916 - val_recall_m: 0.6916 - val_auc: 0.7574\n",
            "Epoch 14/100\n",
            "150/150 [==============================] - 0s 2ms/step - loss: 0.5659 - acc: 0.7083 - f1_m: 0.7083 - precision_m: 0.7083 - recall_m: 0.7083 - auc: 0.7791 - val_loss: 0.5902 - val_acc: 0.6820 - val_f1_m: 0.6834 - val_precision_m: 0.6834 - val_recall_m: 0.6834 - val_auc: 0.7519\n",
            "Epoch 15/100\n",
            "150/150 [==============================] - 0s 3ms/step - loss: 0.5633 - acc: 0.7118 - f1_m: 0.7118 - precision_m: 0.7118 - recall_m: 0.7118 - auc: 0.7818 - val_loss: 0.5869 - val_acc: 0.6927 - val_f1_m: 0.6946 - val_precision_m: 0.6946 - val_recall_m: 0.6946 - val_auc: 0.7579\n",
            "Epoch 16/100\n",
            "150/150 [==============================] - 0s 3ms/step - loss: 0.5657 - acc: 0.7073 - f1_m: 0.7074 - precision_m: 0.7074 - recall_m: 0.7074 - auc: 0.7789 - val_loss: 0.5822 - val_acc: 0.6962 - val_f1_m: 0.6981 - val_precision_m: 0.6981 - val_recall_m: 0.6981 - val_auc: 0.7606\n",
            "Epoch 17/100\n",
            "150/150 [==============================] - 0s 2ms/step - loss: 0.5624 - acc: 0.7123 - f1_m: 0.7122 - precision_m: 0.7122 - recall_m: 0.7122 - auc: 0.7825 - val_loss: 0.5897 - val_acc: 0.6950 - val_f1_m: 0.6962 - val_precision_m: 0.6962 - val_recall_m: 0.6962 - val_auc: 0.7570\n",
            "Epoch 18/100\n",
            "150/150 [==============================] - 0s 3ms/step - loss: 0.5616 - acc: 0.7130 - f1_m: 0.7129 - precision_m: 0.7129 - recall_m: 0.7129 - auc: 0.7832 - val_loss: 0.5829 - val_acc: 0.6986 - val_f1_m: 0.7011 - val_precision_m: 0.7011 - val_recall_m: 0.7011 - val_auc: 0.7613\n",
            "Epoch 19/100\n",
            "150/150 [==============================] - 0s 2ms/step - loss: 0.5615 - acc: 0.7126 - f1_m: 0.7124 - precision_m: 0.7124 - recall_m: 0.7124 - auc: 0.7832 - val_loss: 0.5845 - val_acc: 0.6891 - val_f1_m: 0.6911 - val_precision_m: 0.6911 - val_recall_m: 0.6911 - val_auc: 0.7576\n",
            "Epoch 20/100\n",
            "150/150 [==============================] - 0s 2ms/step - loss: 0.5583 - acc: 0.7131 - f1_m: 0.7131 - precision_m: 0.7131 - recall_m: 0.7131 - auc: 0.7863 - val_loss: 0.5851 - val_acc: 0.6868 - val_f1_m: 0.6881 - val_precision_m: 0.6881 - val_recall_m: 0.6881 - val_auc: 0.7571\n",
            "Epoch 21/100\n",
            "150/150 [==============================] - 0s 2ms/step - loss: 0.5576 - acc: 0.7123 - f1_m: 0.7123 - precision_m: 0.7123 - recall_m: 0.7123 - auc: 0.7864 - val_loss: 0.5819 - val_acc: 0.6944 - val_f1_m: 0.6956 - val_precision_m: 0.6956 - val_recall_m: 0.6956 - val_auc: 0.7603\n",
            "Epoch 22/100\n",
            "150/150 [==============================] - 0s 2ms/step - loss: 0.5570 - acc: 0.7150 - f1_m: 0.7150 - precision_m: 0.7150 - recall_m: 0.7150 - auc: 0.7874 - val_loss: 0.5859 - val_acc: 0.6862 - val_f1_m: 0.6882 - val_precision_m: 0.6882 - val_recall_m: 0.6882 - val_auc: 0.7554\n",
            "Epoch 23/100\n",
            "150/150 [==============================] - 0s 2ms/step - loss: 0.5562 - acc: 0.7164 - f1_m: 0.7163 - precision_m: 0.7163 - recall_m: 0.7163 - auc: 0.7880 - val_loss: 0.5850 - val_acc: 0.6998 - val_f1_m: 0.7008 - val_precision_m: 0.7008 - val_recall_m: 0.7008 - val_auc: 0.7609\n"
          ],
          "name": "stdout"
        }
      ]
    },
    {
      "cell_type": "code",
      "metadata": {
        "id": "KWdQFUmS5cd5",
        "colab": {
          "base_uri": "https://localhost:8080/"
        },
        "outputId": "d5055e1e-c702-4957-f599-5afeb6095b09"
      },
      "source": [
        "#Train Performance\n",
        "prediction_model = tf.keras.models.load_model(filepath, custom_objects={'f1_m':f1_m,'precision_m':precision_m, 'recall_m':recall_m, 'auc': tf.keras.metrics.AUC() }) \n",
        "loss, accuracy, f1_score, precision, recall, auc = prediction_model.evaluate(X_train, y_train, verbose=0, batch_size=64)\n",
        "\n",
        "print('Train Accuracy:',accuracy)\n",
        "print('Train Recall:',recall)\n",
        "print('Train Precision:',precision)\n",
        "print('Train F1:',f1_score)\n",
        "print('Train AUC:',auc)\n",
        "prediction_model.summary()"
      ],
      "execution_count": null,
      "outputs": [
        {
          "output_type": "stream",
          "text": [
            "Train Accuracy: 0.7119680643081665\n",
            "Train Recall: 0.7123940587043762\n",
            "Train Precision: 0.7123940587043762\n",
            "Train F1: 0.7123939990997314\n",
            "Train AUC: 0.784024715423584\n",
            "Model: \"functional_1\"\n",
            "_________________________________________________________________\n",
            "Layer (type)                 Output Shape              Param #   \n",
            "=================================================================\n",
            "input_1 (InputLayer)         [(None, 23)]              0         \n",
            "_________________________________________________________________\n",
            "fc1 (Dense)                  (None, 23)                552       \n",
            "_________________________________________________________________\n",
            "fc2 (Dense)                  (None, 20)                480       \n",
            "_________________________________________________________________\n",
            "fc3 (Dense)                  (None, 10)                210       \n",
            "_________________________________________________________________\n",
            "fc4 (Dense)                  (None, 6)                 66        \n",
            "_________________________________________________________________\n",
            "fc5 (Dense)                  (None, 4)                 28        \n",
            "_________________________________________________________________\n",
            "logits (Dense)               (None, 2)                 10        \n",
            "_________________________________________________________________\n",
            "Softmax (Activation)         (None, 2)                 0         \n",
            "=================================================================\n",
            "Total params: 1,346\n",
            "Trainable params: 1,346\n",
            "Non-trainable params: 0\n",
            "_________________________________________________________________\n"
          ],
          "name": "stdout"
        }
      ]
    },
    {
      "cell_type": "code",
      "metadata": {
        "id": "NTRyr7HtIlFZ",
        "colab": {
          "base_uri": "https://localhost:8080/"
        },
        "outputId": "b5687858-9825-4a08-83ae-3756ae3bdb32"
      },
      "source": [
        "#Test Performance\n",
        "#filepath =  \"/content/drive/MyDrive/Tilburg University/DS&S/Thesis/Google Collab/Default Credit Card Clients/Downsampling/Downsampled Models/ModelV14.hdf5\"\n",
        "loss, accuracy, f1_score, precision, recall, auc = prediction_model.evaluate(X_test, y_test, verbose=0, batch_size=64)\n",
        "\n",
        "print('Test Accuracy:',accuracy)\n",
        "print('Test Recall:',recall)\n",
        "print('Test Precision:',precision)\n",
        "print('Test F1:',f1_score)\n",
        "print('Test AUC:',auc)\n",
        "prediction_model.summary()"
      ],
      "execution_count": null,
      "outputs": [
        {
          "output_type": "stream",
          "text": [
            "Test Accuracy: 0.625313937664032\n",
            "Test Recall: 0.6277901530265808\n",
            "Test Precision: 0.6277901530265808\n",
            "Test F1: 0.627790093421936\n",
            "Test AUC: 0.6889231204986572\n",
            "Model: \"functional_1\"\n",
            "_________________________________________________________________\n",
            "Layer (type)                 Output Shape              Param #   \n",
            "=================================================================\n",
            "input_1 (InputLayer)         [(None, 23)]              0         \n",
            "_________________________________________________________________\n",
            "fc1 (Dense)                  (None, 23)                552       \n",
            "_________________________________________________________________\n",
            "fc2 (Dense)                  (None, 20)                480       \n",
            "_________________________________________________________________\n",
            "fc3 (Dense)                  (None, 10)                210       \n",
            "_________________________________________________________________\n",
            "fc4 (Dense)                  (None, 6)                 66        \n",
            "_________________________________________________________________\n",
            "fc5 (Dense)                  (None, 4)                 28        \n",
            "_________________________________________________________________\n",
            "logits (Dense)               (None, 2)                 10        \n",
            "_________________________________________________________________\n",
            "Softmax (Activation)         (None, 2)                 0         \n",
            "=================================================================\n",
            "Total params: 1,346\n",
            "Trainable params: 1,346\n",
            "Non-trainable params: 0\n",
            "_________________________________________________________________\n"
          ],
          "name": "stdout"
        }
      ]
    },
    {
      "cell_type": "code",
      "metadata": {
        "colab": {
          "base_uri": "https://localhost:8080/"
        },
        "id": "evQ3reOKjvE4",
        "outputId": "157649f3-18e2-42e4-a59d-00dc97e29a6d"
      },
      "source": [
        "#Best Performance\n",
        "best_filepath =  \"/content/drive/MyDrive/Tilburg University/DS&S/Thesis/Google Collab/Default Credit Card Clients/Downsampling/Downsampled Models/ModelV14.hdf5\"\n",
        "best_model = tf.keras.models.load_model(best_filepath, custom_objects={'f1_m':f1_m,'precision_m':precision_m, 'recall_m':recall_m, 'auc': tf.keras.metrics.AUC() }) \n",
        "loss, accuracy, f1_score, precision, recall, auc = best_model.evaluate(X_test, y_test, verbose=0, batch_size=64)\n",
        "\n",
        "#print('Best Accuracy:',accuracy)\n",
        "#print('Best Recall:',recall)\n",
        "#print('Best Precision:',precision)\n",
        "#print('Best F1:',f1_score)\n",
        "print('Best AUC:',auc)\n",
        "best_model.summary()"
      ],
      "execution_count": null,
      "outputs": [
        {
          "output_type": "stream",
          "text": [
            "Best AUC: 0.7073178291320801\n",
            "Model: \"functional_29\"\n",
            "_________________________________________________________________\n",
            "Layer (type)                 Output Shape              Param #   \n",
            "=================================================================\n",
            "input_15 (InputLayer)        [(None, 23)]              0         \n",
            "_________________________________________________________________\n",
            "fc1 (Dense)                  (None, 23)                552       \n",
            "_________________________________________________________________\n",
            "fc2 (Dense)                  (None, 20)                480       \n",
            "_________________________________________________________________\n",
            "fc3 (Dense)                  (None, 10)                210       \n",
            "_________________________________________________________________\n",
            "logits (Dense)               (None, 2)                 22        \n",
            "_________________________________________________________________\n",
            "Softmax (Activation)         (None, 2)                 0         \n",
            "=================================================================\n",
            "Total params: 1,264\n",
            "Trainable params: 1,264\n",
            "Non-trainable params: 0\n",
            "_________________________________________________________________\n"
          ],
          "name": "stdout"
        }
      ]
    },
    {
      "cell_type": "markdown",
      "metadata": {
        "id": "7c3oO2hy5jBU"
      },
      "source": [
        "# **7) Generate Soft Targets**"
      ]
    },
    {
      "cell_type": "code",
      "metadata": {
        "id": "bUI1rGez5xYl"
      },
      "source": [
        "#Load the best model\n",
        "model = tf.keras.models.load_model(best_filepath, custom_objects={'f1_m':f1_m,'precision_m':precision_m, 'recall_m':recall_m}) "
      ],
      "execution_count": null,
      "outputs": []
    },
    {
      "cell_type": "code",
      "metadata": {
        "id": "-UxuewfA5-zO",
        "colab": {
          "base_uri": "https://localhost:8080/"
        },
        "outputId": "dd3f5e07-219c-4f71-8475-bf1688170f36"
      },
      "source": [
        "#Compile it again\n",
        "model.compile(optimizer=\"adam\", loss=\"categorical_crossentropy\", metrics=['acc',f1_m,precision_m, recall_m,tf.keras.metrics.AUC()])\n",
        "model.summary()"
      ],
      "execution_count": null,
      "outputs": [
        {
          "output_type": "stream",
          "text": [
            "Model: \"functional_29\"\n",
            "_________________________________________________________________\n",
            "Layer (type)                 Output Shape              Param #   \n",
            "=================================================================\n",
            "input_15 (InputLayer)        [(None, 23)]              0         \n",
            "_________________________________________________________________\n",
            "fc1 (Dense)                  (None, 23)                552       \n",
            "_________________________________________________________________\n",
            "fc2 (Dense)                  (None, 20)                480       \n",
            "_________________________________________________________________\n",
            "fc3 (Dense)                  (None, 10)                210       \n",
            "_________________________________________________________________\n",
            "logits (Dense)               (None, 2)                 22        \n",
            "_________________________________________________________________\n",
            "Softmax (Activation)         (None, 2)                 0         \n",
            "=================================================================\n",
            "Total params: 1,264\n",
            "Trainable params: 1,264\n",
            "Non-trainable params: 0\n",
            "_________________________________________________________________\n"
          ],
          "name": "stdout"
        }
      ]
    },
    {
      "cell_type": "code",
      "metadata": {
        "id": "uUy4v4Q-6RUa"
      },
      "source": [
        "#Remove last softmax layer and predict again\n",
        "model_sans_softmax = Model(inputs=model.input, outputs=model.get_layer(\"logits\").output)\n",
        "model_logits = model_sans_softmax.predict(X_train)"
      ],
      "execution_count": null,
      "outputs": []
    },
    {
      "cell_type": "code",
      "metadata": {
        "id": "rG2_we4G6bbc"
      },
      "source": [
        "#Get the logits\n",
        "soft_targets = model_logits"
      ],
      "execution_count": null,
      "outputs": []
    },
    {
      "cell_type": "code",
      "metadata": {
        "id": "v6PCTR7C-uZm"
      },
      "source": [
        "#np.save(\"/content/drive/My Drive/Tilburg University/DS&S/Thesis/Google Collab/Default Credit Card Clients/Data/CC_Logits.npy\", model_logits)"
      ],
      "execution_count": null,
      "outputs": []
    },
    {
      "cell_type": "markdown",
      "metadata": {
        "id": "6Y7D05QU_oEk"
      },
      "source": [
        "# **8) Knowledge Distillation Decision Tree**\n"
      ]
    },
    {
      "cell_type": "code",
      "metadata": {
        "id": "NIs6XBb3_3si"
      },
      "source": [
        "#Set up Decision Tree for Knowledge Distillation at given depth \n",
        "model = DecisionTreeRegressor(max_depth=10, random_state=16)"
      ],
      "execution_count": null,
      "outputs": []
    },
    {
      "cell_type": "code",
      "metadata": {
        "id": "UMJPvtYI_4xB",
        "colab": {
          "base_uri": "https://localhost:8080/"
        },
        "outputId": "aa8d59ea-6ccb-49f4-c170-e87aefcd87fb"
      },
      "source": [
        "#Train Decision Tree\n",
        "model.fit(X_train,soft_targets)"
      ],
      "execution_count": null,
      "outputs": [
        {
          "output_type": "execute_result",
          "data": {
            "text/plain": [
              "DecisionTreeRegressor(ccp_alpha=0.0, criterion='mse', max_depth=10,\n",
              "                      max_features=None, max_leaf_nodes=None,\n",
              "                      min_impurity_decrease=0.0, min_impurity_split=None,\n",
              "                      min_samples_leaf=1, min_samples_split=2,\n",
              "                      min_weight_fraction_leaf=0.0, presort='deprecated',\n",
              "                      random_state=16, splitter='best')"
            ]
          },
          "metadata": {
            "tags": []
          },
          "execution_count": 46
        }
      ]
    },
    {
      "cell_type": "code",
      "metadata": {
        "id": "ptYL2NEH__Si"
      },
      "source": [
        "#Get predictions\n",
        "res_pred = model.predict(X_test)"
      ],
      "execution_count": null,
      "outputs": []
    },
    {
      "cell_type": "code",
      "metadata": {
        "id": "UYMEDLHyAEHD"
      },
      "source": [
        "# Apply softmax function to output of Decision Tree\n",
        "pred_argmax = np.zeros_like(res_pred)\n",
        "pred_argmax[np.arange(len(res_pred)), res_pred.argmax(1)] = 1 "
      ],
      "execution_count": null,
      "outputs": []
    },
    {
      "cell_type": "code",
      "metadata": {
        "id": "2T_XADvNAOLn",
        "colab": {
          "base_uri": "https://localhost:8080/"
        },
        "outputId": "f896c066-2549-4786-eab3-03104332bc2e"
      },
      "source": [
        "#Get scores of student decision tree\n",
        "acc = accuracy_score(pred_argmax,y_test)\n",
        "rec = recall_score(y_test, pred_argmax,average='macro')\n",
        "prec = precision_score(y_test, pred_argmax,average='macro')\n",
        "auc = roc_auc_score(y_test, pred_argmax,average='macro')\n",
        "print('Accuracy:', acc)\n",
        "print('Recall: ', rec)\n",
        "print('Precision:', prec)\n",
        "print('AUC: ', auc)"
      ],
      "execution_count": null,
      "outputs": [
        {
          "output_type": "stream",
          "text": [
            "Accuracy: 0.676544450025113\n",
            "Recall:  0.6800912790169331\n",
            "Precision: 0.69386672579723\n",
            "AUC:  0.6800912790169331\n"
          ],
          "name": "stdout"
        }
      ]
    }
  ]
}