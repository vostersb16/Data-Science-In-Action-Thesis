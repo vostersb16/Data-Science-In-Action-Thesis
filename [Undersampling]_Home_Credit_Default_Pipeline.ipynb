{
  "nbformat": 4,
  "nbformat_minor": 0,
  "metadata": {
    "colab": {
      "name": "[Undersampling] Home_Credit_Default_Pipeline.ipynb",
      "provenance": [],
      "collapsed_sections": [],
      "toc_visible": true
    },
    "kernelspec": {
      "name": "python3",
      "display_name": "Python 3"
    }
  },
  "cells": [
    {
      "cell_type": "markdown",
      "metadata": {
        "id": "MthHA9XfgLdO"
      },
      "source": [
        "# **1) Import all packages**"
      ]
    },
    {
      "cell_type": "code",
      "metadata": {
        "id": "RmSOwTh11S9Y"
      },
      "source": [
        "import os\n",
        "import numpy as np \n",
        "import pandas as pd\n",
        "import tensorflow as tf\n",
        "import matplotlib.pyplot as plt\n",
        "import keras\n",
        "import math\n",
        "from tensorflow.python.client import device_lib\n",
        "from sklearn.model_selection import train_test_split \n",
        "from numpy.random import seed\n",
        "from sklearn.preprocessing import LabelEncoder\n",
        "from keras.callbacks import ModelCheckpoint\n",
        "from keras.callbacks import EarlyStopping\n",
        "from keras.utils import to_categorical\n",
        "from keras import backend as K\n",
        "from keras.models import Sequential\n",
        "from tensorflow.keras import layers, models\n",
        "from sklearn.preprocessing import StandardScaler\n",
        "from sklearn.preprocessing import MinMaxScaler\n",
        "from sklearn.linear_model import LogisticRegression\n",
        "from tensorflow.keras.models import Model\n",
        "from sklearn.tree import DecisionTreeClassifier,DecisionTreeRegressor\n",
        "import tensorflow as tf\n",
        "from sklearn.metrics import accuracy_score, f1_score, precision_score, recall_score, classification_report, confusion_matrix, roc_auc_score,roc_curve\n",
        "tf.random.set_seed(42)\n",
        "seed(42)"
      ],
      "execution_count": null,
      "outputs": []
    },
    {
      "cell_type": "markdown",
      "metadata": {
        "id": "w4E73F0G1Koa"
      },
      "source": [
        "# **2) Get Dataset**"
      ]
    },
    {
      "cell_type": "code",
      "metadata": {
        "id": "X95bNaiF1eMD"
      },
      "source": [
        "app_train_df = pd.read_csv('/content/drive/My Drive/Tilburg University/DS&S/Thesis/Google Collab/Home Credit Default Dataset/Data/Data Raw/application_train.csv')\n",
        "dataset = pd.read_csv('/content/drive/My Drive/Tilburg University/DS&S/Thesis/Google Collab/Home Credit Default Dataset/Data/Data Raw/1.processed_columns_merged.csv')"
      ],
      "execution_count": null,
      "outputs": []
    },
    {
      "cell_type": "code",
      "metadata": {
        "id": "hkY7uoj91iKE",
        "colab": {
          "base_uri": "https://localhost:8080/"
        },
        "outputId": "6668a5cf-4df3-4871-83f2-775984f4644a"
      },
      "source": [
        "print(dataset.head())\n",
        "print(dataset.shape)\n",
        "print(dataset.shape)"
      ],
      "execution_count": null,
      "outputs": [
        {
          "output_type": "stream",
          "text": [
            "   AMT_ANNUITY  AMT_CREDIT  ...  SK_ID_CURR_CNT_POS_CASH  SK_ID_CURR_CNT_INSTALL\n",
            "0      24700.5    406597.5  ...                     19.0                    19.0\n",
            "1      35698.5   1293502.5  ...                     28.0                    25.0\n",
            "2       6750.0    135000.0  ...                      4.0                     3.0\n",
            "3      29686.5    312682.5  ...                     21.0                    16.0\n",
            "4      21865.5    513000.0  ...                     66.0                    66.0\n",
            "\n",
            "[5 rows x 416 columns]\n",
            "(356255, 416)\n",
            "(356255, 416)\n"
          ],
          "name": "stdout"
        }
      ]
    },
    {
      "cell_type": "code",
      "metadata": {
        "id": "gwTsauun1oPA"
      },
      "source": [
        "meta_cols = ['SK_ID_CURR']\n",
        "meta_df = dataset[meta_cols]\n",
        "dataset.drop(columns=meta_cols, inplace=True)"
      ],
      "execution_count": null,
      "outputs": []
    },
    {
      "cell_type": "markdown",
      "metadata": {
        "id": "U52cin581rFl"
      },
      "source": [
        "# **3) Undersample Dataset**"
      ]
    },
    {
      "cell_type": "code",
      "metadata": {
        "id": "_62jfoOVHkXz",
        "colab": {
          "base_uri": "https://localhost:8080/"
        },
        "outputId": "0bec16f3-c687-4f11-e442-aed395c92f56"
      },
      "source": [
        "dataset['TARGET'].value_counts()"
      ],
      "execution_count": null,
      "outputs": [
        {
          "output_type": "execute_result",
          "data": {
            "text/plain": [
              "0.0    282686\n",
              "1.0     24825\n",
              "Name: TARGET, dtype: int64"
            ]
          },
          "metadata": {
            "tags": []
          },
          "execution_count": 152
        }
      ]
    },
    {
      "cell_type": "code",
      "metadata": {
        "id": "ditFTv2l1p-h"
      },
      "source": [
        "# Shuffle the Dataset.\n",
        "shuffled_df = dataset.sample(frac=1,random_state=4)\n",
        "\n",
        "# Put all the fraud class in a separate dataset.\n",
        "ones_df = shuffled_df.loc[shuffled_df['TARGET'] == 1]\n",
        "\n",
        "#Randomly select 492 observations from the non-fraud (majority class)\n",
        "zeros_df = shuffled_df.loc[shuffled_df['TARGET'] == 0].sample(n=24825,random_state=42)\n",
        "\n",
        "# Concatenate both dataframes again\n",
        "normalized_df = pd.concat([ones_df, zeros_df])\n",
        "\n",
        "dataset = normalized_df\n",
        "dataset['TARGET'].value_counts()\n",
        "labels = dataset.pop('TARGET')"
      ],
      "execution_count": null,
      "outputs": []
    },
    {
      "cell_type": "code",
      "metadata": {
        "id": "8B5F-m03Hlf0",
        "colab": {
          "base_uri": "https://localhost:8080/"
        },
        "outputId": "a40439b3-6774-450c-8ceb-38d5b49f3dd8"
      },
      "source": [
        "labels.value_counts()"
      ],
      "execution_count": null,
      "outputs": [
        {
          "output_type": "execute_result",
          "data": {
            "text/plain": [
              "0.0    24825\n",
              "1.0    24825\n",
              "Name: TARGET, dtype: int64"
            ]
          },
          "metadata": {
            "tags": []
          },
          "execution_count": 154
        }
      ]
    },
    {
      "cell_type": "code",
      "metadata": {
        "id": "_6f1k-Ec1zOM"
      },
      "source": [
        "def process_dataframe(input_df, encoder_dict=None):\n",
        "    \"\"\" Process a dataframe into a form useable by LightGBM \"\"\"\n",
        "\n",
        "    # Label encode categoricals\n",
        "    print('Label encoding categorical features...')\n",
        "    categorical_feats = input_df.columns[input_df.dtypes == 'object']\n",
        "    for feat in categorical_feats:\n",
        "        encoder = LabelEncoder()\n",
        "        input_df[feat] = encoder.fit_transform(input_df[feat].fillna('NULL'))\n",
        "    print('Label encoding complete.')\n",
        "\n",
        "    return input_df, categorical_feats.tolist(), encoder_dict"
      ],
      "execution_count": null,
      "outputs": []
    },
    {
      "cell_type": "code",
      "metadata": {
        "id": "9PkkehL82FTJ",
        "colab": {
          "base_uri": "https://localhost:8080/"
        },
        "outputId": "2890996b-5702-4384-b69d-4a0efef56c93"
      },
      "source": [
        "dataset, categorical_feats, encoder_dict = process_dataframe(input_df=dataset)\n",
        "\n",
        "# Capture other categorical features not as object data types:\n",
        "non_obj_categoricals = [\n",
        "    'FONDKAPREMONT_MODE', 'HOUR_APPR_PROCESS_START', 'HOUSETYPE_MODE',\n",
        "    'NAME_EDUCATION_TYPE', 'NAME_FAMILY_STATUS', 'NAME_HOUSING_TYPE',\n",
        "    'NAME_INCOME_TYPE', 'NAME_TYPE_SUITE', 'OCCUPATION_TYPE',\n",
        "    'ORGANIZATION_TYPE', 'STATUS', 'NAME_CONTRACT_STATUS_CAVG',\n",
        "    'WALLSMATERIAL_MODE', 'WEEKDAY_APPR_PROCESS_START', 'NAME_CONTRACT_TYPE_BAVG',\n",
        "    'WEEKDAY_APPR_PROCESS_START_BAVG', 'NAME_CASH_LOAN_PURPOSE', 'NAME_CONTRACT_STATUS', \n",
        "    'NAME_PAYMENT_TYPE', 'CODE_REJECT_REASON', 'NAME_TYPE_SUITE_BAVG', \n",
        "    'NAME_CLIENT_TYPE', 'NAME_GOODS_CATEGORY', 'NAME_PORTFOLIO', \n",
        "    'NAME_PRODUCT_TYPE', 'CHANNEL_TYPE', 'NAME_SELLER_INDUSTRY', \n",
        "    'NAME_YIELD_GROUP', 'PRODUCT_COMBINATION', 'NAME_CONTRACT_STATUS_CCAVG' \n",
        "]\n",
        "categorical_feats = categorical_feats + non_obj_categoricals"
      ],
      "execution_count": null,
      "outputs": [
        {
          "output_type": "stream",
          "text": [
            "Label encoding categorical features...\n",
            "Label encoding complete.\n"
          ],
          "name": "stdout"
        }
      ]
    },
    {
      "cell_type": "code",
      "metadata": {
        "id": "fDthuC7K2IUE",
        "colab": {
          "base_uri": "https://localhost:8080/"
        },
        "outputId": "520d4ff3-5d89-4bc1-e62b-1623eb8694af"
      },
      "source": [
        "null_counts = dataset.isnull().sum()\n",
        "null_counts = null_counts[null_counts > 0]\n",
        "null_ratios = null_counts / len(dataset)\n",
        "\n",
        "#Drop columns over 80% null\n",
        "null_thresh = .8\n",
        "null_cols = null_ratios[null_ratios > null_thresh].index\n",
        "dataset.drop(null_cols, axis=1, inplace=True)\n",
        "print('Columns dropped for being over {}% null:'.format(100*null_thresh))\n",
        "for col in null_cols:\n",
        "    print(col)\n",
        "    if col in categorical_feats:\n",
        "        categorical_feats.pop(col)\n",
        "    \n",
        "#Fill the rest with the mean\n",
        "\n",
        "dataset.fillna(0, inplace=True)"
      ],
      "execution_count": null,
      "outputs": [
        {
          "output_type": "stream",
          "text": [
            "Columns dropped for being over 80.0% null:\n",
            "RATE_INTEREST_PRIMARY\n",
            "RATE_INTEREST_PRIVILEGED\n",
            "DAYS_FIRST_DRAWING\n",
            "RATE_INTEREST_PRIMARY_PRVMAX\n",
            "RATE_INTEREST_PRIVILEGED_PRVMAX\n",
            "DAYS_FIRST_DRAWING_PRVMAX\n",
            "RATE_INTEREST_PRIMARY_PRVMIN\n",
            "RATE_INTEREST_PRIVILEGED_PRVMIN\n",
            "DAYS_FIRST_DRAWING_PRVMIN\n",
            "AMT_DRAWINGS_ATM_CURRENT\n",
            "AMT_DRAWINGS_OTHER_CURRENT\n",
            "AMT_DRAWINGS_POS_CURRENT\n",
            "AMT_INST_MIN_REGULARITY\n",
            "AMT_PAYMENT_CURRENT\n",
            "CNT_DRAWINGS_ATM_CURRENT\n",
            "CNT_DRAWINGS_OTHER_CURRENT\n",
            "CNT_DRAWINGS_POS_CURRENT\n",
            "CNT_INSTALMENT_MATURE_CUM\n",
            "AMT_DRAWINGS_ATM_CURRENT_CCMEAN\n",
            "AMT_DRAWINGS_OTHER_CURRENT_CCMEAN\n",
            "AMT_DRAWINGS_POS_CURRENT_CCMEAN\n",
            "AMT_INST_MIN_REGULARITY_CCMEAN\n",
            "AMT_PAYMENT_CURRENT_CCMEAN\n",
            "CNT_DRAWINGS_ATM_CURRENT_CCMEAN\n",
            "CNT_DRAWINGS_OTHER_CURRENT_CCMEAN\n",
            "CNT_DRAWINGS_POS_CURRENT_CCMEAN\n",
            "CNT_INSTALMENT_MATURE_CUM_CCMEAN\n",
            "AMT_DRAWINGS_ATM_CURRENT_CCMAX\n",
            "AMT_DRAWINGS_OTHER_CURRENT_CCMAX\n",
            "AMT_DRAWINGS_POS_CURRENT_CCMAX\n",
            "AMT_INST_MIN_REGULARITY_CCMAX\n",
            "AMT_PAYMENT_CURRENT_CCMAX\n",
            "CNT_DRAWINGS_ATM_CURRENT_CCMAX\n",
            "CNT_DRAWINGS_OTHER_CURRENT_CCMAX\n",
            "CNT_DRAWINGS_POS_CURRENT_CCMAX\n",
            "CNT_INSTALMENT_MATURE_CUM_CCMAX\n",
            "AMT_DRAWINGS_ATM_CURRENT_CCMIN\n",
            "AMT_DRAWINGS_OTHER_CURRENT_CCMIN\n",
            "AMT_DRAWINGS_POS_CURRENT_CCMIN\n",
            "AMT_INST_MIN_REGULARITY_CCMIN\n",
            "AMT_PAYMENT_CURRENT_CCMIN\n",
            "CNT_DRAWINGS_ATM_CURRENT_CCMIN\n",
            "CNT_DRAWINGS_OTHER_CURRENT_CCMIN\n",
            "CNT_DRAWINGS_POS_CURRENT_CCMIN\n",
            "CNT_INSTALMENT_MATURE_CUM_CCMIN\n",
            "MONTHS_BALANCE_B_B\n"
          ],
          "name": "stdout"
        }
      ]
    },
    {
      "cell_type": "code",
      "metadata": {
        "id": "WVAGOYh_2TF5",
        "colab": {
          "base_uri": "https://localhost:8080/"
        },
        "outputId": "20b7a1fd-60ea-48d3-b1c2-92897c9c0bc8"
      },
      "source": [
        "#Check result\n",
        "print(dataset['CHANNEL_TYPE'])"
      ],
      "execution_count": null,
      "outputs": [
        {
          "output_type": "stream",
          "text": [
            "29616     5\n",
            "151628    4\n",
            "84479     7\n",
            "3341      8\n",
            "19746     7\n",
            "         ..\n",
            "264825    7\n",
            "48257     4\n",
            "204475    5\n",
            "278028    8\n",
            "73913     8\n",
            "Name: CHANNEL_TYPE, Length: 49650, dtype: int64\n"
          ],
          "name": "stdout"
        }
      ]
    },
    {
      "cell_type": "code",
      "metadata": {
        "id": "zSeXjaOX2bhA",
        "colab": {
          "base_uri": "https://localhost:8080/",
          "height": 195
        },
        "outputId": "12d8860b-8c3c-42ec-c346-57b58b073b03"
      },
      "source": [
        "#Generate df with variables names and index\n",
        "cat_feats_idx = np.array([dataset.columns.get_loc(x) for x in categorical_feats])\n",
        "int_feats_idx = [dataset.columns.get_loc(x) for x in non_obj_categoricals]\n",
        "cat_feat_lookup = pd.DataFrame({'feature': categorical_feats, 'column_index': cat_feats_idx})\n",
        "cat_feat_lookup.head()\n",
        "\n",
        "cont_feats_idx = np.array(\n",
        "    [dataset.columns.get_loc(x) \n",
        "     for x in dataset.columns[~dataset.columns.isin(categorical_feats)]]\n",
        ")\n",
        "cont_feat_lookup = pd.DataFrame(\n",
        "    {'feature': dataset.columns[~dataset.columns.isin(categorical_feats)], \n",
        "     'column_index': cont_feats_idx}\n",
        ")\n",
        "cont_feat_lookup.head()"
      ],
      "execution_count": null,
      "outputs": [
        {
          "output_type": "execute_result",
          "data": {
            "text/html": [
              "<div>\n",
              "<style scoped>\n",
              "    .dataframe tbody tr th:only-of-type {\n",
              "        vertical-align: middle;\n",
              "    }\n",
              "\n",
              "    .dataframe tbody tr th {\n",
              "        vertical-align: top;\n",
              "    }\n",
              "\n",
              "    .dataframe thead th {\n",
              "        text-align: right;\n",
              "    }\n",
              "</style>\n",
              "<table border=\"1\" class=\"dataframe\">\n",
              "  <thead>\n",
              "    <tr style=\"text-align: right;\">\n",
              "      <th></th>\n",
              "      <th>feature</th>\n",
              "      <th>column_index</th>\n",
              "    </tr>\n",
              "  </thead>\n",
              "  <tbody>\n",
              "    <tr>\n",
              "      <th>0</th>\n",
              "      <td>AMT_ANNUITY</td>\n",
              "      <td>0</td>\n",
              "    </tr>\n",
              "    <tr>\n",
              "      <th>1</th>\n",
              "      <td>AMT_CREDIT</td>\n",
              "      <td>1</td>\n",
              "    </tr>\n",
              "    <tr>\n",
              "      <th>2</th>\n",
              "      <td>AMT_GOODS_PRICE</td>\n",
              "      <td>2</td>\n",
              "    </tr>\n",
              "    <tr>\n",
              "      <th>3</th>\n",
              "      <td>AMT_INCOME_TOTAL</td>\n",
              "      <td>3</td>\n",
              "    </tr>\n",
              "    <tr>\n",
              "      <th>4</th>\n",
              "      <td>AMT_REQ_CREDIT_BUREAU_DAY</td>\n",
              "      <td>4</td>\n",
              "    </tr>\n",
              "  </tbody>\n",
              "</table>\n",
              "</div>"
            ],
            "text/plain": [
              "                     feature  column_index\n",
              "0                AMT_ANNUITY             0\n",
              "1                 AMT_CREDIT             1\n",
              "2            AMT_GOODS_PRICE             2\n",
              "3           AMT_INCOME_TOTAL             3\n",
              "4  AMT_REQ_CREDIT_BUREAU_DAY             4"
            ]
          },
          "metadata": {
            "tags": []
          },
          "execution_count": 29
        }
      ]
    },
    {
      "cell_type": "code",
      "metadata": {
        "id": "qinJLP--2kGr",
        "colab": {
          "base_uri": "https://localhost:8080/"
        },
        "outputId": "c9adcf10-50c7-48af-b51a-5ad8f76b223d"
      },
      "source": [
        "#Scale and Normalize\n",
        "scaler = StandardScaler()\n",
        "final_col_names = dataset.columns\n",
        "dataset = dataset.values\n",
        "dataset[:, cont_feats_idx] = scaler.fit_transform(dataset[:, cont_feats_idx])\n",
        "\n",
        "scaler_2 = MinMaxScaler(feature_range=(0, 1))\n",
        "dataset[:, int_feats_idx] = scaler_2.fit_transform(dataset[:, int_feats_idx])\n",
        "\n",
        "print(dataset.shape)\n",
        "print(dataset.dtype)"
      ],
      "execution_count": null,
      "outputs": [
        {
          "output_type": "stream",
          "text": [
            "(49650, 368)\n",
            "float64\n"
          ],
          "name": "stdout"
        }
      ]
    },
    {
      "cell_type": "code",
      "metadata": {
        "id": "-uUAXWOs2qkK",
        "colab": {
          "base_uri": "https://localhost:8080/"
        },
        "outputId": "322d8fcf-fc20-4d78-ea5d-3e383bf691c0"
      },
      "source": [
        "labels_array = labels.to_numpy() \n",
        "print(labels_array)\n",
        "labelsv2 = np.vstack(labels_array)\n",
        "print(labelsv2)\n",
        "labels.value_counts(normalize=True) * 100"
      ],
      "execution_count": null,
      "outputs": [
        {
          "output_type": "stream",
          "text": [
            "[1. 1. 1. ... 0. 0. 0.]\n",
            "[[1.]\n",
            " [1.]\n",
            " [1.]\n",
            " ...\n",
            " [0.]\n",
            " [0.]\n",
            " [0.]]\n"
          ],
          "name": "stdout"
        },
        {
          "output_type": "execute_result",
          "data": {
            "text/plain": [
              "0.0    50.0\n",
              "1.0    50.0\n",
              "Name: TARGET, dtype: float64"
            ]
          },
          "metadata": {
            "tags": []
          },
          "execution_count": 31
        }
      ]
    },
    {
      "cell_type": "code",
      "metadata": {
        "id": "LCQbRYWt2ul9"
      },
      "source": [
        "X_train, X_test, y_train, y_test =  train_test_split(dataset, labelsv2, train_size=0.85, test_size=0.15, random_state=42)"
      ],
      "execution_count": null,
      "outputs": []
    },
    {
      "cell_type": "code",
      "metadata": {
        "id": "epQqGC8P2u_c"
      },
      "source": [
        "#np.save(\"/content/drive/My Drive/Tilburg University/DS&S/Thesis/Google Collab/Home Credit Default Dataset/Downsampling/Downsampled Data/train_downsampled.npy\",X_train)\n",
        "#np.save(\"/content/drive/My Drive/Tilburg University/DS&S/Thesis/Google Collab/Home Credit Default Dataset/Downsampling/Downsampled Data/train_labels_downsampled.npy\",y_train)\n",
        "#np.save(\"/content/drive/My Drive/Tilburg University/DS&S/Thesis/Google Collab/Home Credit Default Dataset/Downsampling/Downsampled Data/test_downsampled.npy\",X_test)\n",
        "#np.save(\"/content/drive/My Drive/Tilburg University/DS&S/Thesis/Google Collab/Home Credit Default Dataset/Downsampling/Downsampled Data/test_labels_downsampled.npy\",y_test)"
      ],
      "execution_count": null,
      "outputs": []
    },
    {
      "cell_type": "code",
      "metadata": {
        "id": "uzgRNqCV3feO"
      },
      "source": [
        "X_train = np.load(\"/content/drive/My Drive/Tilburg University/DS&S/Thesis/Google Collab/Home Credit Default Dataset/Downsampling/Downsampled Data/train_downsampled.npy\")\n",
        "y_train = np.load(\"/content/drive/My Drive/Tilburg University/DS&S/Thesis/Google Collab/Home Credit Default Dataset/Downsampling/Downsampled Data/train_labels_downsampled.npy\")\n",
        "X_test = np.load(\"/content/drive/My Drive/Tilburg University/DS&S/Thesis/Google Collab/Home Credit Default Dataset/Downsampling/Downsampled Data/test_downsampled.npy\")\n",
        "y_test = np.load(\"/content/drive/My Drive/Tilburg University/DS&S/Thesis/Google Collab/Home Credit Default Dataset/Downsampling/Downsampled Data/test_labels_downsampled.npy\")"
      ],
      "execution_count": null,
      "outputs": []
    },
    {
      "cell_type": "markdown",
      "metadata": {
        "id": "ISGwG2aKzuUy"
      },
      "source": [
        "# **4) Baseline Model**"
      ]
    },
    {
      "cell_type": "code",
      "metadata": {
        "id": "kvqCOV2rzzGg"
      },
      "source": [
        "log_X_train = X_train\n",
        "log_y_train = y_train\n",
        "log_X_test = X_test\n",
        "log_y_test = y_test"
      ],
      "execution_count": null,
      "outputs": []
    },
    {
      "cell_type": "code",
      "metadata": {
        "colab": {
          "base_uri": "https://localhost:8080/"
        },
        "id": "mNz2VzWAzxbi",
        "outputId": "366b434a-09c7-4fc3-d430-6fa2f56fc81f"
      },
      "source": [
        "#Create Logistic Regression Model\n",
        "logreg = LogisticRegression(max_iter= 3000,random_state=16)\n",
        "logreg.fit(log_X_train,log_y_train.ravel())"
      ],
      "execution_count": null,
      "outputs": [
        {
          "output_type": "execute_result",
          "data": {
            "text/plain": [
              "LogisticRegression(C=1.0, class_weight=None, dual=False, fit_intercept=True,\n",
              "                   intercept_scaling=1, l1_ratio=None, max_iter=3000,\n",
              "                   multi_class='auto', n_jobs=None, penalty='l2',\n",
              "                   random_state=None, solver='lbfgs', tol=0.0001, verbose=0,\n",
              "                   warm_start=False)"
            ]
          },
          "metadata": {
            "tags": []
          },
          "execution_count": 17
        }
      ]
    },
    {
      "cell_type": "code",
      "metadata": {
        "colab": {
          "base_uri": "https://localhost:8080/"
        },
        "id": "jCju-CTd0Wvi",
        "outputId": "c983f7ab-1b00-401f-80cb-6ddc92c09da7"
      },
      "source": [
        "#Get Score of Baseline model\n",
        "logit_roc_auc = roc_auc_score(y_test, logreg.predict(X_test))\n",
        "print(logit_roc_auc)"
      ],
      "execution_count": null,
      "outputs": [
        {
          "output_type": "stream",
          "text": [
            "0.6958740354771773\n"
          ],
          "name": "stdout"
        }
      ]
    },
    {
      "cell_type": "markdown",
      "metadata": {
        "id": "Al2qnRKd2yi1"
      },
      "source": [
        "# **5) Built Neural Network**"
      ]
    },
    {
      "cell_type": "code",
      "metadata": {
        "id": "G0kMNjtQ4G8I",
        "colab": {
          "base_uri": "https://localhost:8080/"
        },
        "outputId": "1f31c4bc-1f98-45cf-ad5c-3780a496dfa5"
      },
      "source": [
        "print(X_train.shape)\n",
        "print(y_train.shape)"
      ],
      "execution_count": null,
      "outputs": [
        {
          "output_type": "stream",
          "text": [
            "(42202, 368)\n",
            "(42202, 1)\n"
          ],
          "name": "stdout"
        }
      ]
    },
    {
      "cell_type": "code",
      "metadata": {
        "id": "8-kzt_7Z4IBs",
        "colab": {
          "base_uri": "https://localhost:8080/"
        },
        "outputId": "9eaa6a39-027d-484e-80bb-3f8689c9f7ee"
      },
      "source": [
        "print(X_test.shape)\n",
        "print(y_test.shape)"
      ],
      "execution_count": null,
      "outputs": [
        {
          "output_type": "stream",
          "text": [
            "(7448, 368)\n",
            "(7448, 1)\n"
          ],
          "name": "stdout"
        }
      ]
    },
    {
      "cell_type": "code",
      "metadata": {
        "id": "BlVSpppp4JRy",
        "colab": {
          "base_uri": "https://localhost:8080/"
        },
        "outputId": "eac7a957-e964-41b1-9590-302871e63d39"
      },
      "source": [
        "#Prepare labels for Neural Network\n",
        "y_train = np.array(keras.utils.to_categorical(y_train))\n",
        "y_test = np.array(keras.utils.to_categorical(y_test))\n",
        "print(y_train.shape)\n",
        "print(y_train[:10])"
      ],
      "execution_count": null,
      "outputs": [
        {
          "output_type": "stream",
          "text": [
            "(42202, 2)\n",
            "[[0. 1.]\n",
            " [1. 0.]\n",
            " [0. 1.]\n",
            " [0. 1.]\n",
            " [0. 1.]\n",
            " [0. 1.]\n",
            " [0. 1.]\n",
            " [1. 0.]\n",
            " [0. 1.]\n",
            " [1. 0.]]\n"
          ],
          "name": "stdout"
        }
      ]
    },
    {
      "cell_type": "code",
      "metadata": {
        "id": "M2nK12ld4QMx"
      },
      "source": [
        "#Metrics for Neural Network\n",
        "def recall_m(y_true, y_pred):\n",
        "    true_positives = K.sum(K.round(K.clip(y_true * y_pred, 0, 1)))\n",
        "    possible_positives = K.sum(K.round(K.clip(y_true, 0, 1)))\n",
        "    recall = true_positives / (possible_positives + K.epsilon())\n",
        "    return recall\n",
        "\n",
        "def precision_m(y_true, y_pred):\n",
        "    true_positives = K.sum(K.round(K.clip(y_true * y_pred, 0, 1)))\n",
        "    predicted_positives = K.sum(K.round(K.clip(y_pred, 0, 1)))\n",
        "    precision = true_positives / (predicted_positives + K.epsilon())\n",
        "    return precision\n",
        "\n",
        "def f1_m(y_true, y_pred):\n",
        "    precision = precision_m(y_true, y_pred)\n",
        "    recall = recall_m(y_true, y_pred)\n",
        "    return 2*((precision*recall)/(precision+recall+K.epsilon()))\n",
        "\n",
        "val_auc = tf.keras.metrics.AUC()"
      ],
      "execution_count": null,
      "outputs": []
    },
    {
      "cell_type": "code",
      "metadata": {
        "id": "5WtpdDJm4iH_",
        "colab": {
          "base_uri": "https://localhost:8080/"
        },
        "outputId": "d2256c8a-e13f-4a2b-b8b8-ac313d8bd131"
      },
      "source": [
        "#Function to built model\n",
        "def build_model():\n",
        "  inputs = layers.Input(shape=(368))\n",
        "  x = layers.Dense(80,activation='relu',name='fc1')(inputs)\n",
        "\n",
        "  x = layers.Dense(80,activation='relu',name='fc2')(x)\n",
        "\n",
        "  x = layers.Dropout(rate=0.1, name='Dropout1')(x)\n",
        "\n",
        "  x = layers.BatchNormalization()(x)\n",
        "\n",
        "  x = layers.Dense(80,activation='relu',name='fc3')(x)\n",
        "\n",
        "  x = layers.Dropout(rate=0.1, name='Dropout2')(x)\n",
        "\n",
        "  x = layers.BatchNormalization()(x)\n",
        "\n",
        "  x = layers.Dense(60,activation='relu',name='fc4')(x)\n",
        "  \n",
        "  x = layers.Dense(2,name='logits')(x)\n",
        "\n",
        "  preds = layers.Activation('softmax',name='Softmax')(x)\n",
        "\n",
        "  model = Model(inputs=inputs, outputs=preds)\n",
        "  model.summary()\n",
        "  return model\n",
        "model = build_model()"
      ],
      "execution_count": null,
      "outputs": [
        {
          "output_type": "stream",
          "text": [
            "Model: \"functional_40\"\n",
            "_________________________________________________________________\n",
            "Layer (type)                 Output Shape              Param #   \n",
            "=================================================================\n",
            "input_17 (InputLayer)        [(None, 368)]             0         \n",
            "_________________________________________________________________\n",
            "fc1 (Dense)                  (None, 80)                29520     \n",
            "_________________________________________________________________\n",
            "fc2 (Dense)                  (None, 80)                6480      \n",
            "_________________________________________________________________\n",
            "Dropout1 (Dropout)           (None, 80)                0         \n",
            "_________________________________________________________________\n",
            "batch_normalization_24 (Batc (None, 80)                320       \n",
            "_________________________________________________________________\n",
            "fc3 (Dense)                  (None, 80)                6480      \n",
            "_________________________________________________________________\n",
            "Dropout2 (Dropout)           (None, 80)                0         \n",
            "_________________________________________________________________\n",
            "batch_normalization_25 (Batc (None, 80)                320       \n",
            "_________________________________________________________________\n",
            "fc4 (Dense)                  (None, 60)                4860      \n",
            "_________________________________________________________________\n",
            "logits (Dense)               (None, 2)                 122       \n",
            "_________________________________________________________________\n",
            "Softmax (Activation)         (None, 2)                 0         \n",
            "=================================================================\n",
            "Total params: 48,102\n",
            "Trainable params: 47,782\n",
            "Non-trainable params: 320\n",
            "_________________________________________________________________\n"
          ],
          "name": "stdout"
        }
      ]
    },
    {
      "cell_type": "code",
      "metadata": {
        "id": "A0nhPqLb4z_V"
      },
      "source": [
        "#Saving best performing model\n",
        "filepath = \"/content/drive/My Drive/Tilburg University/DS&S/Thesis/Google Collab/Home Credit Default Dataset/Downsampling/Main Notebook/Models/ModelV1.hdf5\""
      ],
      "execution_count": null,
      "outputs": []
    },
    {
      "cell_type": "code",
      "metadata": {
        "id": "mZcENUaV4sdl"
      },
      "source": [
        "#Set-up filepath and ModelCheckepoint with Earlystopping to save best performing moddel based on Validation AUC\n",
        "model_checkpoint = ModelCheckpoint(filepath,  monitor='val_auc', save_best_only=True, mode='max')\n",
        "es = EarlyStopping(monitor='val_auc', mode='max', verbose=0, patience=5)\n",
        "model.compile(optimizer=\"adam\", loss=\"categorical_crossentropy\", metrics=['acc',f1_m,precision_m, recall_m,tf.keras.metrics.AUC(name='auc')])"
      ],
      "execution_count": null,
      "outputs": []
    },
    {
      "cell_type": "code",
      "metadata": {
        "id": "cLkwh5js4v-X",
        "colab": {
          "base_uri": "https://localhost:8080/"
        },
        "outputId": "cefff6d2-4d0d-4fa9-a34c-7c837cb7ff95"
      },
      "source": [
        "#Set epochs and bach size, and train model \n",
        "num_epoch = 100\n",
        "batch_size = 64\n",
        "model1 = model.fit(x=X_train, y=y_train, epochs=num_epoch, batch_size=batch_size, validation_split=0.15,callbacks=[model_checkpoint,es])"
      ],
      "execution_count": null,
      "outputs": [
        {
          "output_type": "stream",
          "text": [
            "Epoch 1/50\n",
            "528/528 [==============================] - 3s 6ms/step - loss: 0.6644 - acc: 0.6226 - f1_m: 0.6224 - precision_m: 0.6224 - recall_m: 0.6224 - auc: 0.6658 - val_loss: 0.6176 - val_acc: 0.6621 - val_f1_m: 0.6621 - val_precision_m: 0.6621 - val_recall_m: 0.6621 - val_auc: 0.7248\n",
            "Epoch 2/50\n",
            "528/528 [==============================] - 2s 4ms/step - loss: 0.6114 - acc: 0.6707 - f1_m: 0.6708 - precision_m: 0.6708 - recall_m: 0.6708 - auc: 0.7287 - val_loss: 0.6043 - val_acc: 0.6761 - val_f1_m: 0.6761 - val_precision_m: 0.6761 - val_recall_m: 0.6761 - val_auc: 0.7364\n",
            "Epoch 3/50\n",
            "528/528 [==============================] - 2s 4ms/step - loss: 0.5997 - acc: 0.6801 - f1_m: 0.6801 - precision_m: 0.6801 - recall_m: 0.6801 - auc: 0.7421 - val_loss: 0.6002 - val_acc: 0.6756 - val_f1_m: 0.6756 - val_precision_m: 0.6756 - val_recall_m: 0.6756 - val_auc: 0.7411\n",
            "Epoch 4/50\n",
            "528/528 [==============================] - 2s 4ms/step - loss: 0.5940 - acc: 0.6863 - f1_m: 0.6862 - precision_m: 0.6862 - recall_m: 0.6862 - auc: 0.7489 - val_loss: 0.5967 - val_acc: 0.6821 - val_f1_m: 0.6821 - val_precision_m: 0.6821 - val_recall_m: 0.6821 - val_auc: 0.7453\n",
            "Epoch 5/50\n",
            "528/528 [==============================] - 2s 4ms/step - loss: 0.5887 - acc: 0.6911 - f1_m: 0.6910 - precision_m: 0.6910 - recall_m: 0.6910 - auc: 0.7546 - val_loss: 0.5952 - val_acc: 0.6858 - val_f1_m: 0.6858 - val_precision_m: 0.6858 - val_recall_m: 0.6858 - val_auc: 0.7497\n",
            "Epoch 6/50\n",
            "528/528 [==============================] - 2s 4ms/step - loss: 0.5872 - acc: 0.6936 - f1_m: 0.6935 - precision_m: 0.6935 - recall_m: 0.6935 - auc: 0.7567 - val_loss: 0.5920 - val_acc: 0.6871 - val_f1_m: 0.6871 - val_precision_m: 0.6871 - val_recall_m: 0.6871 - val_auc: 0.7509\n",
            "Epoch 7/50\n",
            "528/528 [==============================] - 2s 4ms/step - loss: 0.5852 - acc: 0.6929 - f1_m: 0.6929 - precision_m: 0.6929 - recall_m: 0.6929 - auc: 0.7587 - val_loss: 0.5930 - val_acc: 0.6848 - val_f1_m: 0.6847 - val_precision_m: 0.6847 - val_recall_m: 0.6847 - val_auc: 0.7505\n",
            "Epoch 8/50\n",
            "528/528 [==============================] - 2s 4ms/step - loss: 0.5804 - acc: 0.7019 - f1_m: 0.7017 - precision_m: 0.7017 - recall_m: 0.7017 - auc: 0.7642 - val_loss: 0.5973 - val_acc: 0.6848 - val_f1_m: 0.6848 - val_precision_m: 0.6848 - val_recall_m: 0.6848 - val_auc: 0.7461\n",
            "Epoch 9/50\n",
            "528/528 [==============================] - 2s 4ms/step - loss: 0.5759 - acc: 0.6989 - f1_m: 0.6989 - precision_m: 0.6989 - recall_m: 0.6989 - auc: 0.7682 - val_loss: 0.5930 - val_acc: 0.6866 - val_f1_m: 0.6867 - val_precision_m: 0.6867 - val_recall_m: 0.6867 - val_auc: 0.7497\n",
            "Epoch 10/50\n",
            "528/528 [==============================] - 2s 4ms/step - loss: 0.5717 - acc: 0.7054 - f1_m: 0.7054 - precision_m: 0.7054 - recall_m: 0.7054 - auc: 0.7730 - val_loss: 0.5952 - val_acc: 0.6866 - val_f1_m: 0.6867 - val_precision_m: 0.6867 - val_recall_m: 0.6867 - val_auc: 0.7500\n",
            "Epoch 11/50\n",
            "528/528 [==============================] - 2s 4ms/step - loss: 0.5670 - acc: 0.7097 - f1_m: 0.7097 - precision_m: 0.7097 - recall_m: 0.7097 - auc: 0.7771 - val_loss: 0.5974 - val_acc: 0.6842 - val_f1_m: 0.6842 - val_precision_m: 0.6842 - val_recall_m: 0.6842 - val_auc: 0.7466\n"
          ],
          "name": "stdout"
        }
      ]
    },
    {
      "cell_type": "code",
      "metadata": {
        "id": "KWdQFUmS5cd5",
        "colab": {
          "base_uri": "https://localhost:8080/"
        },
        "outputId": "36873496-c55a-419a-971d-e9bcffcfbaca"
      },
      "source": [
        "#Train Performance\n",
        "prediction_model = tf.keras.models.load_model(filepath, custom_objects={'f1_m':f1_m,'precision_m':precision_m, 'recall_m':recall_m, 'auc': tf.keras.metrics.AUC() }) \n",
        "loss, accuracy, f1_score, precision, recall, auc = prediction_model.evaluate(X_train, y_train, verbose=0, batch_size=64)\n",
        "\n",
        "print('Train Accuracy:',accuracy)\n",
        "print('Train Recall:',recall)\n",
        "print('Train Precision:',precision)\n",
        "print('Train F1:',f1_score)\n",
        "print('Train AUC:',auc)\n",
        "prediction_model.summary()"
      ],
      "execution_count": null,
      "outputs": [
        {
          "output_type": "stream",
          "text": [
            "Train Accuracy: 0.6973366141319275\n",
            "Train Recall: 0.6973667144775391\n",
            "Train Precision: 0.6973667144775391\n",
            "Train F1: 0.6973666548728943\n",
            "Train AUC: 0.7662211060523987\n",
            "Model: \"functional_40\"\n",
            "_________________________________________________________________\n",
            "Layer (type)                 Output Shape              Param #   \n",
            "=================================================================\n",
            "input_17 (InputLayer)        [(None, 368)]             0         \n",
            "_________________________________________________________________\n",
            "fc1 (Dense)                  (None, 80)                29520     \n",
            "_________________________________________________________________\n",
            "fc2 (Dense)                  (None, 80)                6480      \n",
            "_________________________________________________________________\n",
            "Dropout1 (Dropout)           (None, 80)                0         \n",
            "_________________________________________________________________\n",
            "batch_normalization_24 (Batc (None, 80)                320       \n",
            "_________________________________________________________________\n",
            "fc3 (Dense)                  (None, 80)                6480      \n",
            "_________________________________________________________________\n",
            "Dropout2 (Dropout)           (None, 80)                0         \n",
            "_________________________________________________________________\n",
            "batch_normalization_25 (Batc (None, 80)                320       \n",
            "_________________________________________________________________\n",
            "fc4 (Dense)                  (None, 60)                4860      \n",
            "_________________________________________________________________\n",
            "logits (Dense)               (None, 2)                 122       \n",
            "_________________________________________________________________\n",
            "Softmax (Activation)         (None, 2)                 0         \n",
            "=================================================================\n",
            "Total params: 48,102\n",
            "Trainable params: 47,782\n",
            "Non-trainable params: 320\n",
            "_________________________________________________________________\n"
          ],
          "name": "stdout"
        }
      ]
    },
    {
      "cell_type": "code",
      "metadata": {
        "id": "NTRyr7HtIlFZ",
        "colab": {
          "base_uri": "https://localhost:8080/"
        },
        "outputId": "26a5bb0e-b077-483b-a760-693252800508"
      },
      "source": [
        "#Test Performance\n",
        "loss, accuracy, f1_score, precision, recall, auc = prediction_model.evaluate(X_test, y_test, verbose=0, batch_size=64)\n",
        "\n",
        "print('Test Accuracy:',accuracy)\n",
        "print('Test Recall:',recall)\n",
        "print('Test Precision:',precision)\n",
        "print('Test F1:',f1_score)\n",
        "print('Test AUC:',auc)\n",
        "prediction_model.summary()"
      ],
      "execution_count": null,
      "outputs": [
        {
          "output_type": "stream",
          "text": [
            "Test Accuracy: 0.6797798275947571\n",
            "Test Recall: 0.6797097325325012\n",
            "Test Precision: 0.6797097325325012\n",
            "Test F1: 0.6797096729278564\n",
            "Test AUC: 0.7480786442756653\n",
            "Model: \"functional_40\"\n",
            "_________________________________________________________________\n",
            "Layer (type)                 Output Shape              Param #   \n",
            "=================================================================\n",
            "input_17 (InputLayer)        [(None, 368)]             0         \n",
            "_________________________________________________________________\n",
            "fc1 (Dense)                  (None, 80)                29520     \n",
            "_________________________________________________________________\n",
            "fc2 (Dense)                  (None, 80)                6480      \n",
            "_________________________________________________________________\n",
            "Dropout1 (Dropout)           (None, 80)                0         \n",
            "_________________________________________________________________\n",
            "batch_normalization_24 (Batc (None, 80)                320       \n",
            "_________________________________________________________________\n",
            "fc3 (Dense)                  (None, 80)                6480      \n",
            "_________________________________________________________________\n",
            "Dropout2 (Dropout)           (None, 80)                0         \n",
            "_________________________________________________________________\n",
            "batch_normalization_25 (Batc (None, 80)                320       \n",
            "_________________________________________________________________\n",
            "fc4 (Dense)                  (None, 60)                4860      \n",
            "_________________________________________________________________\n",
            "logits (Dense)               (None, 2)                 122       \n",
            "_________________________________________________________________\n",
            "Softmax (Activation)         (None, 2)                 0         \n",
            "=================================================================\n",
            "Total params: 48,102\n",
            "Trainable params: 47,782\n",
            "Non-trainable params: 320\n",
            "_________________________________________________________________\n"
          ],
          "name": "stdout"
        }
      ]
    },
    {
      "cell_type": "code",
      "metadata": {
        "colab": {
          "base_uri": "https://localhost:8080/"
        },
        "id": "dqD6Vuu6yFRm",
        "outputId": "ac74454c-a700-4fe9-9a99-4151b4aab8f4"
      },
      "source": [
        "#Best Performance\n",
        "best_filepath = \"/content/drive/MyDrive/Tilburg University/DS&S/Thesis/Google Collab/Home Credit Default Dataset/Downsampling/Main Notebook/Models/DownsampledV1.hdf5\"\n",
        "best_model = tf.keras.models.load_model(best_filepath, custom_objects={'f1_m':f1_m,'precision_m':precision_m, 'recall_m':recall_m, 'auc': tf.keras.metrics.AUC() }) \n",
        "loss, accuracy, f1_score, precision, recall, auc = best_model.evaluate(X_test, y_test, verbose=0, batch_size=64)\n",
        "\n",
        "#print('Best Accuracy:',accuracy)\n",
        "#print('Best Recall:',recall)\n",
        "#print('Best Precision:',precision)\n",
        "#print('Best F1:',f1_score)\n",
        "print('Best AUC:',auc)\n",
        "best_model.summary()"
      ],
      "execution_count": null,
      "outputs": [
        {
          "output_type": "stream",
          "text": [
            "Best AUC: 0.7428011298179626\n",
            "Model: \"functional_3\"\n",
            "_________________________________________________________________\n",
            "Layer (type)                 Output Shape              Param #   \n",
            "=================================================================\n",
            "input_2 (InputLayer)         [(None, 368)]             0         \n",
            "_________________________________________________________________\n",
            "fc1 (Dense)                  (None, 80)                29520     \n",
            "_________________________________________________________________\n",
            "batch_normalization (BatchNo (None, 80)                320       \n",
            "_________________________________________________________________\n",
            "fc2 (Dense)                  (None, 160)               12960     \n",
            "_________________________________________________________________\n",
            "batch_normalization_1 (Batch (None, 160)               640       \n",
            "_________________________________________________________________\n",
            "fc3 (Dense)                  (None, 320)               51520     \n",
            "_________________________________________________________________\n",
            "Dropout1 (Dropout)           (None, 320)               0         \n",
            "_________________________________________________________________\n",
            "fc4 (Dense)                  (None, 80)                25680     \n",
            "_________________________________________________________________\n",
            "logits (Dense)               (None, 2)                 162       \n",
            "_________________________________________________________________\n",
            "Softmax (Activation)         (None, 2)                 0         \n",
            "=================================================================\n",
            "Total params: 120,802\n",
            "Trainable params: 120,322\n",
            "Non-trainable params: 480\n",
            "_________________________________________________________________\n"
          ],
          "name": "stdout"
        }
      ]
    },
    {
      "cell_type": "markdown",
      "metadata": {
        "id": "7c3oO2hy5jBU"
      },
      "source": [
        "# **6) Generate Soft Targets**"
      ]
    },
    {
      "cell_type": "code",
      "metadata": {
        "id": "bUI1rGez5xYl"
      },
      "source": [
        "#Load the best model\n",
        "model = tf.keras.models.load_model(best_filepath, custom_objects={'f1_m':f1_m,'precision_m':precision_m, 'recall_m':recall_m}) "
      ],
      "execution_count": null,
      "outputs": []
    },
    {
      "cell_type": "code",
      "metadata": {
        "id": "-UxuewfA5-zO",
        "colab": {
          "base_uri": "https://localhost:8080/"
        },
        "outputId": "8567af9a-df1e-44de-f2b1-5d5f9c877191"
      },
      "source": [
        "#Compile it again\n",
        "model.compile(optimizer=\"adam\", loss=\"categorical_crossentropy\", metrics=['acc',f1_m,precision_m, recall_m,tf.keras.metrics.AUC()])\n",
        "model.summary()"
      ],
      "execution_count": null,
      "outputs": [
        {
          "output_type": "stream",
          "text": [
            "Model: \"functional_3\"\n",
            "_________________________________________________________________\n",
            "Layer (type)                 Output Shape              Param #   \n",
            "=================================================================\n",
            "input_2 (InputLayer)         [(None, 368)]             0         \n",
            "_________________________________________________________________\n",
            "fc1 (Dense)                  (None, 80)                29520     \n",
            "_________________________________________________________________\n",
            "batch_normalization (BatchNo (None, 80)                320       \n",
            "_________________________________________________________________\n",
            "fc2 (Dense)                  (None, 160)               12960     \n",
            "_________________________________________________________________\n",
            "batch_normalization_1 (Batch (None, 160)               640       \n",
            "_________________________________________________________________\n",
            "fc3 (Dense)                  (None, 320)               51520     \n",
            "_________________________________________________________________\n",
            "Dropout1 (Dropout)           (None, 320)               0         \n",
            "_________________________________________________________________\n",
            "fc4 (Dense)                  (None, 80)                25680     \n",
            "_________________________________________________________________\n",
            "logits (Dense)               (None, 2)                 162       \n",
            "_________________________________________________________________\n",
            "Softmax (Activation)         (None, 2)                 0         \n",
            "=================================================================\n",
            "Total params: 120,802\n",
            "Trainable params: 120,322\n",
            "Non-trainable params: 480\n",
            "_________________________________________________________________\n"
          ],
          "name": "stdout"
        }
      ]
    },
    {
      "cell_type": "code",
      "metadata": {
        "id": "uUy4v4Q-6RUa"
      },
      "source": [
        "#Remove last softmax layer and predict again\n",
        "model_sans_softmax = Model(inputs=model.input, outputs=model.get_layer(\"logits\").output)\n",
        "model_logits = model_sans_softmax.predict(X_train)"
      ],
      "execution_count": null,
      "outputs": []
    },
    {
      "cell_type": "code",
      "metadata": {
        "id": "rG2_we4G6bbc"
      },
      "source": [
        "#Get the logits\n",
        "soft_targets = model_logits"
      ],
      "execution_count": null,
      "outputs": []
    },
    {
      "cell_type": "code",
      "metadata": {
        "id": "v6PCTR7C-uZm"
      },
      "source": [
        "#Save if needed for later use\n",
        "#np.save(\"/content/drive/My Drive/Tilburg University/DS&S/Thesis/Google Collab/Home Credit Default Dataset/Data/Soft Targets/HomeCredit_logits.npy\", model_logits)"
      ],
      "execution_count": null,
      "outputs": []
    },
    {
      "cell_type": "markdown",
      "metadata": {
        "id": "xKh4xsun6uzh"
      },
      "source": [
        "# **7) Vanilla Decision Tree**"
      ]
    },
    {
      "cell_type": "code",
      "metadata": {
        "id": "DVU6rc2h62XE",
        "colab": {
          "base_uri": "https://localhost:8080/"
        },
        "outputId": "4aacf66c-6a9a-487b-f783-4d3386783da1"
      },
      "source": [
        "#Create decision tree for specified depth of 5 and 10 \n",
        "model = DecisionTreeClassifier(max_depth=10,random_state=16)\n",
        "model.fit(X_train,y_train)"
      ],
      "execution_count": null,
      "outputs": [
        {
          "output_type": "execute_result",
          "data": {
            "text/plain": [
              "DecisionTreeClassifier(ccp_alpha=0.0, class_weight=None, criterion='gini',\n",
              "                       max_depth=10, max_features=None, max_leaf_nodes=None,\n",
              "                       min_impurity_decrease=0.0, min_impurity_split=None,\n",
              "                       min_samples_leaf=1, min_samples_split=2,\n",
              "                       min_weight_fraction_leaf=0.0, presort='deprecated',\n",
              "                       random_state=None, splitter='best')"
            ]
          },
          "metadata": {
            "tags": []
          },
          "execution_count": 39
        }
      ]
    },
    {
      "cell_type": "code",
      "metadata": {
        "id": "CI_4NZp771fb"
      },
      "source": [
        "#Get predictions of vanilla DT\n",
        "res_pred = model.predict(X_test)"
      ],
      "execution_count": null,
      "outputs": []
    },
    {
      "cell_type": "code",
      "metadata": {
        "id": "9g_IKP-Y73yI",
        "colab": {
          "base_uri": "https://localhost:8080/"
        },
        "outputId": "a461d640-faa8-415b-f5fe-b3c704f7636d"
      },
      "source": [
        "#Get various scores\n",
        "acc = accuracy_score(y_test, res_pred)\n",
        "rec = recall_score(y_test, res_pred,average='macro')\n",
        "prec = precision_score(y_test, res_pred,average='macro')\n",
        "auc = roc_auc_score(y_test,res_pred, average='macro')\n",
        "print('Accuracy:', acc)\n",
        "print('Recall: ', rec)\n",
        "print('Precision:', prec)\n",
        "print('AUC: ', auc)"
      ],
      "execution_count": null,
      "outputs": [
        {
          "output_type": "stream",
          "text": [
            "Accuracy: 0.635875402792696\n",
            "Recall:  0.6359033920009529\n",
            "Precision: 0.6365391689782252\n",
            "AUC:  0.6363064384974265\n"
          ],
          "name": "stdout"
        }
      ]
    },
    {
      "cell_type": "markdown",
      "metadata": {
        "id": "6Y7D05QU_oEk"
      },
      "source": [
        "# **8) Knowledge Distillation Decision Tree**\n"
      ]
    },
    {
      "cell_type": "code",
      "metadata": {
        "id": "NIs6XBb3_3si"
      },
      "source": [
        "#Set up Decision Tree for Knowledge Distillation at given depth \n",
        "model = DecisionTreeRegressor(max_depth=10,random_state=16)"
      ],
      "execution_count": null,
      "outputs": []
    },
    {
      "cell_type": "code",
      "metadata": {
        "id": "UMJPvtYI_4xB",
        "colab": {
          "base_uri": "https://localhost:8080/"
        },
        "outputId": "1a937a52-424c-4a51-951d-4bc23d926739"
      },
      "source": [
        "#Train Decision Tree\n",
        "model.fit(X_train,soft_targets)"
      ],
      "execution_count": null,
      "outputs": [
        {
          "output_type": "execute_result",
          "data": {
            "text/plain": [
              "DecisionTreeRegressor(ccp_alpha=0.0, criterion='mse', max_depth=10,\n",
              "                      max_features=None, max_leaf_nodes=None,\n",
              "                      min_impurity_decrease=0.0, min_impurity_split=None,\n",
              "                      min_samples_leaf=1, min_samples_split=2,\n",
              "                      min_weight_fraction_leaf=0.0, presort='deprecated',\n",
              "                      random_state=None, splitter='best')"
            ]
          },
          "metadata": {
            "tags": []
          },
          "execution_count": 43
        }
      ]
    },
    {
      "cell_type": "code",
      "metadata": {
        "id": "ptYL2NEH__Si"
      },
      "source": [
        "#Get predictions\n",
        "res_pred = model.predict(X_test)"
      ],
      "execution_count": null,
      "outputs": []
    },
    {
      "cell_type": "code",
      "metadata": {
        "id": "UYMEDLHyAEHD"
      },
      "source": [
        "# Apply softmax function to output of Decision Tree\n",
        "pred_argmax = np.zeros_like(res_pred)\n",
        "pred_argmax[np.arange(len(res_pred)), res_pred.argmax(1)] = 1 "
      ],
      "execution_count": null,
      "outputs": []
    },
    {
      "cell_type": "code",
      "metadata": {
        "id": "2T_XADvNAOLn",
        "colab": {
          "base_uri": "https://localhost:8080/"
        },
        "outputId": "5a37f17f-1933-4e47-f5b3-18f20eff780b"
      },
      "source": [
        "#Get scores of student decision tree\n",
        "acc = accuracy_score(pred_argmax,y_test)\n",
        "rec = recall_score(y_test, pred_argmax,average='macro')\n",
        "prec = precision_score(y_test, pred_argmax,average='macro')\n",
        "auc = roc_auc_score(y_test, pred_argmax,average='macro')\n",
        "print('Accuracy:', acc)\n",
        "print('Recall: ', rec)\n",
        "print('Precision:', prec)\n",
        "print('AUC: ', auc)"
      ],
      "execution_count": null,
      "outputs": [
        {
          "output_type": "stream",
          "text": [
            "Accuracy: 0.6544038668098818\n",
            "Recall:  0.6544511021567656\n",
            "Precision: 0.6548326649414907\n",
            "AUC:  0.6544511021567656\n"
          ],
          "name": "stdout"
        }
      ]
    }
  ]
}