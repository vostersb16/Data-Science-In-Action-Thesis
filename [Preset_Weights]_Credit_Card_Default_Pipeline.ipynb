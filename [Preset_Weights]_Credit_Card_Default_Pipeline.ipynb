{
  "nbformat": 4,
  "nbformat_minor": 0,
  "metadata": {
    "colab": {
      "name": "[Preset Weights] Credit_Card_Default_Pipeline.ipynb",
      "provenance": [],
      "collapsed_sections": []
    },
    "kernelspec": {
      "name": "python3",
      "display_name": "Python 3"
    }
  },
  "cells": [
    {
      "cell_type": "markdown",
      "metadata": {
        "id": "0ZNwtN4D81hB"
      },
      "source": [
        "# **1) Import all packages**"
      ]
    },
    {
      "cell_type": "code",
      "metadata": {
        "id": "RmSOwTh11S9Y"
      },
      "source": [
        "import os\n",
        "import numpy as np \n",
        "import pandas as pd\n",
        "import tensorflow as tf\n",
        "import matplotlib.pyplot as plt\n",
        "import keras\n",
        "import math\n",
        "from tensorflow.python.client import device_lib\n",
        "from sklearn.model_selection import train_test_split \n",
        "from numpy.random import seed\n",
        "from sklearn.preprocessing import LabelEncoder\n",
        "seed(42)\n",
        "from sklearn.metrics import roc_auc_score\n",
        "from keras.callbacks import ModelCheckpoint\n",
        "from keras.callbacks import EarlyStopping\n",
        "from keras.utils import to_categorical\n",
        "from keras import backend as K\n",
        "from keras.models import Sequential\n",
        "from tensorflow.keras import layers, models\n",
        "from tensorflow.keras.models import Model\n",
        "from sklearn.tree import DecisionTreeClassifier,DecisionTreeRegressor\n",
        "import tensorflow as tf\n",
        "from sklearn.linear_model import LogisticRegression\n",
        "from sklearn.metrics import roc_auc_score\n",
        "from sklearn.metrics import roc_curve\n",
        "from sklearn.preprocessing import MinMaxScaler, Normalizer\n",
        "from sklearn.metrics import accuracy_score, f1_score, precision_score, recall_score, classification_report, confusion_matrix, roc_auc_score\n",
        "from sklearn.utils import class_weight\n",
        "tf.random.set_seed(42)"
      ],
      "execution_count": 2,
      "outputs": []
    },
    {
      "cell_type": "markdown",
      "metadata": {
        "id": "w4E73F0G1Koa"
      },
      "source": [
        "# **2) Get Dataset**"
      ]
    },
    {
      "cell_type": "code",
      "metadata": {
        "id": "X95bNaiF1eMD"
      },
      "source": [
        "df = pd.read_excel('/content/drive/My Drive/Tilburg University/DS&S/Thesis/Google Collab/Default Credit Card Clients/Data/default of credit card clients.xls', index_col=0)"
      ],
      "execution_count": 3,
      "outputs": []
    },
    {
      "cell_type": "code",
      "metadata": {
        "id": "hkY7uoj91iKE",
        "colab": {
          "base_uri": "https://localhost:8080/"
        },
        "outputId": "5217565c-51a5-4754-d138-69b3df887f16"
      },
      "source": [
        "print(df.head())\n",
        "print(df.shape)\n",
        "print(df.shape)"
      ],
      "execution_count": 4,
      "outputs": [
        {
          "output_type": "stream",
          "text": [
            "           X1   X2         X3  ...       X22       X23                           Y\n",
            "ID  LIMIT_BAL  SEX  EDUCATION  ...  PAY_AMT5  PAY_AMT6  default payment next month\n",
            "1       20000    2          2  ...         0         0                           1\n",
            "2      120000    2          2  ...         0      2000                           1\n",
            "3       90000    2          2  ...      1000      5000                           0\n",
            "4       50000    2          2  ...      1069      1000                           0\n",
            "\n",
            "[5 rows x 24 columns]\n",
            "(30001, 24)\n",
            "(30001, 24)\n"
          ],
          "name": "stdout"
        }
      ]
    },
    {
      "cell_type": "code",
      "metadata": {
        "id": "0t-pVJyZTHiw",
        "colab": {
          "base_uri": "https://localhost:8080/"
        },
        "outputId": "6ac256dc-3ac9-41c9-b010-0aff26eb9dd0"
      },
      "source": [
        "print(df.columns)"
      ],
      "execution_count": 5,
      "outputs": [
        {
          "output_type": "stream",
          "text": [
            "Index(['X1', 'X2', 'X3', 'X4', 'X5', 'X6', 'X7', 'X8', 'X9', 'X10', 'X11',\n",
            "       'X12', 'X13', 'X14', 'X15', 'X16', 'X17', 'X18', 'X19', 'X20', 'X21',\n",
            "       'X22', 'X23', 'Y'],\n",
            "      dtype='object')\n"
          ],
          "name": "stdout"
        }
      ]
    },
    {
      "cell_type": "markdown",
      "metadata": {
        "id": "U52cin581rFl"
      },
      "source": [
        "## **3) Prepare Data**"
      ]
    },
    {
      "cell_type": "code",
      "metadata": {
        "id": "_62jfoOVHkXz",
        "colab": {
          "base_uri": "https://localhost:8080/"
        },
        "outputId": "9e4926b5-0347-400f-ca08-ca08e944fa48"
      },
      "source": [
        "df['Y'].value_counts()"
      ],
      "execution_count": 6,
      "outputs": [
        {
          "output_type": "execute_result",
          "data": {
            "text/plain": [
              "0                             23364\n",
              "1                              6636\n",
              "default payment next month        1\n",
              "Name: Y, dtype: int64"
            ]
          },
          "metadata": {
            "tags": []
          },
          "execution_count": 6
        }
      ]
    },
    {
      "cell_type": "code",
      "metadata": {
        "id": "1pShJTstgrU9",
        "colab": {
          "base_uri": "https://localhost:8080/"
        },
        "outputId": "4c8b21ac-a1a8-49c3-d79a-e04a052fb637"
      },
      "source": [
        " x = df.isna().sum()\n",
        " print(x)"
      ],
      "execution_count": 7,
      "outputs": [
        {
          "output_type": "stream",
          "text": [
            "X1     0\n",
            "X2     0\n",
            "X3     0\n",
            "X4     0\n",
            "X5     0\n",
            "X6     0\n",
            "X7     0\n",
            "X8     0\n",
            "X9     0\n",
            "X10    0\n",
            "X11    0\n",
            "X12    0\n",
            "X13    0\n",
            "X14    0\n",
            "X15    0\n",
            "X16    0\n",
            "X17    0\n",
            "X18    0\n",
            "X19    0\n",
            "X20    0\n",
            "X21    0\n",
            "X22    0\n",
            "X23    0\n",
            "Y      0\n",
            "dtype: int64\n"
          ],
          "name": "stdout"
        }
      ]
    },
    {
      "cell_type": "code",
      "metadata": {
        "id": "Y3QIPVSGTzYO"
      },
      "source": [
        "#get labels\n",
        "labels = df.pop('Y')"
      ],
      "execution_count": 8,
      "outputs": []
    },
    {
      "cell_type": "code",
      "metadata": {
        "id": "-uUAXWOs2qkK",
        "colab": {
          "base_uri": "https://localhost:8080/"
        },
        "outputId": "77906a5d-2d75-4536-969c-48a21fa2d0c1"
      },
      "source": [
        "labels_array = labels[1:len(labels)].to_numpy() \n",
        "print(labels_array)\n",
        "labelsv2 = np.vstack(labels_array)\n",
        "print(labelsv2)\n",
        "labels[1:len(labels)].value_counts(normalize=True) * 100"
      ],
      "execution_count": 9,
      "outputs": [
        {
          "output_type": "stream",
          "text": [
            "[1 1 0 ... 1 1 1]\n",
            "[[1]\n",
            " [1]\n",
            " [0]\n",
            " ...\n",
            " [1]\n",
            " [1]\n",
            " [1]]\n"
          ],
          "name": "stdout"
        },
        {
          "output_type": "execute_result",
          "data": {
            "text/plain": [
              "0    77.88\n",
              "1    22.12\n",
              "Name: Y, dtype: float64"
            ]
          },
          "metadata": {
            "tags": []
          },
          "execution_count": 9
        }
      ]
    },
    {
      "cell_type": "code",
      "metadata": {
        "id": "LCQbRYWt2ul9"
      },
      "source": [
        "#Split data\n",
        "X_train, X_test, y_train, y_test =  train_test_split(df[1:len(df)], labelsv2, train_size=0.85, test_size=0.15, random_state=42)"
      ],
      "execution_count": 10,
      "outputs": []
    },
    {
      "cell_type": "code",
      "metadata": {
        "id": "BBUhluf-tqkJ"
      },
      "source": [
        "#Scale Data\n",
        "# Training Data\n",
        "X_train = MinMaxScaler().fit_transform(X_train)\n",
        "\n",
        "# Testing Data\n",
        "X_test = MinMaxScaler().fit_transform(X_test)"
      ],
      "execution_count": 11,
      "outputs": []
    },
    {
      "cell_type": "code",
      "metadata": {
        "id": "epQqGC8P2u_c"
      },
      "source": [
        "#np.save(\"/content/drive/My Drive/Tilburg University/DS&S/Thesis/Google Collab/Default Credit Card Clients/Preset Weights/Data [Preset Weights]/weights_train.npy\",X_train)\n",
        "#np.save(\"/content/drive/My Drive/Tilburg University/DS&S/Thesis/Google Collab/Default Credit Card Clients/Preset Weights/Data [Preset Weights]/weigths_trainlabels.npy\",y_train)\n",
        "#np.save(\"/content/drive/My Drive/Tilburg University/DS&S/Thesis/Google Collab/Default Credit Card Clients/Preset Weights/Data [Preset Weights]/weights_test.npy\",X_test)\n",
        "#np.save(\"/content/drive/My Drive/Tilburg University/DS&S/Thesis/Google Collab/Default Credit Card Clients/Preset Weights/Data [Preset Weights]/weigths_testlabels.npy\",y_test)"
      ],
      "execution_count": 12,
      "outputs": []
    },
    {
      "cell_type": "markdown",
      "metadata": {
        "id": "xKh4xsun6uzh"
      },
      "source": [
        "# **4) Vanilla Decision Tree**"
      ]
    },
    {
      "cell_type": "code",
      "metadata": {
        "id": "DVU6rc2h62XE",
        "colab": {
          "base_uri": "https://localhost:8080/"
        },
        "outputId": "f1785484-27e1-453d-ed9e-c40fe81c38fe"
      },
      "source": [
        "#Create decision tree for specified depth of 5 and 10 \n",
        "model = DecisionTreeClassifier(max_depth=5,random_state=16)\n",
        "model.fit(X_train,y_train)\n",
        "#max_depth=10,"
      ],
      "execution_count": 13,
      "outputs": [
        {
          "output_type": "execute_result",
          "data": {
            "text/plain": [
              "DecisionTreeClassifier(ccp_alpha=0.0, class_weight=None, criterion='gini',\n",
              "                       max_depth=5, max_features=None, max_leaf_nodes=None,\n",
              "                       min_impurity_decrease=0.0, min_impurity_split=None,\n",
              "                       min_samples_leaf=1, min_samples_split=2,\n",
              "                       min_weight_fraction_leaf=0.0, presort='deprecated',\n",
              "                       random_state=16, splitter='best')"
            ]
          },
          "metadata": {
            "tags": []
          },
          "execution_count": 13
        }
      ]
    },
    {
      "cell_type": "code",
      "metadata": {
        "id": "CI_4NZp771fb"
      },
      "source": [
        "res_pred = model.predict(X_test)"
      ],
      "execution_count": 14,
      "outputs": []
    },
    {
      "cell_type": "code",
      "metadata": {
        "id": "9g_IKP-Y73yI",
        "colab": {
          "base_uri": "https://localhost:8080/"
        },
        "outputId": "b0057c93-54a3-4788-aaf0-e69b553451a7"
      },
      "source": [
        "#Get various scores\n",
        "acc = accuracy_score(y_test, res_pred)\n",
        "rec = recall_score(y_test, res_pred,average='macro')\n",
        "prec = precision_score(y_test, res_pred,average='macro')\n",
        "auc = roc_auc_score(y_test,res_pred, average='macro')\n",
        "print('Accuracy:', acc)\n",
        "print('Recall: ', rec)\n",
        "print('Precision:', prec)\n",
        "print('AUC: ', auc)"
      ],
      "execution_count": 15,
      "outputs": [
        {
          "output_type": "stream",
          "text": [
            "Accuracy: 0.8133333333333334\n",
            "Recall:  0.6324518010167381\n",
            "Precision: 0.7544076197402222\n",
            "AUC:  0.6324518010167381\n"
          ],
          "name": "stdout"
        }
      ]
    },
    {
      "cell_type": "markdown",
      "metadata": {
        "id": "2SWOx_Oe-Sb5"
      },
      "source": [
        "# **5) Baseline Model**"
      ]
    },
    {
      "cell_type": "code",
      "metadata": {
        "id": "uzgRNqCV3feO"
      },
      "source": [
        "#Load data for re-run if needed\n",
        "X_train = np.load(\"/content/drive/My Drive/Tilburg University/DS&S/Thesis/Google Collab/Default Credit Card Clients/Preset Weights/Data [Preset Weights]/weights_train.npy\")\n",
        "y_train = np.load(\"/content/drive/My Drive/Tilburg University/DS&S/Thesis/Google Collab/Default Credit Card Clients/Preset Weights/Data [Preset Weights]/weigths_trainlabels.npy\")\n",
        "X_test = np.load(\"/content/drive/My Drive/Tilburg University/DS&S/Thesis/Google Collab/Default Credit Card Clients/Preset Weights/Data [Preset Weights]/weights_test.npy\")\n",
        "y_test = np.load(\"/content/drive/My Drive/Tilburg University/DS&S/Thesis/Google Collab/Default Credit Card Clients/Preset Weights/Data [Preset Weights]/weigths_testlabels.npy\")"
      ],
      "execution_count": 16,
      "outputs": []
    },
    {
      "cell_type": "code",
      "metadata": {
        "id": "uibTWPRb-Xsj"
      },
      "source": [
        "log_X_train = X_train\n",
        "log_y_train = y_train\n",
        "log_X_test = X_test\n",
        "log_y_test = y_test"
      ],
      "execution_count": 17,
      "outputs": []
    },
    {
      "cell_type": "code",
      "metadata": {
        "colab": {
          "base_uri": "https://localhost:8080/"
        },
        "id": "WmxBfspw-g5r",
        "outputId": "79cc4c24-c81b-4969-db11-d6261d66e8b2"
      },
      "source": [
        "#Create Logistic Regression Model\n",
        "logreg = LogisticRegression(max_iter= 3000,random_state=16)\n",
        "logreg.fit(log_X_train,log_y_train)"
      ],
      "execution_count": 18,
      "outputs": [
        {
          "output_type": "stream",
          "text": [
            "/usr/local/lib/python3.6/dist-packages/sklearn/utils/validation.py:760: DataConversionWarning: A column-vector y was passed when a 1d array was expected. Please change the shape of y to (n_samples, ), for example using ravel().\n",
            "  y = column_or_1d(y, warn=True)\n"
          ],
          "name": "stderr"
        },
        {
          "output_type": "execute_result",
          "data": {
            "text/plain": [
              "LogisticRegression(C=1.0, class_weight=None, dual=False, fit_intercept=True,\n",
              "                   intercept_scaling=1, l1_ratio=None, max_iter=3000,\n",
              "                   multi_class='auto', n_jobs=None, penalty='l2',\n",
              "                   random_state=16, solver='lbfgs', tol=0.0001, verbose=0,\n",
              "                   warm_start=False)"
            ]
          },
          "metadata": {
            "tags": []
          },
          "execution_count": 18
        }
      ]
    },
    {
      "cell_type": "code",
      "metadata": {
        "colab": {
          "base_uri": "https://localhost:8080/"
        },
        "id": "iFH1bM2X-mKD",
        "outputId": "02df806b-d128-45ee-9f16-c3b9bd383b99"
      },
      "source": [
        "logit_roc_auc = roc_auc_score(y_test, logreg.predict(X_test))\n",
        "print(logit_roc_auc)"
      ],
      "execution_count": 19,
      "outputs": [
        {
          "output_type": "stream",
          "text": [
            "0.6388397005152686\n"
          ],
          "name": "stdout"
        }
      ]
    },
    {
      "cell_type": "markdown",
      "metadata": {
        "id": "Al2qnRKd2yi1"
      },
      "source": [
        "# **6) Built Neural Network**"
      ]
    },
    {
      "cell_type": "code",
      "metadata": {
        "id": "G0kMNjtQ4G8I",
        "colab": {
          "base_uri": "https://localhost:8080/"
        },
        "outputId": "fd6f8482-ac3b-465b-d731-a1661630811c"
      },
      "source": [
        "print(X_train.shape)\n",
        "print(X_train)\n",
        "print(y_train.shape)\n",
        "X_train = np.asarray(X_train).astype('float32')"
      ],
      "execution_count": 20,
      "outputs": [
        {
          "output_type": "stream",
          "text": [
            "(25500, 23)\n",
            "[[0.02020202 1.         0.33333333 ... 0.00540258 0.0026868  0.        ]\n",
            " [0.16161616 0.         0.66666667 ... 0.         0.01149277 0.01138211]\n",
            " [0.33333333 0.         0.16666667 ... 0.00309179 0.02145458 0.35474245]\n",
            " ...\n",
            " [0.04040404 0.         0.16666667 ... 0.         0.         0.        ]\n",
            " [0.06060606 1.         0.33333333 ... 0.00193237 0.         0.00227642]\n",
            " [0.15151515 1.         0.33333333 ... 0.002657   0.03329199 0.00284553]]\n",
            "(25500, 1)\n"
          ],
          "name": "stdout"
        }
      ]
    },
    {
      "cell_type": "code",
      "metadata": {
        "id": "8-kzt_7Z4IBs",
        "colab": {
          "base_uri": "https://localhost:8080/"
        },
        "outputId": "58e3cc3e-073c-422e-f010-910cf076b9cb"
      },
      "source": [
        "print(X_test.shape)\n",
        "print(y_test.shape)\n",
        "print(y_test)\n",
        "X_test = np.asarray(X_test).astype('float32')"
      ],
      "execution_count": 21,
      "outputs": [
        {
          "output_type": "stream",
          "text": [
            "(4500, 23)\n",
            "(4500, 1)\n",
            "[[0]\n",
            " [0]\n",
            " [0]\n",
            " ...\n",
            " [0]\n",
            " [1]\n",
            " [0]]\n"
          ],
          "name": "stdout"
        }
      ]
    },
    {
      "cell_type": "code",
      "metadata": {
        "id": "7YRyMqblRNPT",
        "colab": {
          "base_uri": "https://localhost:8080/"
        },
        "outputId": "216ead49-f8c7-4003-c3d3-1e17b8f09fb9"
      },
      "source": [
        "y_train = y_train.flatten()\n",
        "print(y_train.shape)"
      ],
      "execution_count": 22,
      "outputs": [
        {
          "output_type": "stream",
          "text": [
            "(25500,)\n"
          ],
          "name": "stdout"
        }
      ]
    },
    {
      "cell_type": "code",
      "metadata": {
        "id": "Q938NkRAQ04N"
      },
      "source": [
        "#Set class weights\n",
        "weight = class_weight.compute_class_weight('balanced', np.unique(y_train), y_train)\n",
        "class_weight_dict = dict(enumerate(weight))"
      ],
      "execution_count": 23,
      "outputs": []
    },
    {
      "cell_type": "code",
      "metadata": {
        "id": "BlVSpppp4JRy",
        "colab": {
          "base_uri": "https://localhost:8080/"
        },
        "outputId": "5290a9ea-d255-4021-99ab-2b123622ea18"
      },
      "source": [
        "#Prepare labels for Neural Network\n",
        "y_train = np.array(keras.utils.to_categorical(y_train))\n",
        "y_test = np.array(keras.utils.to_categorical(y_test))\n",
        "print(y_train.shape)\n",
        "print(y_train[:10])"
      ],
      "execution_count": 24,
      "outputs": [
        {
          "output_type": "stream",
          "text": [
            "(25500, 2)\n",
            "[[1. 0.]\n",
            " [1. 0.]\n",
            " [1. 0.]\n",
            " [1. 0.]\n",
            " [0. 1.]\n",
            " [1. 0.]\n",
            " [1. 0.]\n",
            " [1. 0.]\n",
            " [1. 0.]\n",
            " [1. 0.]]\n"
          ],
          "name": "stdout"
        }
      ]
    },
    {
      "cell_type": "code",
      "metadata": {
        "id": "M2nK12ld4QMx"
      },
      "source": [
        "#Metrics for Neural Network\n",
        "def recall_m(y_true, y_pred):\n",
        "    true_positives = K.sum(K.round(K.clip(y_true * y_pred, 0, 1)))\n",
        "    possible_positives = K.sum(K.round(K.clip(y_true, 0, 1)))\n",
        "    recall = true_positives / (possible_positives + K.epsilon())\n",
        "    return recall\n",
        "\n",
        "def precision_m(y_true, y_pred):\n",
        "    true_positives = K.sum(K.round(K.clip(y_true * y_pred, 0, 1)))\n",
        "    predicted_positives = K.sum(K.round(K.clip(y_pred, 0, 1)))\n",
        "    precision = true_positives / (predicted_positives + K.epsilon())\n",
        "    return precision\n",
        "\n",
        "def f1_m(y_true, y_pred):\n",
        "    precision = precision_m(y_true, y_pred)\n",
        "    recall = recall_m(y_true, y_pred)\n",
        "    return 2*((precision*recall)/(precision+recall+K.epsilon()))\n",
        "\n",
        "val_auc = tf.keras.metrics.AUC()"
      ],
      "execution_count": 25,
      "outputs": []
    },
    {
      "cell_type": "code",
      "metadata": {
        "id": "5WtpdDJm4iH_",
        "colab": {
          "base_uri": "https://localhost:8080/"
        },
        "outputId": "ce091667-3c1f-43ef-bed8-a83d5200b4e9"
      },
      "source": [
        "#Function to built model\n",
        "def build_model():\n",
        "  inputs = layers.Input(shape=(23))\n",
        "\n",
        "  x = layers.Dense(23,activation='relu',name='fc1')(inputs)\n",
        "\n",
        "  x = layers.Dense(20,activation='relu',name='fc2')(x)\n",
        "\n",
        "  x = layers.Dense(10,activation='relu',name='fc3')(x)\n",
        "\n",
        "  x = layers.Dense(2,name='logits')(x)\n",
        "\n",
        "  preds = layers.Activation('softmax',name='Softmax')(x)\n",
        "\n",
        "  model = Model(inputs=inputs, outputs=preds)\n",
        "  model.summary()\n",
        "  return model\n",
        "model = build_model()"
      ],
      "execution_count": 26,
      "outputs": [
        {
          "output_type": "stream",
          "text": [
            "Model: \"functional_1\"\n",
            "_________________________________________________________________\n",
            "Layer (type)                 Output Shape              Param #   \n",
            "=================================================================\n",
            "input_1 (InputLayer)         [(None, 23)]              0         \n",
            "_________________________________________________________________\n",
            "fc1 (Dense)                  (None, 23)                552       \n",
            "_________________________________________________________________\n",
            "fc2 (Dense)                  (None, 20)                480       \n",
            "_________________________________________________________________\n",
            "fc3 (Dense)                  (None, 10)                210       \n",
            "_________________________________________________________________\n",
            "logits (Dense)               (None, 2)                 22        \n",
            "_________________________________________________________________\n",
            "Softmax (Activation)         (None, 2)                 0         \n",
            "=================================================================\n",
            "Total params: 1,264\n",
            "Trainable params: 1,264\n",
            "Non-trainable params: 0\n",
            "_________________________________________________________________\n"
          ],
          "name": "stdout"
        }
      ]
    },
    {
      "cell_type": "code",
      "metadata": {
        "id": "A0nhPqLb4z_V"
      },
      "source": [
        "#Saving best performing model\n",
        "filepath = \"/content/drive/My Drive/Tilburg University/DS&S/Thesis/Google Collab/Default Credit Card Clients/Preset Weights/Preset Models/ModelV6.hdf5\""
      ],
      "execution_count": 27,
      "outputs": []
    },
    {
      "cell_type": "code",
      "metadata": {
        "id": "mZcENUaV4sdl"
      },
      "source": [
        "#Set-up filepath and ModelCheckepoint with Earlystopping to save best performing moddel based on Validation AUC\n",
        "model_checkpoint = ModelCheckpoint(filepath,  monitor='val_auc', save_best_only=True, mode='max')\n",
        "es = EarlyStopping(monitor='val_auc', mode='max', verbose=0, patience=5)\n",
        "model.compile(optimizer=\"adam\", loss=\"categorical_crossentropy\", metrics=['acc',f1_m,precision_m, recall_m,tf.keras.metrics.AUC(name='auc')])"
      ],
      "execution_count": 28,
      "outputs": []
    },
    {
      "cell_type": "code",
      "metadata": {
        "id": "cLkwh5js4v-X",
        "colab": {
          "base_uri": "https://localhost:8080/"
        },
        "outputId": "d1c8e16e-501b-4476-b8e4-2c5cce6a50a3"
      },
      "source": [
        "#Set epochs and bach size, and train model \n",
        "num_epoch = 100\n",
        "batch_size = 64\n",
        "model1 = model.fit(x=X_train, y=y_train, epochs=num_epoch, batch_size=batch_size, validation_split=0.2,callbacks=[model_checkpoint,es])"
      ],
      "execution_count": 29,
      "outputs": [
        {
          "output_type": "stream",
          "text": [
            "Epoch 1/100\n",
            "319/319 [==============================] - 2s 5ms/step - loss: 0.5086 - acc: 0.7855 - f1_m: 0.7855 - precision_m: 0.7855 - recall_m: 0.7855 - auc: 0.8236 - val_loss: 0.4687 - val_acc: 0.8029 - val_f1_m: 0.8028 - val_precision_m: 0.8028 - val_recall_m: 0.8028 - val_auc: 0.8548\n",
            "Epoch 2/100\n",
            "319/319 [==============================] - 1s 2ms/step - loss: 0.4591 - acc: 0.8084 - f1_m: 0.8084 - precision_m: 0.8084 - recall_m: 0.8084 - auc: 0.8590 - val_loss: 0.4580 - val_acc: 0.8104 - val_f1_m: 0.8103 - val_precision_m: 0.8103 - val_recall_m: 0.8103 - val_auc: 0.8617\n",
            "Epoch 3/100\n",
            "319/319 [==============================] - 1s 2ms/step - loss: 0.4509 - acc: 0.8108 - f1_m: 0.8108 - precision_m: 0.8108 - recall_m: 0.8108 - auc: 0.8656 - val_loss: 0.4521 - val_acc: 0.8127 - val_f1_m: 0.8126 - val_precision_m: 0.8126 - val_recall_m: 0.8126 - val_auc: 0.8642\n",
            "Epoch 4/100\n",
            "319/319 [==============================] - 1s 2ms/step - loss: 0.4466 - acc: 0.8140 - f1_m: 0.8139 - precision_m: 0.8139 - recall_m: 0.8139 - auc: 0.8685 - val_loss: 0.4513 - val_acc: 0.8133 - val_f1_m: 0.8132 - val_precision_m: 0.8132 - val_recall_m: 0.8132 - val_auc: 0.8652\n",
            "Epoch 5/100\n",
            "319/319 [==============================] - 1s 2ms/step - loss: 0.4439 - acc: 0.8177 - f1_m: 0.8177 - precision_m: 0.8177 - recall_m: 0.8177 - auc: 0.8701 - val_loss: 0.4549 - val_acc: 0.8120 - val_f1_m: 0.8118 - val_precision_m: 0.8118 - val_recall_m: 0.8118 - val_auc: 0.8655\n",
            "Epoch 6/100\n",
            "319/319 [==============================] - 1s 2ms/step - loss: 0.4426 - acc: 0.8189 - f1_m: 0.8189 - precision_m: 0.8189 - recall_m: 0.8189 - auc: 0.8710 - val_loss: 0.4468 - val_acc: 0.8159 - val_f1_m: 0.8157 - val_precision_m: 0.8157 - val_recall_m: 0.8157 - val_auc: 0.8674\n",
            "Epoch 7/100\n",
            "319/319 [==============================] - 1s 2ms/step - loss: 0.4410 - acc: 0.8196 - f1_m: 0.8196 - precision_m: 0.8196 - recall_m: 0.8196 - auc: 0.8725 - val_loss: 0.4451 - val_acc: 0.8161 - val_f1_m: 0.8159 - val_precision_m: 0.8159 - val_recall_m: 0.8159 - val_auc: 0.8685\n",
            "Epoch 8/100\n",
            "319/319 [==============================] - 1s 2ms/step - loss: 0.4386 - acc: 0.8200 - f1_m: 0.8200 - precision_m: 0.8200 - recall_m: 0.8200 - auc: 0.8743 - val_loss: 0.4456 - val_acc: 0.8155 - val_f1_m: 0.8153 - val_precision_m: 0.8153 - val_recall_m: 0.8153 - val_auc: 0.8680\n",
            "Epoch 9/100\n",
            "319/319 [==============================] - 1s 2ms/step - loss: 0.4372 - acc: 0.8211 - f1_m: 0.8211 - precision_m: 0.8211 - recall_m: 0.8211 - auc: 0.8750 - val_loss: 0.4453 - val_acc: 0.8180 - val_f1_m: 0.8179 - val_precision_m: 0.8179 - val_recall_m: 0.8179 - val_auc: 0.8688\n",
            "Epoch 10/100\n",
            "319/319 [==============================] - 1s 2ms/step - loss: 0.4372 - acc: 0.8204 - f1_m: 0.8205 - precision_m: 0.8205 - recall_m: 0.8205 - auc: 0.8751 - val_loss: 0.4453 - val_acc: 0.8169 - val_f1_m: 0.8167 - val_precision_m: 0.8167 - val_recall_m: 0.8167 - val_auc: 0.8684\n",
            "Epoch 11/100\n",
            "319/319 [==============================] - 1s 2ms/step - loss: 0.4359 - acc: 0.8214 - f1_m: 0.8213 - precision_m: 0.8213 - recall_m: 0.8213 - auc: 0.8762 - val_loss: 0.4451 - val_acc: 0.8161 - val_f1_m: 0.8159 - val_precision_m: 0.8159 - val_recall_m: 0.8159 - val_auc: 0.8686\n",
            "Epoch 12/100\n",
            "319/319 [==============================] - 1s 2ms/step - loss: 0.4340 - acc: 0.8215 - f1_m: 0.8215 - precision_m: 0.8215 - recall_m: 0.8215 - auc: 0.8778 - val_loss: 0.4434 - val_acc: 0.8173 - val_f1_m: 0.8171 - val_precision_m: 0.8171 - val_recall_m: 0.8171 - val_auc: 0.8708\n",
            "Epoch 13/100\n",
            "319/319 [==============================] - 1s 2ms/step - loss: 0.4337 - acc: 0.8214 - f1_m: 0.8213 - precision_m: 0.8213 - recall_m: 0.8213 - auc: 0.8781 - val_loss: 0.4442 - val_acc: 0.8167 - val_f1_m: 0.8165 - val_precision_m: 0.8165 - val_recall_m: 0.8165 - val_auc: 0.8708\n",
            "Epoch 14/100\n",
            "319/319 [==============================] - 1s 2ms/step - loss: 0.4329 - acc: 0.8213 - f1_m: 0.8213 - precision_m: 0.8213 - recall_m: 0.8213 - auc: 0.8789 - val_loss: 0.4433 - val_acc: 0.8184 - val_f1_m: 0.8183 - val_precision_m: 0.8183 - val_recall_m: 0.8183 - val_auc: 0.8714\n",
            "Epoch 15/100\n",
            "319/319 [==============================] - 1s 2ms/step - loss: 0.4323 - acc: 0.8213 - f1_m: 0.8213 - precision_m: 0.8213 - recall_m: 0.8213 - auc: 0.8791 - val_loss: 0.4422 - val_acc: 0.8178 - val_f1_m: 0.8177 - val_precision_m: 0.8177 - val_recall_m: 0.8177 - val_auc: 0.8720\n",
            "Epoch 16/100\n",
            "319/319 [==============================] - 1s 2ms/step - loss: 0.4317 - acc: 0.8227 - f1_m: 0.8228 - precision_m: 0.8228 - recall_m: 0.8228 - auc: 0.8791 - val_loss: 0.4432 - val_acc: 0.8175 - val_f1_m: 0.8173 - val_precision_m: 0.8173 - val_recall_m: 0.8173 - val_auc: 0.8720\n",
            "Epoch 17/100\n",
            "319/319 [==============================] - 1s 2ms/step - loss: 0.4307 - acc: 0.8225 - f1_m: 0.8225 - precision_m: 0.8225 - recall_m: 0.8225 - auc: 0.8800 - val_loss: 0.4416 - val_acc: 0.8171 - val_f1_m: 0.8169 - val_precision_m: 0.8169 - val_recall_m: 0.8169 - val_auc: 0.8734\n",
            "Epoch 18/100\n",
            "319/319 [==============================] - 1s 2ms/step - loss: 0.4313 - acc: 0.8227 - f1_m: 0.8228 - precision_m: 0.8228 - recall_m: 0.8228 - auc: 0.8796 - val_loss: 0.4423 - val_acc: 0.8167 - val_f1_m: 0.8166 - val_precision_m: 0.8166 - val_recall_m: 0.8166 - val_auc: 0.8722\n",
            "Epoch 19/100\n",
            "319/319 [==============================] - 1s 2ms/step - loss: 0.4306 - acc: 0.8223 - f1_m: 0.8223 - precision_m: 0.8223 - recall_m: 0.8223 - auc: 0.8804 - val_loss: 0.4433 - val_acc: 0.8176 - val_f1_m: 0.8176 - val_precision_m: 0.8176 - val_recall_m: 0.8176 - val_auc: 0.8727\n",
            "Epoch 20/100\n",
            "319/319 [==============================] - 1s 2ms/step - loss: 0.4298 - acc: 0.8216 - f1_m: 0.8215 - precision_m: 0.8215 - recall_m: 0.8215 - auc: 0.8807 - val_loss: 0.4394 - val_acc: 0.8184 - val_f1_m: 0.8183 - val_precision_m: 0.8183 - val_recall_m: 0.8183 - val_auc: 0.8738\n",
            "Epoch 21/100\n",
            "319/319 [==============================] - 1s 2ms/step - loss: 0.4295 - acc: 0.8222 - f1_m: 0.8223 - precision_m: 0.8223 - recall_m: 0.8223 - auc: 0.8809 - val_loss: 0.4395 - val_acc: 0.8188 - val_f1_m: 0.8186 - val_precision_m: 0.8186 - val_recall_m: 0.8186 - val_auc: 0.8737\n",
            "Epoch 22/100\n",
            "319/319 [==============================] - 1s 2ms/step - loss: 0.4283 - acc: 0.8236 - f1_m: 0.8237 - precision_m: 0.8237 - recall_m: 0.8237 - auc: 0.8816 - val_loss: 0.4429 - val_acc: 0.8184 - val_f1_m: 0.8183 - val_precision_m: 0.8183 - val_recall_m: 0.8183 - val_auc: 0.8732\n",
            "Epoch 23/100\n",
            "319/319 [==============================] - 1s 2ms/step - loss: 0.4292 - acc: 0.8226 - f1_m: 0.8226 - precision_m: 0.8226 - recall_m: 0.8226 - auc: 0.8811 - val_loss: 0.4384 - val_acc: 0.8196 - val_f1_m: 0.8194 - val_precision_m: 0.8194 - val_recall_m: 0.8194 - val_auc: 0.8747\n",
            "Epoch 24/100\n",
            "319/319 [==============================] - 1s 2ms/step - loss: 0.4285 - acc: 0.8217 - f1_m: 0.8217 - precision_m: 0.8217 - recall_m: 0.8217 - auc: 0.8816 - val_loss: 0.4393 - val_acc: 0.8178 - val_f1_m: 0.8177 - val_precision_m: 0.8177 - val_recall_m: 0.8177 - val_auc: 0.8736\n",
            "Epoch 25/100\n",
            "319/319 [==============================] - 1s 2ms/step - loss: 0.4276 - acc: 0.8223 - f1_m: 0.8224 - precision_m: 0.8224 - recall_m: 0.8224 - auc: 0.8824 - val_loss: 0.4438 - val_acc: 0.8188 - val_f1_m: 0.8187 - val_precision_m: 0.8187 - val_recall_m: 0.8187 - val_auc: 0.8720\n",
            "Epoch 26/100\n",
            "319/319 [==============================] - 1s 2ms/step - loss: 0.4290 - acc: 0.8229 - f1_m: 0.8229 - precision_m: 0.8229 - recall_m: 0.8229 - auc: 0.8813 - val_loss: 0.4410 - val_acc: 0.8182 - val_f1_m: 0.8181 - val_precision_m: 0.8181 - val_recall_m: 0.8181 - val_auc: 0.8731\n",
            "Epoch 27/100\n",
            "319/319 [==============================] - 1s 2ms/step - loss: 0.4273 - acc: 0.8230 - f1_m: 0.8229 - precision_m: 0.8229 - recall_m: 0.8229 - auc: 0.8824 - val_loss: 0.4397 - val_acc: 0.8180 - val_f1_m: 0.8179 - val_precision_m: 0.8179 - val_recall_m: 0.8179 - val_auc: 0.8736\n",
            "Epoch 28/100\n",
            "319/319 [==============================] - 1s 2ms/step - loss: 0.4279 - acc: 0.8229 - f1_m: 0.8229 - precision_m: 0.8229 - recall_m: 0.8229 - auc: 0.8824 - val_loss: 0.4438 - val_acc: 0.8186 - val_f1_m: 0.8184 - val_precision_m: 0.8184 - val_recall_m: 0.8184 - val_auc: 0.8735\n"
          ],
          "name": "stdout"
        }
      ]
    },
    {
      "cell_type": "code",
      "metadata": {
        "id": "KWdQFUmS5cd5",
        "colab": {
          "base_uri": "https://localhost:8080/"
        },
        "outputId": "eb34ac18-7575-445e-cd0d-4bfd389263f6"
      },
      "source": [
        "#Train Performance\n",
        "prediction_model = tf.keras.models.load_model(filepath, custom_objects={'f1_m':f1_m,'precision_m':precision_m, 'recall_m':recall_m, 'auc': tf.keras.metrics.AUC() }) \n",
        "loss, accuracy, f1_score, precision, recall, auc = prediction_model.evaluate(X_train, y_train, verbose=0, batch_size=64)\n",
        "\n",
        "print('Train Accuracy:',accuracy)\n",
        "print('Train Recall:',recall)\n",
        "print('Train Precision:',precision)\n",
        "print('Train F1:',f1_score)\n",
        "print('Train AUC:',auc)\n",
        "prediction_model.summary()"
      ],
      "execution_count": 30,
      "outputs": [
        {
          "output_type": "stream",
          "text": [
            "Train Accuracy: 0.8226274251937866\n",
            "Train Recall: 0.8225250840187073\n",
            "Train Precision: 0.8225250840187073\n",
            "Train F1: 0.8225249648094177\n",
            "Train AUC: 0.8819910287857056\n",
            "Model: \"functional_1\"\n",
            "_________________________________________________________________\n",
            "Layer (type)                 Output Shape              Param #   \n",
            "=================================================================\n",
            "input_1 (InputLayer)         [(None, 23)]              0         \n",
            "_________________________________________________________________\n",
            "fc1 (Dense)                  (None, 23)                552       \n",
            "_________________________________________________________________\n",
            "fc2 (Dense)                  (None, 20)                480       \n",
            "_________________________________________________________________\n",
            "fc3 (Dense)                  (None, 10)                210       \n",
            "_________________________________________________________________\n",
            "logits (Dense)               (None, 2)                 22        \n",
            "_________________________________________________________________\n",
            "Softmax (Activation)         (None, 2)                 0         \n",
            "=================================================================\n",
            "Total params: 1,264\n",
            "Trainable params: 1,264\n",
            "Non-trainable params: 0\n",
            "_________________________________________________________________\n"
          ],
          "name": "stdout"
        }
      ]
    },
    {
      "cell_type": "code",
      "metadata": {
        "id": "NTRyr7HtIlFZ",
        "colab": {
          "base_uri": "https://localhost:8080/"
        },
        "outputId": "f7a72ee1-b3b3-4294-c69a-a010a192b856"
      },
      "source": [
        "#Test Performance\n",
        "#filepath = \"/content/drive/My Drive/Tilburg University/DS&S/Thesis/Google Collab/Default Credit Card Clients/CC Models/ModelV4.hdf5\"\n",
        "loss, accuracy, f1_score, precision, recall, auc = prediction_model.evaluate(X_test, y_test, verbose=0, batch_size=64)\n",
        "\n",
        "print('Test Accuracy:',accuracy)\n",
        "print('Test Recall:',recall)\n",
        "print('Test Precision:',precision)\n",
        "print('Test F1:',f1_score)\n",
        "print('Test AUC:',auc)\n",
        "prediction_model.summary()"
      ],
      "execution_count": 31,
      "outputs": [
        {
          "output_type": "stream",
          "text": [
            "Test Accuracy: 0.804888904094696\n",
            "Test Recall: 0.8053256869316101\n",
            "Test Precision: 0.8053256869316101\n",
            "Test F1: 0.8053256273269653\n",
            "Test AUC: 0.8738144636154175\n",
            "Model: \"functional_1\"\n",
            "_________________________________________________________________\n",
            "Layer (type)                 Output Shape              Param #   \n",
            "=================================================================\n",
            "input_1 (InputLayer)         [(None, 23)]              0         \n",
            "_________________________________________________________________\n",
            "fc1 (Dense)                  (None, 23)                552       \n",
            "_________________________________________________________________\n",
            "fc2 (Dense)                  (None, 20)                480       \n",
            "_________________________________________________________________\n",
            "fc3 (Dense)                  (None, 10)                210       \n",
            "_________________________________________________________________\n",
            "logits (Dense)               (None, 2)                 22        \n",
            "_________________________________________________________________\n",
            "Softmax (Activation)         (None, 2)                 0         \n",
            "=================================================================\n",
            "Total params: 1,264\n",
            "Trainable params: 1,264\n",
            "Non-trainable params: 0\n",
            "_________________________________________________________________\n"
          ],
          "name": "stdout"
        }
      ]
    },
    {
      "cell_type": "code",
      "metadata": {
        "id": "jpNkJhaHBzIk",
        "colab": {
          "base_uri": "https://localhost:8080/"
        },
        "outputId": "dff27c0f-3f64-436b-e082-b6e57bea5cac"
      },
      "source": [
        "#Best Performance\n",
        "best_filepath = \"/content/drive/My Drive/Tilburg University/DS&S/Thesis/Google Collab/Default Credit Card Clients/Preset Weights/Preset Models/ModelV2.hdf5\"\n",
        "best_model = tf.keras.models.load_model(best_filepath, custom_objects={'f1_m':f1_m,'precision_m':precision_m, 'recall_m':recall_m, 'auc': tf.keras.metrics.AUC() }) \n",
        "loss, accuracy, f1_score, precision, recall, auc = best_model.evaluate(X_test, y_test, verbose=0, batch_size=64)\n",
        "\n",
        "#print('Best Accuracy:',accuracy)\n",
        "#print('Best Recall:',recall)\n",
        "#print('Best Precision:',precision)\n",
        "#print('Best F1:',f1_score)\n",
        "print('Best AUC:',auc)\n",
        "best_model.summary()"
      ],
      "execution_count": 32,
      "outputs": [
        {
          "output_type": "stream",
          "text": [
            "Best AUC: 0.8760309815406799\n",
            "Model: \"functional_3\"\n",
            "_________________________________________________________________\n",
            "Layer (type)                 Output Shape              Param #   \n",
            "=================================================================\n",
            "input_2 (InputLayer)         [(None, 23)]              0         \n",
            "_________________________________________________________________\n",
            "fc1 (Dense)                  (None, 23)                552       \n",
            "_________________________________________________________________\n",
            "fc2 (Dense)                  (None, 20)                480       \n",
            "_________________________________________________________________\n",
            "fc3 (Dense)                  (None, 10)                210       \n",
            "_________________________________________________________________\n",
            "logits (Dense)               (None, 2)                 22        \n",
            "_________________________________________________________________\n",
            "Softmax (Activation)         (None, 2)                 0         \n",
            "=================================================================\n",
            "Total params: 1,264\n",
            "Trainable params: 1,264\n",
            "Non-trainable params: 0\n",
            "_________________________________________________________________\n"
          ],
          "name": "stdout"
        }
      ]
    },
    {
      "cell_type": "markdown",
      "metadata": {
        "id": "7c3oO2hy5jBU"
      },
      "source": [
        "# **7) Generate Soft Targets**"
      ]
    },
    {
      "cell_type": "code",
      "metadata": {
        "id": "bUI1rGez5xYl"
      },
      "source": [
        "#Load the best model\n",
        "model = tf.keras.models.load_model(best_filepath, custom_objects={'f1_m':f1_m,'precision_m':precision_m, 'recall_m':recall_m}) "
      ],
      "execution_count": 33,
      "outputs": []
    },
    {
      "cell_type": "code",
      "metadata": {
        "id": "-UxuewfA5-zO",
        "colab": {
          "base_uri": "https://localhost:8080/"
        },
        "outputId": "b68f9f65-3bc5-4aa4-9554-9fa0cc7e38bc"
      },
      "source": [
        "#Compile it again\n",
        "model.compile(optimizer=\"adam\", loss=\"categorical_crossentropy\", metrics=['acc',f1_m,precision_m, recall_m,tf.keras.metrics.AUC()])\n",
        "model.summary()"
      ],
      "execution_count": 34,
      "outputs": [
        {
          "output_type": "stream",
          "text": [
            "Model: \"functional_3\"\n",
            "_________________________________________________________________\n",
            "Layer (type)                 Output Shape              Param #   \n",
            "=================================================================\n",
            "input_2 (InputLayer)         [(None, 23)]              0         \n",
            "_________________________________________________________________\n",
            "fc1 (Dense)                  (None, 23)                552       \n",
            "_________________________________________________________________\n",
            "fc2 (Dense)                  (None, 20)                480       \n",
            "_________________________________________________________________\n",
            "fc3 (Dense)                  (None, 10)                210       \n",
            "_________________________________________________________________\n",
            "logits (Dense)               (None, 2)                 22        \n",
            "_________________________________________________________________\n",
            "Softmax (Activation)         (None, 2)                 0         \n",
            "=================================================================\n",
            "Total params: 1,264\n",
            "Trainable params: 1,264\n",
            "Non-trainable params: 0\n",
            "_________________________________________________________________\n"
          ],
          "name": "stdout"
        }
      ]
    },
    {
      "cell_type": "code",
      "metadata": {
        "id": "uUy4v4Q-6RUa"
      },
      "source": [
        "#Remove last softmax layer and predict again\n",
        "model_sans_softmax = Model(inputs=model.input, outputs=model.get_layer(\"logits\").output)\n",
        "model_logits = model_sans_softmax.predict(X_train)"
      ],
      "execution_count": 35,
      "outputs": []
    },
    {
      "cell_type": "code",
      "metadata": {
        "id": "rG2_we4G6bbc"
      },
      "source": [
        "#Get the logits\n",
        "soft_targets = model_logits"
      ],
      "execution_count": 36,
      "outputs": []
    },
    {
      "cell_type": "code",
      "metadata": {
        "id": "v6PCTR7C-uZm"
      },
      "source": [
        "#Save if needed for later use\n",
        "#np.save(\"/content/drive/My Drive/Tilburg University/DS&S/Thesis/Google Collab/Default Credit Card Clients/Preset Weights/Data [Preset Weights]/weights_Logits.npy\", model_logits)"
      ],
      "execution_count": 37,
      "outputs": []
    },
    {
      "cell_type": "markdown",
      "metadata": {
        "id": "6Y7D05QU_oEk"
      },
      "source": [
        "# **8) Knowledge Distillation Decision Tree**\n"
      ]
    },
    {
      "cell_type": "code",
      "metadata": {
        "id": "NIs6XBb3_3si"
      },
      "source": [
        "#Set up Decision Tree for Knowledge Distillation at given depth \n",
        "model = DecisionTreeRegressor(max_depth=10)"
      ],
      "execution_count": 38,
      "outputs": []
    },
    {
      "cell_type": "code",
      "metadata": {
        "id": "UMJPvtYI_4xB",
        "colab": {
          "base_uri": "https://localhost:8080/"
        },
        "outputId": "9f472cc8-6ad3-4e67-9e2f-40d0f938df15"
      },
      "source": [
        "#Train Decision Tree\n",
        "model.fit(X_train,soft_targets)"
      ],
      "execution_count": 39,
      "outputs": [
        {
          "output_type": "execute_result",
          "data": {
            "text/plain": [
              "DecisionTreeRegressor(ccp_alpha=0.0, criterion='mse', max_depth=10,\n",
              "                      max_features=None, max_leaf_nodes=None,\n",
              "                      min_impurity_decrease=0.0, min_impurity_split=None,\n",
              "                      min_samples_leaf=1, min_samples_split=2,\n",
              "                      min_weight_fraction_leaf=0.0, presort='deprecated',\n",
              "                      random_state=None, splitter='best')"
            ]
          },
          "metadata": {
            "tags": []
          },
          "execution_count": 39
        }
      ]
    },
    {
      "cell_type": "code",
      "metadata": {
        "id": "ptYL2NEH__Si"
      },
      "source": [
        "#Get predictions\n",
        "res_pred = model.predict(X_test)"
      ],
      "execution_count": 40,
      "outputs": []
    },
    {
      "cell_type": "code",
      "metadata": {
        "id": "UYMEDLHyAEHD"
      },
      "source": [
        "# Apply softmax function to output of Decision Tree\n",
        "pred_argmax = np.zeros_like(res_pred)\n",
        "pred_argmax[np.arange(len(res_pred)), res_pred.argmax(1)] = 1 "
      ],
      "execution_count": 41,
      "outputs": []
    },
    {
      "cell_type": "code",
      "metadata": {
        "id": "2T_XADvNAOLn",
        "colab": {
          "base_uri": "https://localhost:8080/"
        },
        "outputId": "ba89671e-88c2-43ae-b901-aa09b3fa1110"
      },
      "source": [
        "#Get scores of student decision tree\n",
        "acc = accuracy_score(pred_argmax,y_test)\n",
        "rec = recall_score(y_test, pred_argmax,average='macro')\n",
        "prec = precision_score(y_test, pred_argmax,average='macro')\n",
        "auc = roc_auc_score(y_test, pred_argmax,average='macro')\n",
        "print('Accuracy:', acc)\n",
        "print('Recall: ', rec)\n",
        "print('Precision:', prec)\n",
        "print('AUC: ', auc)"
      ],
      "execution_count": 42,
      "outputs": [
        {
          "output_type": "stream",
          "text": [
            "Accuracy: 0.8153333333333334\n",
            "Recall:  0.6614695518819578\n",
            "Precision: 0.7427161956221747\n",
            "AUC:  0.6614695518819578\n"
          ],
          "name": "stdout"
        }
      ]
    }
  ]
}